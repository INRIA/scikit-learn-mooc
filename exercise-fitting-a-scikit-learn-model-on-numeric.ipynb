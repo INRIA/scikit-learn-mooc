{
 "cells": [
  {
   "cell_type": "code",
   "execution_count": 1,
   "id": "ba9cc97f",
   "metadata": {
    "_cell_guid": "b1076dfc-b9ad-4769-8c92-a6c4dae69d19",
    "_uuid": "8f2839f25d086af736a60e9eeb907d3b93b6e0e5",
    "execution": {
     "iopub.execute_input": "2022-03-27T06:55:27.229092Z",
     "iopub.status.busy": "2022-03-27T06:55:27.227115Z",
     "iopub.status.idle": "2022-03-27T06:55:27.254390Z",
     "shell.execute_reply": "2022-03-27T06:55:27.257257Z",
     "shell.execute_reply.started": "2022-03-27T06:47:10.612551Z"
    },
    "papermill": {
     "duration": 0.094662,
     "end_time": "2022-03-27T06:55:27.257654",
     "exception": false,
     "start_time": "2022-03-27T06:55:27.162992",
     "status": "completed"
    },
    "tags": []
   },
   "outputs": [
    {
     "name": "stdout",
     "output_type": "stream",
     "text": [
      "/kaggle/input/adultcensus/adult-census.csv\n",
      "/kaggle/input/adultcensus/adult-census-numeric-test.csv\n",
      "/kaggle/input/adult-census-numeric/adult-census-numeric.csv\n"
     ]
    }
   ],
   "source": [
    "# This Python 3 environment comes with many helpful analytics libraries installed\n",
    "# It is defined by the kaggle/python Docker image: https://github.com/kaggle/docker-python\n",
    "# For example, here's several helpful packages to load\n",
    "\n",
    "import numpy as np # linear algebra\n",
    "import pandas as pd # data processing, CSV file I/O (e.g. pd.read_csv)\n",
    "\n",
    "# Input data files are available in the read-only \"../input/\" directory\n",
    "# For example, running this (by clicking run or pressing Shift+Enter) will list all files under the input directory\n",
    "\n",
    "import os\n",
    "for dirname, _, filenames in os.walk('/kaggle/input'):\n",
    "    for filename in filenames:\n",
    "        print(os.path.join(dirname, filename))\n",
    "\n",
    "# You can write up to 20GB to the current directory (/kaggle/working/) that gets preserved as output when you create a version using \"Save & Run All\" \n",
    "# You can also write temporary files to /kaggle/temp/, but they won't be saved outside of the current session"
   ]
  },
  {
   "cell_type": "code",
   "execution_count": 2,
   "id": "b67bcaca",
   "metadata": {
    "execution": {
     "iopub.execute_input": "2022-03-27T06:55:27.342962Z",
     "iopub.status.busy": "2022-03-27T06:55:27.341996Z",
     "iopub.status.idle": "2022-03-27T06:55:27.429537Z",
     "shell.execute_reply": "2022-03-27T06:55:27.428196Z",
     "shell.execute_reply.started": "2022-03-27T06:47:10.631915Z"
    },
    "papermill": {
     "duration": 0.131876,
     "end_time": "2022-03-27T06:55:27.429724",
     "exception": false,
     "start_time": "2022-03-27T06:55:27.297848",
     "status": "completed"
    },
    "tags": []
   },
   "outputs": [],
   "source": [
    "import pandas as pd\n",
    "adult_census = pd.read_csv(\"../input/adult-census-numeric/adult-census-numeric.csv\")\n",
    "data = adult_census.drop(columns=\"class\")\n",
    "target = adult_census[\"class\"]"
   ]
  },
  {
   "cell_type": "code",
   "execution_count": 3,
   "id": "cefdde74",
   "metadata": {
    "execution": {
     "iopub.execute_input": "2022-03-27T06:55:27.511222Z",
     "iopub.status.busy": "2022-03-27T06:55:27.502839Z",
     "iopub.status.idle": "2022-03-27T06:55:28.894018Z",
     "shell.execute_reply": "2022-03-27T06:55:28.893052Z",
     "shell.execute_reply.started": "2022-03-27T06:47:10.665938Z"
    },
    "papermill": {
     "duration": 1.430403,
     "end_time": "2022-03-27T06:55:28.894165",
     "exception": false,
     "start_time": "2022-03-27T06:55:27.463762",
     "status": "completed"
    },
    "tags": []
   },
   "outputs": [],
   "source": [
    "from sklearn.neighbors import KNeighborsClassifier\n",
    "model = KNeighborsClassifier(n_neighbors=50)"
   ]
  },
  {
   "cell_type": "code",
   "execution_count": 4,
   "id": "e7e40a07",
   "metadata": {
    "execution": {
     "iopub.execute_input": "2022-03-27T06:55:28.956903Z",
     "iopub.status.busy": "2022-03-27T06:55:28.955851Z",
     "iopub.status.idle": "2022-03-27T06:55:29.022633Z",
     "shell.execute_reply": "2022-03-27T06:55:29.022060Z",
     "shell.execute_reply.started": "2022-03-27T06:47:10.694204Z"
    },
    "papermill": {
     "duration": 0.113841,
     "end_time": "2022-03-27T06:55:29.022761",
     "exception": false,
     "start_time": "2022-03-27T06:55:28.908920",
     "status": "completed"
    },
    "tags": []
   },
   "outputs": [
    {
     "data": {
      "text/plain": [
       "KNeighborsClassifier(n_neighbors=50)"
      ]
     },
     "execution_count": 4,
     "metadata": {},
     "output_type": "execute_result"
    }
   ],
   "source": [
    "model.fit(data, target)"
   ]
  },
  {
   "cell_type": "code",
   "execution_count": 5,
   "id": "5a05e16d",
   "metadata": {
    "execution": {
     "iopub.execute_input": "2022-03-27T06:55:29.052316Z",
     "iopub.status.busy": "2022-03-27T06:55:29.051253Z",
     "iopub.status.idle": "2022-03-27T06:55:29.059582Z",
     "shell.execute_reply": "2022-03-27T06:55:29.058999Z",
     "shell.execute_reply.started": "2022-03-27T06:47:10.785841Z"
    },
    "papermill": {
     "duration": 0.025782,
     "end_time": "2022-03-27T06:55:29.059708",
     "exception": false,
     "start_time": "2022-03-27T06:55:29.033926",
     "status": "completed"
    },
    "tags": []
   },
   "outputs": [
    {
     "data": {
      "text/plain": [
       "array([' <=50K', ' <=50K', ' <=50K', ' <=50K', ' <=50K', ' <=50K',\n",
       "       ' <=50K', ' >50K', ' <=50K', ' <=50K'], dtype=object)"
      ]
     },
     "execution_count": 5,
     "metadata": {},
     "output_type": "execute_result"
    }
   ],
   "source": [
    "first_data_values = data.iloc[:10]\n",
    "first_predictions = model.predict(first_data_values)\n",
    "first_predictions"
   ]
  },
  {
   "cell_type": "code",
   "execution_count": 6,
   "id": "d9b3cae4",
   "metadata": {
    "execution": {
     "iopub.execute_input": "2022-03-27T06:55:29.089006Z",
     "iopub.status.busy": "2022-03-27T06:55:29.088106Z",
     "iopub.status.idle": "2022-03-27T06:55:29.091966Z",
     "shell.execute_reply": "2022-03-27T06:55:29.092563Z",
     "shell.execute_reply.started": "2022-03-27T06:47:10.822121Z"
    },
    "papermill": {
     "duration": 0.021633,
     "end_time": "2022-03-27T06:55:29.092719",
     "exception": false,
     "start_time": "2022-03-27T06:55:29.071086",
     "status": "completed"
    },
    "tags": []
   },
   "outputs": [
    {
     "name": "stdout",
     "output_type": "stream",
     "text": [
      "9/10 of predictions are correct\n"
     ]
    }
   ],
   "source": [
    "first_target_values = target.iloc[:10]\n",
    "\n",
    "number_of_correct_predictions = (\n",
    "    first_predictions == first_target_values).sum()\n",
    "number_of_predictions = len(first_predictions)\n",
    "print(\n",
    "    f\"{number_of_correct_predictions}/{number_of_predictions} \"\n",
    "    \"of predictions are correct\")"
   ]
  },
  {
   "cell_type": "code",
   "execution_count": 7,
   "id": "b41aed3e",
   "metadata": {
    "execution": {
     "iopub.execute_input": "2022-03-27T06:55:29.123041Z",
     "iopub.status.busy": "2022-03-27T06:55:29.120068Z",
     "iopub.status.idle": "2022-03-27T06:55:33.233516Z",
     "shell.execute_reply": "2022-03-27T06:55:33.234197Z",
     "shell.execute_reply.started": "2022-03-27T06:47:41.548816Z"
    },
    "papermill": {
     "duration": 4.129883,
     "end_time": "2022-03-27T06:55:33.234420",
     "exception": false,
     "start_time": "2022-03-27T06:55:29.104537",
     "status": "completed"
    },
    "tags": []
   },
   "outputs": [
    {
     "data": {
      "text/plain": [
       "0.8290379545978042"
      ]
     },
     "execution_count": 7,
     "metadata": {},
     "output_type": "execute_result"
    }
   ],
   "source": [
    "model.score(data, target)"
   ]
  },
  {
   "cell_type": "code",
   "execution_count": 8,
   "id": "25848657",
   "metadata": {
    "execution": {
     "iopub.execute_input": "2022-03-27T06:55:33.265744Z",
     "iopub.status.busy": "2022-03-27T06:55:33.262605Z",
     "iopub.status.idle": "2022-03-27T06:55:34.308879Z",
     "shell.execute_reply": "2022-03-27T06:55:34.308128Z",
     "shell.execute_reply.started": "2022-03-27T06:53:13.601817Z"
    },
    "papermill": {
     "duration": 1.061432,
     "end_time": "2022-03-27T06:55:34.309085",
     "exception": false,
     "start_time": "2022-03-27T06:55:33.247653",
     "status": "completed"
    },
    "tags": []
   },
   "outputs": [
    {
     "data": {
      "text/plain": [
       "0.8177909714402702"
      ]
     },
     "execution_count": 8,
     "metadata": {},
     "output_type": "execute_result"
    }
   ],
   "source": [
    "df_test = pd.read_csv(\"../input/adultcensus/adult-census-numeric-test.csv\")\n",
    "\n",
    "data_test = df_test.drop(columns=\"class\")\n",
    "target_test = df_test[\"class\"]\n",
    "\n",
    "model.score(data_test, target_test)"
   ]
  },
  {
   "cell_type": "markdown",
   "id": "31f98cb1",
   "metadata": {
    "papermill": {
     "duration": 0.012537,
     "end_time": "2022-03-27T06:55:34.335392",
     "exception": false,
     "start_time": "2022-03-27T06:55:34.322855",
     "status": "completed"
    },
    "tags": []
   },
   "source": [
    "* The accuracy seems higher at n_neighbours = 50"
   ]
  }
 ],
 "metadata": {
  "kernelspec": {
   "display_name": "Python 3",
   "language": "python",
   "name": "python3"
  },
  "language_info": {
   "codemirror_mode": {
    "name": "ipython",
    "version": 3
   },
   "file_extension": ".py",
   "mimetype": "text/x-python",
   "name": "python",
   "nbconvert_exporter": "python",
   "pygments_lexer": "ipython3",
   "version": "3.7.12"
  },
  "papermill": {
   "default_parameters": {},
   "duration": 17.758615,
   "end_time": "2022-03-27T06:55:34.857513",
   "environment_variables": {},
   "exception": null,
   "input_path": "__notebook__.ipynb",
   "output_path": "__notebook__.ipynb",
   "parameters": {},
   "start_time": "2022-03-27T06:55:17.098898",
   "version": "2.3.3"
  }
 },
 "nbformat": 4,
 "nbformat_minor": 5
}
