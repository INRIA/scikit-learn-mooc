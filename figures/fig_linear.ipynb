{
 "cells": [
  {
   "cell_type": "code",
   "execution_count": 13,
   "metadata": {},
   "outputs": [],
   "source": [
    "import numpy as np\n",
    "\n",
    "from sklearn import datasets, linear_model, svm\n",
    "import matplotlib.pyplot as plt\n",
    "import style_figs"
   ]
  },
  {
   "cell_type": "code",
   "execution_count": 25,
   "metadata": {},
   "outputs": [
    {
     "data": {
      "image/png": "[encoded data removed]",
      "text/plain": [
       "<Figure size 288x216 with 1 Axes>"
      ]
     },
     "metadata": {},
     "output_type": "display_data"
    }
   ],
   "source": [
    "\n",
    "# data generation\n",
    "np.random.seed(0)\n",
    "n_sample = 20\n",
    "x = np.random.rand(n_sample)\n",
    "noise = np.random.randn(n_sample) * .3\n",
    "y = 2*x + noise\n",
    "\n",
    "# fig: linear_data\n",
    "plt.figure(figsize = (4,3))\n",
    "plt.scatter(x,y,  color='k', s=9)\n",
    "\n",
    "plt.axis('tight')\n",
    "style_figs.light_axis()\n",
    "plt.ylabel('y', size=16, weight=600)\n",
    "plt.xlabel('x', size=16, weight=600)\n",
    "plt.savefig('linear_data.svg', facecolor='none', edgecolor='none')"
   ]
  },
  {
   "cell_type": "code",
   "execution_count": 26,
   "metadata": {},
   "outputs": [
    {
     "data": {
      "image/png": "[encoded data removed]",
      "text/plain": [
       "<Figure size 288x216 with 1 Axes>"
      ]
     },
     "metadata": {},
     "output_type": "display_data"
    }
   ],
   "source": [
    "# fit linear regression\n",
    "\n",
    "lr = linear_model.LinearRegression()\n",
    "lr.fit(x.reshape(-1,1),y)\n",
    "grid = np.linspace(0,1, 300)\n",
    "y_hat = lr.predict(grid.reshape(-1, 1))\n",
    "\n",
    "# fig: linear_fit\n",
    "\n",
    "plt.figure(figsize = (4,3))\n",
    "# plt.axis('tight')\n",
    "style_figs.light_axis()\n",
    "plt.ylabel('y', size=16, weight=600)\n",
    "plt.xlabel('x', size=16, weight=600)\n",
    "plt.scatter(x,y,  color='k', s=9)\n",
    "plt.plot(grid, y_hat, linewidth=2)\n",
    "plt.savefig('../figures/linear_fit.svg', facecolor='none', edgecolor='none')"
   ]
  }
 ],
 "metadata": {
  "kernelspec": {
   "display_name": "Python 3",
   "language": "python",
   "name": "python3"
  },
  "language_info": {
   "codemirror_mode": {
    "name": "ipython",
    "version": 3
   },
   "file_extension": ".py",
   "mimetype": "text/x-python",
   "name": "python",
   "nbconvert_exporter": "python",
   "pygments_lexer": "ipython3",
   "version": "3.7.6"
  }
 },
 "nbformat": 4,
 "nbformat_minor": 4
}
