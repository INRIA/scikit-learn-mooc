{
 "cells": [
  {
   "cell_type": "code",
   "execution_count": 1,
   "id": "17c6354a",
   "metadata": {
    "_cell_guid": "b1076dfc-b9ad-4769-8c92-a6c4dae69d19",
    "_uuid": "8f2839f25d086af736a60e9eeb907d3b93b6e0e5",
    "execution": {
     "iopub.execute_input": "2022-03-23T06:19:50.097259Z",
     "iopub.status.busy": "2022-03-23T06:19:50.096500Z",
     "iopub.status.idle": "2022-03-23T06:19:50.112486Z",
     "shell.execute_reply": "2022-03-23T06:19:50.111809Z",
     "shell.execute_reply.started": "2022-03-23T06:12:52.048585Z"
    },
    "papermill": {
     "duration": 0.044811,
     "end_time": "2022-03-23T06:19:50.112665",
     "exception": false,
     "start_time": "2022-03-23T06:19:50.067854",
     "status": "completed"
    },
    "tags": []
   },
   "outputs": [
    {
     "name": "stdout",
     "output_type": "stream",
     "text": [
      "/kaggle/input/adultcensus/adult-census.csv\n",
      "/kaggle/input/adultcensus/adult-census-numeric-test.csv\n",
      "/kaggle/input/adult-census-numeric/adult-census-numeric.csv\n"
     ]
    }
   ],
   "source": [
    "# This Python 3 environment comes with many helpful analytics libraries installed\n",
    "# It is defined by the kaggle/python Docker image: https://github.com/kaggle/docker-python\n",
    "# For example, here's several helpful packages to load\n",
    "\n",
    "import numpy as np # linear algebra\n",
    "import pandas as pd # data processing, CSV file I/O (e.g. pd.read_csv)\n",
    "\n",
    "# Input data files are available in the read-only \"../input/\" directory\n",
    "# For example, running this (by clicking run or pressing Shift+Enter) will list all files under the input directory\n",
    "\n",
    "import os\n",
    "for dirname, _, filenames in os.walk('/kaggle/input'):\n",
    "    for filename in filenames:\n",
    "        print(os.path.join(dirname, filename))\n",
    "\n",
    "# You can write up to 20GB to the current directory (/kaggle/working/) that gets preserved as output when you create a version using \"Save & Run All\" \n",
    "# You can also write temporary files to /kaggle/temp/, but they won't be saved outside of the current session"
   ]
  },
  {
   "cell_type": "code",
   "execution_count": 2,
   "id": "04fabafc",
   "metadata": {
    "execution": {
     "iopub.execute_input": "2022-03-23T06:19:50.150834Z",
     "iopub.status.busy": "2022-03-23T06:19:50.150207Z",
     "iopub.status.idle": "2022-03-23T06:19:50.191539Z",
     "shell.execute_reply": "2022-03-23T06:19:50.191955Z",
     "shell.execute_reply.started": "2022-03-23T06:12:52.062388Z"
    },
    "papermill": {
     "duration": 0.061883,
     "end_time": "2022-03-23T06:19:50.192080",
     "exception": false,
     "start_time": "2022-03-23T06:19:50.130197",
     "status": "completed"
    },
    "tags": []
   },
   "outputs": [
    {
     "data": {
      "text/html": [
       "<div>\n",
       "<style scoped>\n",
       "    .dataframe tbody tr th:only-of-type {\n",
       "        vertical-align: middle;\n",
       "    }\n",
       "\n",
       "    .dataframe tbody tr th {\n",
       "        vertical-align: top;\n",
       "    }\n",
       "\n",
       "    .dataframe thead th {\n",
       "        text-align: right;\n",
       "    }\n",
       "</style>\n",
       "<table border=\"1\" class=\"dataframe\">\n",
       "  <thead>\n",
       "    <tr style=\"text-align: right;\">\n",
       "      <th></th>\n",
       "      <th>age</th>\n",
       "      <th>capital-gain</th>\n",
       "      <th>capital-loss</th>\n",
       "      <th>hours-per-week</th>\n",
       "      <th>class</th>\n",
       "    </tr>\n",
       "  </thead>\n",
       "  <tbody>\n",
       "    <tr>\n",
       "      <th>0</th>\n",
       "      <td>41</td>\n",
       "      <td>0</td>\n",
       "      <td>0</td>\n",
       "      <td>92</td>\n",
       "      <td>&lt;=50K</td>\n",
       "    </tr>\n",
       "    <tr>\n",
       "      <th>1</th>\n",
       "      <td>48</td>\n",
       "      <td>0</td>\n",
       "      <td>0</td>\n",
       "      <td>40</td>\n",
       "      <td>&lt;=50K</td>\n",
       "    </tr>\n",
       "    <tr>\n",
       "      <th>2</th>\n",
       "      <td>60</td>\n",
       "      <td>0</td>\n",
       "      <td>0</td>\n",
       "      <td>25</td>\n",
       "      <td>&lt;=50K</td>\n",
       "    </tr>\n",
       "    <tr>\n",
       "      <th>3</th>\n",
       "      <td>37</td>\n",
       "      <td>0</td>\n",
       "      <td>0</td>\n",
       "      <td>45</td>\n",
       "      <td>&lt;=50K</td>\n",
       "    </tr>\n",
       "    <tr>\n",
       "      <th>4</th>\n",
       "      <td>73</td>\n",
       "      <td>3273</td>\n",
       "      <td>0</td>\n",
       "      <td>40</td>\n",
       "      <td>&lt;=50K</td>\n",
       "    </tr>\n",
       "  </tbody>\n",
       "</table>\n",
       "</div>"
      ],
      "text/plain": [
       "   age  capital-gain  capital-loss  hours-per-week   class\n",
       "0   41             0             0              92   <=50K\n",
       "1   48             0             0              40   <=50K\n",
       "2   60             0             0              25   <=50K\n",
       "3   37             0             0              45   <=50K\n",
       "4   73          3273             0              40   <=50K"
      ]
     },
     "execution_count": 2,
     "metadata": {},
     "output_type": "execute_result"
    }
   ],
   "source": [
    "import pandas as pd\n",
    "df = pd.read_csv(\"../input/adult-census-numeric/adult-census-numeric.csv\")\n",
    "df.head()"
   ]
  },
  {
   "cell_type": "markdown",
   "id": "9af07916",
   "metadata": {
    "papermill": {
     "duration": 0.016649,
     "end_time": "2022-03-23T06:19:50.225707",
     "exception": false,
     "start_time": "2022-03-23T06:19:50.209058",
     "status": "completed"
    },
    "tags": []
   },
   "source": [
    "Target - \"class\"\n",
    "Remaining columns for training and prediction"
   ]
  },
  {
   "cell_type": "code",
   "execution_count": 3,
   "id": "f0c4a6cf",
   "metadata": {
    "execution": {
     "iopub.execute_input": "2022-03-23T06:19:50.268060Z",
     "iopub.status.busy": "2022-03-23T06:19:50.267394Z",
     "iopub.status.idle": "2022-03-23T06:19:50.269957Z",
     "shell.execute_reply": "2022-03-23T06:19:50.270476Z",
     "shell.execute_reply.started": "2022-03-23T06:12:52.096166Z"
    },
    "papermill": {
     "duration": 0.028015,
     "end_time": "2022-03-23T06:19:50.270611",
     "exception": false,
     "start_time": "2022-03-23T06:19:50.242596",
     "status": "completed"
    },
    "tags": []
   },
   "outputs": [
    {
     "data": {
      "text/plain": [
       "0         <=50K\n",
       "1         <=50K\n",
       "2         <=50K\n",
       "3         <=50K\n",
       "4         <=50K\n",
       "          ...  \n",
       "39068     <=50K\n",
       "39069     <=50K\n",
       "39070      >50K\n",
       "39071     <=50K\n",
       "39072      >50K\n",
       "Name: class, Length: 39073, dtype: object"
      ]
     },
     "execution_count": 3,
     "metadata": {},
     "output_type": "execute_result"
    }
   ],
   "source": [
    "target_name = \"class\"\n",
    "target = df[target_name]\n",
    "target"
   ]
  },
  {
   "cell_type": "code",
   "execution_count": 4,
   "id": "03cdbfe5",
   "metadata": {
    "execution": {
     "iopub.execute_input": "2022-03-23T06:19:50.317707Z",
     "iopub.status.busy": "2022-03-23T06:19:50.316993Z",
     "iopub.status.idle": "2022-03-23T06:19:50.319627Z",
     "shell.execute_reply": "2022-03-23T06:19:50.320111Z",
     "shell.execute_reply.started": "2022-03-23T06:12:52.256321Z"
    },
    "papermill": {
     "duration": 0.032519,
     "end_time": "2022-03-23T06:19:50.320229",
     "exception": false,
     "start_time": "2022-03-23T06:19:50.287710",
     "status": "completed"
    },
    "tags": []
   },
   "outputs": [
    {
     "data": {
      "text/html": [
       "<div>\n",
       "<style scoped>\n",
       "    .dataframe tbody tr th:only-of-type {\n",
       "        vertical-align: middle;\n",
       "    }\n",
       "\n",
       "    .dataframe tbody tr th {\n",
       "        vertical-align: top;\n",
       "    }\n",
       "\n",
       "    .dataframe thead th {\n",
       "        text-align: right;\n",
       "    }\n",
       "</style>\n",
       "<table border=\"1\" class=\"dataframe\">\n",
       "  <thead>\n",
       "    <tr style=\"text-align: right;\">\n",
       "      <th></th>\n",
       "      <th>age</th>\n",
       "      <th>capital-gain</th>\n",
       "      <th>capital-loss</th>\n",
       "      <th>hours-per-week</th>\n",
       "    </tr>\n",
       "  </thead>\n",
       "  <tbody>\n",
       "    <tr>\n",
       "      <th>0</th>\n",
       "      <td>41</td>\n",
       "      <td>0</td>\n",
       "      <td>0</td>\n",
       "      <td>92</td>\n",
       "    </tr>\n",
       "    <tr>\n",
       "      <th>1</th>\n",
       "      <td>48</td>\n",
       "      <td>0</td>\n",
       "      <td>0</td>\n",
       "      <td>40</td>\n",
       "    </tr>\n",
       "    <tr>\n",
       "      <th>2</th>\n",
       "      <td>60</td>\n",
       "      <td>0</td>\n",
       "      <td>0</td>\n",
       "      <td>25</td>\n",
       "    </tr>\n",
       "    <tr>\n",
       "      <th>3</th>\n",
       "      <td>37</td>\n",
       "      <td>0</td>\n",
       "      <td>0</td>\n",
       "      <td>45</td>\n",
       "    </tr>\n",
       "    <tr>\n",
       "      <th>4</th>\n",
       "      <td>73</td>\n",
       "      <td>3273</td>\n",
       "      <td>0</td>\n",
       "      <td>40</td>\n",
       "    </tr>\n",
       "  </tbody>\n",
       "</table>\n",
       "</div>"
      ],
      "text/plain": [
       "   age  capital-gain  capital-loss  hours-per-week\n",
       "0   41             0             0              92\n",
       "1   48             0             0              40\n",
       "2   60             0             0              25\n",
       "3   37             0             0              45\n",
       "4   73          3273             0              40"
      ]
     },
     "execution_count": 4,
     "metadata": {},
     "output_type": "execute_result"
    }
   ],
   "source": [
    "data = df.drop(columns = [target_name])\n",
    "data.head()"
   ]
  },
  {
   "cell_type": "code",
   "execution_count": 5,
   "id": "95fa384a",
   "metadata": {
    "execution": {
     "iopub.execute_input": "2022-03-23T06:19:50.359986Z",
     "iopub.status.busy": "2022-03-23T06:19:50.359482Z",
     "iopub.status.idle": "2022-03-23T06:19:50.363965Z",
     "shell.execute_reply": "2022-03-23T06:19:50.363535Z",
     "shell.execute_reply.started": "2022-03-23T06:12:52.270810Z"
    },
    "papermill": {
     "duration": 0.025708,
     "end_time": "2022-03-23T06:19:50.364062",
     "exception": false,
     "start_time": "2022-03-23T06:19:50.338354",
     "status": "completed"
    },
    "tags": []
   },
   "outputs": [
    {
     "data": {
      "text/plain": [
       "Index(['age', 'capital-gain', 'capital-loss', 'hours-per-week'], dtype='object')"
      ]
     },
     "execution_count": 5,
     "metadata": {},
     "output_type": "execute_result"
    }
   ],
   "source": [
    "# Check the samples\n",
    "data.columns"
   ]
  },
  {
   "cell_type": "code",
   "execution_count": 6,
   "id": "f1785b02",
   "metadata": {
    "execution": {
     "iopub.execute_input": "2022-03-23T06:19:50.404849Z",
     "iopub.status.busy": "2022-03-23T06:19:50.404022Z",
     "iopub.status.idle": "2022-03-23T06:19:50.409001Z",
     "shell.execute_reply": "2022-03-23T06:19:50.409590Z",
     "shell.execute_reply.started": "2022-03-23T06:12:52.315139Z"
    },
    "papermill": {
     "duration": 0.026715,
     "end_time": "2022-03-23T06:19:50.409758",
     "exception": false,
     "start_time": "2022-03-23T06:19:50.383043",
     "status": "completed"
    },
    "tags": []
   },
   "outputs": [
    {
     "name": "stdout",
     "output_type": "stream",
     "text": [
      "The data has 39073 samples and 4 features\n"
     ]
    }
   ],
   "source": [
    "# Check the samples and features\n",
    "print(f\"The data has {data.shape[0]} samples and {data.shape[1]} features\")"
   ]
  },
  {
   "cell_type": "code",
   "execution_count": 7,
   "id": "2d71ceb5",
   "metadata": {
    "execution": {
     "iopub.execute_input": "2022-03-23T06:19:50.452035Z",
     "iopub.status.busy": "2022-03-23T06:19:50.451211Z",
     "iopub.status.idle": "2022-03-23T06:19:51.644873Z",
     "shell.execute_reply": "2022-03-23T06:19:51.646085Z",
     "shell.execute_reply.started": "2022-03-23T06:12:52.321448Z"
    },
    "papermill": {
     "duration": 1.215696,
     "end_time": "2022-03-23T06:19:51.646312",
     "exception": false,
     "start_time": "2022-03-23T06:19:50.430616",
     "status": "completed"
    },
    "tags": []
   },
   "outputs": [
    {
     "data": {
      "text/plain": [
       "KNeighborsClassifier()"
      ]
     },
     "execution_count": 7,
     "metadata": {},
     "output_type": "execute_result"
    }
   ],
   "source": [
    "from sklearn.neighbors import KNeighborsClassifier\n",
    "model = KNeighborsClassifier()\n",
    "model.fit(data, target)"
   ]
  },
  {
   "cell_type": "markdown",
   "id": "ec8c64bb",
   "metadata": {
    "papermill": {
     "duration": 0.03373,
     "end_time": "2022-03-23T06:19:51.715635",
     "exception": false,
     "start_time": "2022-03-23T06:19:51.681905",
     "status": "completed"
    },
    "tags": []
   },
   "source": [
    "The method `fit` is composed of two elements: (i) a **learning algorithm**\n",
    "and (ii) some **model states**. The learning algorithm takes the training\n",
    "data and training target as input and sets the model states. These model\n",
    "states will be used later to either predict (for classifiers and regressors)\n",
    "or transform data (for transformers).\n",
    "\n",
    "Both the learning algorithm and the type of model states are specific to each\n",
    "type of model."
   ]
  },
  {
   "cell_type": "code",
   "execution_count": 8,
   "id": "90372518",
   "metadata": {
    "execution": {
     "iopub.execute_input": "2022-03-23T06:19:51.790880Z",
     "iopub.status.busy": "2022-03-23T06:19:51.790115Z",
     "iopub.status.idle": "2022-03-23T06:19:54.364517Z",
     "shell.execute_reply": "2022-03-23T06:19:54.365131Z",
     "shell.execute_reply.started": "2022-03-23T06:12:52.464280Z"
    },
    "papermill": {
     "duration": 2.619638,
     "end_time": "2022-03-23T06:19:54.365324",
     "exception": false,
     "start_time": "2022-03-23T06:19:51.745686",
     "status": "completed"
    },
    "tags": []
   },
   "outputs": [
    {
     "data": {
      "text/plain": [
       "array([' >50K', ' <=50K', ' <=50K', ' <=50K', ' <=50K'], dtype=object)"
      ]
     },
     "execution_count": 8,
     "metadata": {},
     "output_type": "execute_result"
    }
   ],
   "source": [
    "target_predicted = model.predict(data)\n",
    "target_predicted[:5]"
   ]
  },
  {
   "cell_type": "markdown",
   "id": "467a776e",
   "metadata": {
    "papermill": {
     "duration": 0.019108,
     "end_time": "2022-03-23T06:19:54.406074",
     "exception": false,
     "start_time": "2022-03-23T06:19:54.386966",
     "status": "completed"
    },
    "tags": []
   },
   "source": [
    "To predict, a model uses a **prediction function** that will use the input\n",
    "data together with the model states. As for the learning algorithm and the\n",
    "model states, the prediction function is specific for each type of model."
   ]
  },
  {
   "cell_type": "code",
   "execution_count": 9,
   "id": "7c007a89",
   "metadata": {
    "execution": {
     "iopub.execute_input": "2022-03-23T06:19:54.450225Z",
     "iopub.status.busy": "2022-03-23T06:19:54.449601Z",
     "iopub.status.idle": "2022-03-23T06:19:54.452150Z",
     "shell.execute_reply": "2022-03-23T06:19:54.452589Z",
     "shell.execute_reply.started": "2022-03-23T06:12:54.991647Z"
    },
    "papermill": {
     "duration": 0.027626,
     "end_time": "2022-03-23T06:19:54.452714",
     "exception": false,
     "start_time": "2022-03-23T06:19:54.425088",
     "status": "completed"
    },
    "tags": []
   },
   "outputs": [
    {
     "data": {
      "text/plain": [
       "0    False\n",
       "1     True\n",
       "2     True\n",
       "3     True\n",
       "4     True\n",
       "Name: class, dtype: bool"
      ]
     },
     "execution_count": 9,
     "metadata": {},
     "output_type": "execute_result"
    }
   ],
   "source": [
    "target[:5] == target_predicted[:5]"
   ]
  },
  {
   "cell_type": "code",
   "execution_count": 10,
   "id": "d9cb20ce",
   "metadata": {
    "execution": {
     "iopub.execute_input": "2022-03-23T06:19:54.495546Z",
     "iopub.status.busy": "2022-03-23T06:19:54.494750Z",
     "iopub.status.idle": "2022-03-23T06:19:54.497661Z",
     "shell.execute_reply": "2022-03-23T06:19:54.498064Z",
     "shell.execute_reply.started": "2022-03-23T06:12:54.999902Z"
    },
    "papermill": {
     "duration": 0.02609,
     "end_time": "2022-03-23T06:19:54.498180",
     "exception": false,
     "start_time": "2022-03-23T06:19:54.472090",
     "status": "completed"
    },
    "tags": []
   },
   "outputs": [
    {
     "name": "stdout",
     "output_type": "stream",
     "text": [
      "The number of predictions: 4 / 5\n"
     ]
    }
   ],
   "source": [
    "print(f\"The number of predictions: \" f\"{(target[:5] == target_predicted[:5]).sum()} / 5\")"
   ]
  },
  {
   "cell_type": "code",
   "execution_count": 11,
   "id": "2797ae82",
   "metadata": {
    "execution": {
     "iopub.execute_input": "2022-03-23T06:19:54.540201Z",
     "iopub.status.busy": "2022-03-23T06:19:54.539474Z",
     "iopub.status.idle": "2022-03-23T06:19:54.552023Z",
     "shell.execute_reply": "2022-03-23T06:19:54.551601Z",
     "shell.execute_reply.started": "2022-03-23T06:12:55.010002Z"
    },
    "papermill": {
     "duration": 0.03448,
     "end_time": "2022-03-23T06:19:54.552120",
     "exception": false,
     "start_time": "2022-03-23T06:19:54.517640",
     "status": "completed"
    },
    "tags": []
   },
   "outputs": [
    {
     "data": {
      "text/plain": [
       "0.8242776341719346"
      ]
     },
     "execution_count": 11,
     "metadata": {},
     "output_type": "execute_result"
    }
   ],
   "source": [
    "# Average success rate\n",
    "(target == target_predicted).mean()"
   ]
  },
  {
   "cell_type": "markdown",
   "id": "ec0f4c98",
   "metadata": {
    "papermill": {
     "duration": 0.020161,
     "end_time": "2022-03-23T06:19:54.592311",
     "exception": false,
     "start_time": "2022-03-23T06:19:54.572150",
     "status": "completed"
    },
    "tags": []
   },
   "source": [
    "This result means that the model makes a correct prediction for\n",
    "approximately 82 samples out of 100. Note that we used the same data\n",
    "to train and evaluate our model."
   ]
  },
  {
   "cell_type": "markdown",
   "id": "f3f2c63e",
   "metadata": {
    "papermill": {
     "duration": 0.0197,
     "end_time": "2022-03-23T06:19:54.631970",
     "exception": false,
     "start_time": "2022-03-23T06:19:54.612270",
     "status": "completed"
    },
    "tags": []
   },
   "source": [
    "## Train Test Split"
   ]
  },
  {
   "cell_type": "code",
   "execution_count": 12,
   "id": "c29e2963",
   "metadata": {
    "execution": {
     "iopub.execute_input": "2022-03-23T06:19:54.676113Z",
     "iopub.status.busy": "2022-03-23T06:19:54.675262Z",
     "iopub.status.idle": "2022-03-23T06:19:54.696480Z",
     "shell.execute_reply": "2022-03-23T06:19:54.696029Z",
     "shell.execute_reply.started": "2022-03-23T06:12:55.029114Z"
    },
    "papermill": {
     "duration": 0.044577,
     "end_time": "2022-03-23T06:19:54.696593",
     "exception": false,
     "start_time": "2022-03-23T06:19:54.652016",
     "status": "completed"
    },
    "tags": []
   },
   "outputs": [],
   "source": [
    "df_test = pd.read_csv(\"../input/adult-census-numeric/adult-census-numeric.csv\")"
   ]
  },
  {
   "cell_type": "code",
   "execution_count": 13,
   "id": "651d24fa",
   "metadata": {
    "execution": {
     "iopub.execute_input": "2022-03-23T06:19:54.741509Z",
     "iopub.status.busy": "2022-03-23T06:19:54.740738Z",
     "iopub.status.idle": "2022-03-23T06:19:54.743156Z",
     "shell.execute_reply": "2022-03-23T06:19:54.742774Z",
     "shell.execute_reply.started": "2022-03-23T06:12:55.058948Z"
    },
    "papermill": {
     "duration": 0.026728,
     "end_time": "2022-03-23T06:19:54.743255",
     "exception": false,
     "start_time": "2022-03-23T06:19:54.716527",
     "status": "completed"
    },
    "tags": []
   },
   "outputs": [],
   "source": [
    "target_test = df_test[target_name]\n",
    "data_test = df_test.drop(columns=[target_name, ])"
   ]
  },
  {
   "cell_type": "code",
   "execution_count": 14,
   "id": "7769ca69",
   "metadata": {
    "execution": {
     "iopub.execute_input": "2022-03-23T06:19:54.787887Z",
     "iopub.status.busy": "2022-03-23T06:19:54.787226Z",
     "iopub.status.idle": "2022-03-23T06:19:54.790208Z",
     "shell.execute_reply": "2022-03-23T06:19:54.790785Z",
     "shell.execute_reply.started": "2022-03-23T06:12:55.066662Z"
    },
    "papermill": {
     "duration": 0.027607,
     "end_time": "2022-03-23T06:19:54.790948",
     "exception": false,
     "start_time": "2022-03-23T06:19:54.763341",
     "status": "completed"
    },
    "tags": []
   },
   "outputs": [
    {
     "name": "stdout",
     "output_type": "stream",
     "text": [
      " This test dataset contains 39073 samples and 5 rows\n"
     ]
    }
   ],
   "source": [
    "print(f\" This test dataset contains {df_test.shape[0]} samples and {df_test.shape[1]} rows\")"
   ]
  },
  {
   "cell_type": "code",
   "execution_count": 15,
   "id": "baaf77a7",
   "metadata": {
    "execution": {
     "iopub.execute_input": "2022-03-23T06:19:54.837239Z",
     "iopub.status.busy": "2022-03-23T06:19:54.836567Z",
     "iopub.status.idle": "2022-03-23T06:19:54.839198Z",
     "shell.execute_reply": "2022-03-23T06:19:54.839724Z",
     "shell.execute_reply.started": "2022-03-23T06:12:55.076199Z"
    },
    "papermill": {
     "duration": 0.027294,
     "end_time": "2022-03-23T06:19:54.839841",
     "exception": false,
     "start_time": "2022-03-23T06:19:54.812547",
     "status": "completed"
    },
    "tags": []
   },
   "outputs": [
    {
     "data": {
      "text/plain": [
       "(39073, 4)"
      ]
     },
     "execution_count": 15,
     "metadata": {},
     "output_type": "execute_result"
    }
   ],
   "source": [
    "data_test.shape"
   ]
  },
  {
   "cell_type": "code",
   "execution_count": 16,
   "id": "63db4e14",
   "metadata": {
    "execution": {
     "iopub.execute_input": "2022-03-23T06:19:54.887241Z",
     "iopub.status.busy": "2022-03-23T06:19:54.885067Z",
     "iopub.status.idle": "2022-03-23T06:19:57.524537Z",
     "shell.execute_reply": "2022-03-23T06:19:57.525070Z",
     "shell.execute_reply.started": "2022-03-23T06:18:57.473294Z"
    },
    "papermill": {
     "duration": 2.664926,
     "end_time": "2022-03-23T06:19:57.525272",
     "exception": false,
     "start_time": "2022-03-23T06:19:54.860346",
     "status": "completed"
    },
    "tags": []
   },
   "outputs": [
    {
     "name": "stdout",
     "output_type": "stream",
     "text": [
      "The test accuracy using a KNeighborsClassifier is 0.824\n"
     ]
    }
   ],
   "source": [
    "accuracy = model.score(data_test, target_test)\n",
    "model_name = model.__class__.__name__\n",
    "print(f\"The test accuracy using a {model_name} is \"\n",
    "      f\"{accuracy:.3f}\")"
   ]
  }
 ],
 "metadata": {
  "kernelspec": {
   "display_name": "Python 3",
   "language": "python",
   "name": "python3"
  },
  "language_info": {
   "codemirror_mode": {
    "name": "ipython",
    "version": 3
   },
   "file_extension": ".py",
   "mimetype": "text/x-python",
   "name": "python",
   "nbconvert_exporter": "python",
   "pygments_lexer": "ipython3",
   "version": "3.7.12"
  },
  "papermill": {
   "default_parameters": {},
   "duration": 16.215161,
   "end_time": "2022-03-23T06:19:58.056123",
   "environment_variables": {},
   "exception": null,
   "input_path": "__notebook__.ipynb",
   "output_path": "__notebook__.ipynb",
   "parameters": {},
   "start_time": "2022-03-23T06:19:41.840962",
   "version": "2.3.3"
  }
 },
 "nbformat": 4,
 "nbformat_minor": 5
}
