{
 "cells": [
  {
   "cell_type": "markdown",
   "metadata": {},
   "source": [
    "# Loading data into machine learning\n",
    "\n",
    "In this notebook, we will look at the necessary steps required before any machine learning takes place.\n",
    "* load the data\n",
    "* look at the variables in the dataset, in particular, differentiate\n",
    "  between numerical and categorical variables, which need different\n",
    "  preprocessing in most machine learning workflows\n",
    "* visualize the distribution of the variables to gain some insights into the dataset"
   ]
  },
  {
   "cell_type": "markdown",
   "metadata": {},
   "source": [
    "## Loading the adult census dataset"
   ]
  },
  {
   "cell_type": "markdown",
   "metadata": {},
   "source": [
    "We will use data from the \"Current Population adult_census\" from 1994 that we\n",
    "downloaded from [OpenML](http://openml.org/)."
   ]
  },
  {
   "cell_type": "code",
   "execution_count": null,
   "metadata": {},
   "outputs": [],
   "source": [
    "import pandas as pd\n",
    "\n",
    "adult_census = pd.read_csv(\"../datasets/adult-census.csv\")"
   ]
  },
  {
   "cell_type": "markdown",
   "metadata": {},
   "source": [
    "We can look at the OpenML webpage to learn more about this dataset: http://www.openml.org/d/1590\n",
    "\n",
    "The goal with this data is to predict whether a person earns over 50K a year\n",
    "from heterogeneous data such as age, employment, education, family\n",
    "information, etc."
   ]
  },
  {
   "cell_type": "markdown",
   "metadata": {},
   "source": [
    "## The variables (columns) in the dataset\n",
    "\n",
    "The data are stored in a pandas dataframe.\n",
    "\n",
    "Pandas is a Python library to manipulate tables, a bit like Excel but programming: https://pandas.pydata.org/"
   ]
  },
  {
   "cell_type": "code",
   "execution_count": null,
   "metadata": {},
   "outputs": [],
   "source": [
    "adult_census.head()  # Look at the first few lines of our dataframe"
   ]
  },
  {
   "cell_type": "markdown",
   "metadata": {},
   "source": [
    "The column named **class** is our target variable (i.e., the variable which\n",
    "we want to predict). The two possible classes are `<= 50K` (low-revenue) and\n",
    "`> 50K` (high-revenue). The resulting prediction problem is therefore a binary\n",
    "classification problem,\n",
    "while we will use the other columns as input variables for our model."
   ]
  },
  {
   "cell_type": "code",
   "execution_count": null,
   "metadata": {},
   "outputs": [],
   "source": [
    "target_column = 'class'\n",
    "adult_census[target_column].value_counts()"
   ]
  },
  {
   "cell_type": "markdown",
   "metadata": {},
   "source": [
    "Note: classes are slightly imbalanced. Class imbalance happens often in\n",
    "practice and may need special techniques for machine learning. For example in\n",
    "a medical setting, if we are trying to predict whether patients will develop\n",
    "a rare disease, there will be a lot more healthy patients than ill patients in\n",
    "the dataset."
   ]
  },
  {
   "cell_type": "markdown",
   "metadata": {},
   "source": [
    "The dataset contains both numerical and categorical data. Numerical values\n",
    "can take continuous values for example `age`. Categorical values can have a\n",
    "finite number of values, for example `native-country`."
   ]
  },
  {
   "cell_type": "code",
   "execution_count": null,
   "metadata": {},
   "outputs": [],
   "source": [
    "numerical_columns = [\n",
    "    'age', 'education-num', 'capital-gain', 'capital-loss',\n",
    "    'hours-per-week']\n",
    "categorical_columns = [\n",
    "    'workclass', 'education', 'marital-status', 'occupation',\n",
    "    'relationship', 'race', 'sex', 'native-country']\n",
    "all_columns = numerical_columns + categorical_columns + [\n",
    "    target_column]\n",
    "\n",
    "adult_census = adult_census[all_columns]"
   ]
  },
  {
   "cell_type": "markdown",
   "metadata": {},
   "source": [
    "Note that for simplicity, we have ignored the \"fnlwgt\" (final weight) column\n",
    "that was crafted by the creators of the dataset when sampling the dataset to\n",
    "be representative of the full census database."
   ]
  },
  {
   "cell_type": "markdown",
   "metadata": {},
   "source": [
    "We can check the number of samples and the number of features available in\n",
    "the dataset:"
   ]
  },
  {
   "cell_type": "code",
   "execution_count": null,
   "metadata": {},
   "outputs": [],
   "source": [
    "print(\n",
    "    f\"The dataset contains {adult_census.shape[0]} samples and \"\n",
    "    f\"{adult_census.shape[1]} features\")"
   ]
  },
  {
   "cell_type": "markdown",
   "metadata": {},
   "source": [
    "## Visual inspection of the data\n",
    "Before building a machine learning model, it is a good idea to look at the\n",
    "data:\n",
    "* maybe the task you are trying to achieve can be solved without machine\n",
    "  learning\n",
    "* you need to check that the information you need for your task is indeed present in\n",
    "the dataset\n",
    "* inspecting the data is a good way to find peculiarities. These can\n",
    "  arise during data collection (for example, malfunctioning sensor or missing\n",
    "  values), or from the way the data is processed afterwards (for example capped\n",
    "  values)."
   ]
  },
  {
   "cell_type": "markdown",
   "metadata": {},
   "source": [
    "Let's look at the distribution of individual variables, to get some insights\n",
    "about the data. We can start by plotting histograms, note that this only\n",
    "works for numerical variables:"
   ]
  },
  {
   "cell_type": "code",
   "execution_count": null,
   "metadata": {},
   "outputs": [],
   "source": [
    "_ = adult_census.hist(figsize=(20, 10))"
   ]
  },
  {
   "cell_type": "markdown",
   "metadata": {},
   "source": [
    "We can already make a few comments about some of the variables:\n",
    "* age: there are not that many points for 'age > 70'. The dataset description\n",
    "does indicate that retired people have been filtered out (`hours-per-week > 0`).\n",
    "* education-num: peak at 10 and 13, hard to tell what it corresponds to\n",
    "without looking much further. We'll do that later in this notebook.\n",
    "* hours per week peaks at 40, this was very likely the standard number of\n",
    "working hours at the time of the data collection\n",
    "* most values of capital-gain and capital-loss are close to zero"
   ]
  },
  {
   "cell_type": "markdown",
   "metadata": {
    "lines_to_next_cell": 2
   },
   "source": [
    "For categorical variables, we can look at the distribution of values:"
   ]
  },
  {
   "cell_type": "code",
   "execution_count": null,
   "metadata": {},
   "outputs": [],
   "source": [
    "adult_census['sex'].value_counts()"
   ]
  },
  {
   "cell_type": "code",
   "execution_count": null,
   "metadata": {},
   "outputs": [],
   "source": [
    "adult_census['education'].value_counts()"
   ]
  },
  {
   "cell_type": "markdown",
   "metadata": {},
   "source": [
    "`pandas_profiling` is a nice tool for inspecting the data (both numerical and\n",
    "categorical variables)."
   ]
  },
  {
   "cell_type": "code",
   "execution_count": null,
   "metadata": {},
   "outputs": [],
   "source": [
    "import pandas_profiling\n",
    "adult_census.profile_report()"
   ]
  },
  {
   "cell_type": "markdown",
   "metadata": {
    "lines_to_next_cell": 0
   },
   "source": [
    "As noted above, `education-num` distribution has two clear peaks around 10\n",
    "and 13. It would be reasonable to expect that `education-num` is the number of\n",
    "years of education.\n",
    "\n",
    "Let's look at the relationship between `education` and `education-num`."
   ]
  },
  {
   "cell_type": "code",
   "execution_count": null,
   "metadata": {},
   "outputs": [],
   "source": [
    "pd.crosstab(index=adult_census['education'],\n",
    "            columns=adult_census['education-num'])"
   ]
  },
  {
   "cell_type": "markdown",
   "metadata": {},
   "source": [
    "This shows that education and education-num gives you the same information.\n",
    "For example, `education-num=2` is equivalent to `education='1st-4th'`. In\n",
    "practice that means we can remove `education-num` without losing information.\n",
    "Note that having redundant (or highly correlated) columns can be a problem\n",
    "for machine learning algorithms."
   ]
  },
  {
   "cell_type": "markdown",
   "metadata": {},
   "source": [
    "Another way to inspect the data is to do a pairplot and show how each variable\n",
    "differs according to our target, `class`. Plots along the diagonal show the\n",
    "distribution of individual variables for each `class`. The plots on the\n",
    "off-diagonal can reveal interesting interactions between variables."
   ]
  },
  {
   "cell_type": "code",
   "execution_count": null,
   "metadata": {},
   "outputs": [],
   "source": [
    "n_samples_to_plot = 5000\n",
    "columns = ['age', 'education-num', 'hours-per-week']\n",
    "\n",
    "# reset the plotting style\n",
    "import matplotlib.pyplot as plt\n",
    "plt.rcdefaults()\n",
    "\n",
    "import seaborn as sns\n",
    "_ = sns.pairplot(data=adult_census[:n_samples_to_plot], vars=columns,\n",
    "                 hue=target_column, plot_kws={'alpha': 0.2},\n",
    "                 height=3, diag_kind='hist')"
   ]
  },
  {
   "cell_type": "markdown",
   "metadata": {},
   "source": [
    "\n",
    "By looking at the data you could infer some hand-written rules to predict the\n",
    "class:\n",
    "* if you are young (less than 25 year-old roughly), you are in the `<= 50K` class.\n",
    "* if you are old (more than 70 year-old roughly), you are in the `<= 50K` class.\n",
    "* if you work part-time (less than 40 hours roughly) you are in the `<= 50K` class.\n",
    "\n",
    "These hand-written rules could work reasonably well without the need for any\n",
    "machine learning. Note however that it is not very easy to create rules for\n",
    "the region `40 < hours-per-week < 60` and `30 < age < 70`. We can hope that\n",
    "machine learning can help in this region. Also note that visualization can\n",
    "help creating hand-written rules but is limited to 2 dimensions (maybe 3\n",
    "dimensions), whereas machine learning models can build models in\n",
    "high-dimensional spaces.\n",
    "\n",
    "Another thing worth mentioning in this plot: if you are young (less than 25\n",
    "year-old roughly) or old (more than 70 year-old roughly) you tend to work\n",
    "less. This is a non-linear relationship between age and hours\n",
    "per week. Linear machine learning models can only capture linear interactions, so\n",
    "this may be a factor when deciding which model to chose.\n",
    "\n",
    "In a machine-learning setting, an algorithm automatically\n",
    "create the \"rules\" in order to make predictions on new data."
   ]
  },
  {
   "cell_type": "markdown",
   "metadata": {},
   "source": [
    "The plot below shows the rules of a simple model, called decision tree.\n",
    "We will explain how this model works in a latter notebook, for now let us\n",
    "just consider the model predictions when trained on this dataset:\n",
    "\n",
    "![](../figures/simple_decision_tree_adult_census.png)\n",
    "\n",
    "The background color in each area represents the probability of the class\n",
    "`high-income` as estimated by the model. Values towards 0 (dark blue)\n",
    "indicates that the model predicts `low-income` with a high probability.\n",
    "Values towards 1 (dark orange) indicates that the model predicts\n",
    "`high-income` with a high probability. Values towards 0.5 (white) indicates\n",
    "that the model is not very sure about its prediction.\n",
    "\n",
    "Looking at the plot here is what we can gather:\n",
    "* In the region `age < 28.5` (left region) the prediction is `low-income`. The\n",
    "  dark blue color indicates that the model is quite sure about its\n",
    "  prediction.\n",
    "* In the region `age > 28.5 AND hours-per-week < 40.5`\n",
    "  (bottom-right region), the prediction is `low-income`. Note that the blue\n",
    "  is a bit lighter that for the left region which means that the algorithm is\n",
    "  not as certain in this region.\n",
    "* In the region `age > 28.5 AND hours-per-week > 40.5` (top-right region),\n",
    "  the prediction is `low-income`. However the probability of the class\n",
    "  `low-income` is very close to 0.5 which means the model is not sure at all\n",
    "  about its prediction.\n",
    "\n",
    "It is interesting to see that a simple model create rules similar to the ones\n",
    "that we could have created by hand. Note that machine learning is really\n",
    "interesting when creating rules by hand is not straightfoward, for example\n",
    "because we are in high dimension (many features) or because there is no\n",
    "simple and obvious rules that separate the two classes as in the top-right\n",
    "region"
   ]
  },
  {
   "cell_type": "markdown",
   "metadata": {},
   "source": [
    "\n",
    "In this notebook we have:\n",
    "* loaded the data from a CSV file using `pandas`\n",
    "* looked at the differents kind of variables to differentiate\n",
    "  between categorical and numerical variables\n",
    "* inspected the data with `pandas`, `seaborn` and `pandas_profiling`. Data inspection\n",
    "  can allow you to decide whether using machine learning is appropriate for\n",
    "  your data and to highlight potential peculiarities in your data\n",
    "\n",
    "Ideas which will be discussed more in details later:\n",
    "* if your target variable is imbalanced (e.g., you have more samples from one\n",
    "  target category than another), you may need special techniques for training and\n",
    "  evaluating your machine learning model\n",
    "* having redundant (or highly correlated) columns can be a problem for\n",
    "  some machine learning algorithms\n",
    "* contrary to decision tree, linear models can only capture linear interaction, so be\n",
    "  aware of non-linear relationships in your data"
   ]
  }
 ],
 "metadata": {
  "kernelspec": {
   "display_name": "Python 3",
   "language": "python",
   "name": "python3"
  }
 },
 "nbformat": 4,
 "nbformat_minor": 4
}
