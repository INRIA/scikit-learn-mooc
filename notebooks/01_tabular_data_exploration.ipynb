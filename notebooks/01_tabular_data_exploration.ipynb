{
 "cells": [
  {
   "cell_type": "markdown",
   "id": "pretty-planner",
   "metadata": {},
   "source": [
    "# First look at our dataset\n",
    "\n",
    "In this notebook, we will look at the necessary steps required before any\n",
    " machine learning takes place. It involves:\n",
    "\n",
    "* loading the data;\n",
    "* looking at the variables in the dataset, in particular, differentiate\n",
    "  between numerical and categorical variables, which need different\n",
    "  preprocessing in most machine learning workflows;\n",
    "* visualizing the distribution of the variables to gain some insights into\n",
    "  the dataset."
   ]
  },
  {
   "cell_type": "markdown",
   "id": "educated-posting",
   "metadata": {},
   "source": [
    "## Loading the adult census dataset\n",
    "\n",
    "We will use data from the \"Current Population adult_census\" from 1994 that we\n",
    "downloaded from [OpenML](http://openml.org/).\n",
    "\n",
    "We use pandas to read this dataset.\n",
    "\n",
    "<div class=\"admonition note alert alert-info\">\n",
    "<p class=\"first admonition-title\" style=\"font-weight: bold;\">Note</p>\n",
    "<p class=\"last\"><a class=\"reference external\" href=\"https://pandas.pydata.org/\">Pandas</a> is a Python library used for\n",
    "manipulating 1 and 2 dimensional structured data.</p>\n",
    "</div>"
   ]
  },
  {
   "cell_type": "code",
   "execution_count": null,
   "id": "nominated-alexandria",
   "metadata": {},
   "outputs": [],
   "source": [
    "import pandas as pd\n",
    "\n",
    "adult_census = pd.read_csv(\"../datasets/adult-census.csv\")"
   ]
  },
  {
   "cell_type": "markdown",
   "id": "gentle-roots",
   "metadata": {},
   "source": [
    "We can look at the OpenML webpage to learn more about this dataset:\n",
    "<http://www.openml.org/d/1590>\n",
    "\n",
    "The goal with this data is to predict whether a person earns over 50K a year\n",
    "from heterogeneous data such as age, employment, education, family\n",
    "information, etc."
   ]
  },
  {
   "cell_type": "markdown",
   "id": "expanded-senate",
   "metadata": {},
   "source": [
    "## The variables (columns) in the dataset\n",
    "\n",
    "The data are stored in a pandas dataframe. A dataframe is type of structured\n",
    "data composed of 2 dimensions. This type of data are also referred as tabular\n",
    "data.\n",
    "\n",
    "The rows represents a record. In the field of machine learning or descriptive\n",
    "statistics, the terms commonly used to refer to rows are \"sample\",\n",
    "\"instance\", or \"observation\".\n",
    "\n",
    "The columns represents a type of information collected. In the field of\n",
    "machined learning and descriptive statistics, the terms commonly used to\n",
    "refer to columns are \"feature\", \"variable\", \"attribute\", or \"covariate\"."
   ]
  },
  {
   "cell_type": "code",
   "execution_count": null,
   "id": "persistent-commitment",
   "metadata": {},
   "outputs": [],
   "source": [
    "adult_census.head()  # Print the first few lines of our dataframe"
   ]
  },
  {
   "cell_type": "markdown",
   "id": "designed-sheriff",
   "metadata": {},
   "source": [
    "The column named **class** is our target variable (i.e., the variable which\n",
    "we want to predict). The two possible classes are `<=50K` (low-revenue) and\n",
    "`>50K` (high-revenue). The resulting prediction problem is therefore a\n",
    "binary classification problem, while we will use the other columns as input\n",
    "variables for our model."
   ]
  },
  {
   "cell_type": "code",
   "execution_count": null,
   "id": "beneficial-washington",
   "metadata": {},
   "outputs": [],
   "source": [
    "target_column = 'class'\n",
    "adult_census[target_column].value_counts()"
   ]
  },
  {
   "cell_type": "markdown",
   "id": "proved-poland",
   "metadata": {},
   "source": [
    "<div class=\"admonition note alert alert-info\">\n",
    "<p class=\"first admonition-title\" style=\"font-weight: bold;\">Note</p>\n",
    "<p>Classes are slightly imbalanced, meaning there are more samples of one or\n",
    "more classes compared to others. Class imbalance happens often in practice\n",
    "and may need special techniques when building a predictive model.</p>\n",
    "<p class=\"last\">For example in a medical setting, if we are trying to predict whether\n",
    "subjects will develop a rare disease, there will be a lot more healthy\n",
    "subjects than ill subjects in the dataset.</p>\n",
    "</div>"
   ]
  },
  {
   "cell_type": "markdown",
   "id": "digital-arbitration",
   "metadata": {},
   "source": [
    "The dataset contains both numerical and categorical data. Numerical values\n",
    "take continuous values, for example `age`. Categorical values can have a\n",
    "finite number of values, for example `native-country`."
   ]
  },
  {
   "cell_type": "code",
   "execution_count": null,
   "id": "thorough-enhancement",
   "metadata": {},
   "outputs": [],
   "source": [
    "numerical_columns = [\n",
    "    'age', 'education-num', 'capital-gain', 'capital-loss',\n",
    "    'hours-per-week']\n",
    "categorical_columns = [\n",
    "    'workclass', 'education', 'marital-status', 'occupation',\n",
    "    'relationship', 'race', 'sex', 'native-country']\n",
    "all_columns = numerical_columns + categorical_columns + [\n",
    "    target_column]\n",
    "\n",
    "adult_census = adult_census[all_columns]"
   ]
  },
  {
   "cell_type": "markdown",
   "id": "medical-norwegian",
   "metadata": {},
   "source": [
    "Note that for simplicity, we have ignored the \"fnlwgt\" (final weight) column\n",
    "that was crafted by the creators of the dataset when sampling the dataset to\n",
    "be representative of the full census database."
   ]
  },
  {
   "cell_type": "markdown",
   "id": "opposed-arthur",
   "metadata": {},
   "source": [
    "We can check the number of samples and the number of columns available in\n",
    "the dataset:"
   ]
  },
  {
   "cell_type": "code",
   "execution_count": null,
   "id": "patent-south",
   "metadata": {},
   "outputs": [],
   "source": [
    "print(f\"The dataset contains {adult_census.shape[0]} samples and \"\n",
    "      f\"{adult_census.shape[1]} columns\")"
   ]
  },
  {
   "cell_type": "markdown",
   "id": "collected-bulgaria",
   "metadata": {},
   "source": [
    "We can compute the number of features by counting the number of columns and\n",
    "subtract 1, since of the column is the target."
   ]
  },
  {
   "cell_type": "code",
   "execution_count": null,
   "id": "vital-vintage",
   "metadata": {},
   "outputs": [],
   "source": [
    "print(f\"The dataset contains {adult_census.shape[1] - 1} features.\")"
   ]
  },
  {
   "cell_type": "markdown",
   "id": "needed-douglas",
   "metadata": {},
   "source": [
    "## Visual inspection of the data\n",
    "Before building a predictive model, it is a good idea to look at the data:\n",
    "\n",
    "* maybe the task you are trying to achieve can be solved without machine\n",
    "  learning;\n",
    "* you need to check that the information you need for your task is actually\n",
    "  present in the dataset;\n",
    "* inspecting the data is a good way to find peculiarities. These can\n",
    "  arise during data collection (for example, malfunctioning sensor or missing\n",
    "  values), or from the way the data is processed afterwards (for example\n",
    "  capped values)."
   ]
  },
  {
   "cell_type": "markdown",
   "id": "beneficial-flower",
   "metadata": {},
   "source": [
    "Let's look at the distribution of individual features, to get some insights\n",
    "about the data. We can start by plotting histograms, note that this only\n",
    "works for features containing numerical values:"
   ]
  },
  {
   "cell_type": "code",
   "execution_count": null,
   "id": "central-courtesy",
   "metadata": {},
   "outputs": [],
   "source": [
    "_ = adult_census.hist(figsize=(20, 14))"
   ]
  },
  {
   "cell_type": "markdown",
   "id": "loved-powell",
   "metadata": {},
   "source": [
    "<div class=\"admonition tip alert alert-warning\">\n",
    "<p class=\"first admonition-title\" style=\"font-weight: bold;\">Tip</p>\n",
    "<p class=\"last\">In the cell, we are calling the following pattern: <tt class=\"docutils literal\">_ = func()</tt>. It assigns\n",
    "the output of <tt class=\"docutils literal\">func()</tt> into the variable called <tt class=\"docutils literal\">_</tt>. By convention, in Python\n",
    "<tt class=\"docutils literal\">_</tt> serves as a \"garbage\" variable to store results that we are not\n",
    "interested in.</p>\n",
    "</div>\n",
    "\n",
    "We can already make a few comments about some of the variables:\n",
    "\n",
    "* `age`: there are not that many points for 'age > 70'. The dataset\n",
    "  description does indicate that retired people have been filtered out\n",
    "  (`hours-per-week > 0`);\n",
    "* `education-num`: peak at 10 and 13, hard to tell what it corresponds to\n",
    "  without looking much further. We'll do that later in this notebook;\n",
    "* `hours-per-week` peaks at 40, this was very likely the standard number of\n",
    "  working hours at the time of the data collection;\n",
    "* most values of `capital-gain` and `capital-loss` are close to zero."
   ]
  },
  {
   "cell_type": "markdown",
   "id": "municipal-enhancement",
   "metadata": {},
   "source": [
    "For categorical variables, we can look at the distribution of values:"
   ]
  },
  {
   "cell_type": "code",
   "execution_count": null,
   "id": "forced-snake",
   "metadata": {},
   "outputs": [],
   "source": [
    "adult_census['sex'].value_counts()"
   ]
  },
  {
   "cell_type": "code",
   "execution_count": null,
   "id": "meaningful-member",
   "metadata": {},
   "outputs": [],
   "source": [
    "adult_census['education'].value_counts()"
   ]
  },
  {
   "cell_type": "markdown",
   "id": "accepting-opening",
   "metadata": {
    "lines_to_next_cell": 0
   },
   "source": [
    "As noted above, `education-num` distribution has two clear peaks around 10\n",
    "and 13. It would be reasonable to expect that `education-num` is the number\n",
    "of years of education.\n",
    "\n",
    "Let's look at the relationship between `education` and `education-num`."
   ]
  },
  {
   "cell_type": "code",
   "execution_count": null,
   "id": "driving-gross",
   "metadata": {},
   "outputs": [],
   "source": [
    "pd.crosstab(index=adult_census['education'],\n",
    "            columns=adult_census['education-num'])"
   ]
  },
  {
   "cell_type": "markdown",
   "id": "split-girlfriend",
   "metadata": {},
   "source": [
    "This shows that `education` and `education-num` gives you the same\n",
    "information. For example, `education-num=2` is equivalent to\n",
    "`education='1st-4th'`. In practice that means we can remove `education-num`\n",
    "without losing information. Note that having redundant (or highly correlated)\n",
    "columns can be a problem for machine learning algorithms."
   ]
  },
  {
   "cell_type": "markdown",
   "id": "divine-leeds",
   "metadata": {},
   "source": [
    "<div class=\"admonition note alert alert-info\">\n",
    "<p class=\"first admonition-title\" style=\"font-weight: bold;\">Note</p>\n",
    "<p class=\"last\">In the upcoming notebooks, we will only keep the <tt class=\"docutils literal\">education</tt> variable,\n",
    "excluding the <tt class=\"docutils literal\"><span class=\"pre\">education-num</span></tt> variable.</p>\n",
    "</div>"
   ]
  },
  {
   "cell_type": "markdown",
   "id": "fitting-grade",
   "metadata": {},
   "source": [
    "Another way to inspect the data is to do a `pairplot` and show how each\n",
    "variable differs according to our target, `class`. Plots along the diagonal\n",
    "show the distribution of individual variables for each `class`. The plots on\n",
    "the off-diagonal can reveal interesting interactions between variables."
   ]
  },
  {
   "cell_type": "code",
   "execution_count": null,
   "id": "decreased-chester",
   "metadata": {},
   "outputs": [],
   "source": [
    "import seaborn as sns\n",
    "\n",
    "n_samples_to_plot = 5000\n",
    "columns = ['age', 'education-num', 'hours-per-week']\n",
    "_ = sns.pairplot(data=adult_census[:n_samples_to_plot], vars=columns,\n",
    "                 hue=target_column, plot_kws={'alpha': 0.2},\n",
    "                 height=3, diag_kind='hist', diag_kws={'bins': 30})"
   ]
  },
  {
   "cell_type": "markdown",
   "id": "parliamentary-malpractice",
   "metadata": {},
   "source": [
    "\n",
    "By looking at the data you could infer some hand-written rules to predict the\n",
    "class:\n",
    "\n",
    "* if you are young (less than 25 year-old roughly), you are in the\n",
    "  `<=50K` class;\n",
    "* if you are old (more than 70 year-old roughly), you are in the\n",
    "  `<=50K` class;\n",
    "* if you work part-time (less than 40 hours roughly) you are in the\n",
    "  `<=50K` class.\n",
    "\n",
    "These hand-written rules could work reasonably well without the need for any\n",
    "machine learning. Note however that it is not very easy to create rules for\n",
    "the region `40 < hours-per-week < 60` and `30 < age < 70`. We can hope that\n",
    "machine learning can help in this region. Also note that visualization can\n",
    "help creating hand-written rules but is limited to 2 dimensions (maybe 3\n",
    "dimensions), whereas machine learning models can build models in\n",
    "high-dimensional spaces.\n",
    "\n",
    "Another thing worth mentioning in this plot: if you are young (less than 25\n",
    "year-old roughly) or old (more than 70 year-old roughly) you tend to work\n",
    "less. This is a non-linear relationship between age and hours per week.\n",
    "Linear machine learning models can only capture linear interactions, so this\n",
    "may be a factor when deciding which model to chose.\n",
    "\n",
    "In a machine-learning setting, an algorithm automatically create the \"rules\"\n",
    "in order to make predictions on new data."
   ]
  },
  {
   "cell_type": "markdown",
   "id": "technological-faculty",
   "metadata": {},
   "source": [
    "The plot below shows the rules of a simple model, called decision tree.\n",
    "We will explain how this model works in a latter notebook, for now let us\n",
    "just consider the model predictions when trained on this dataset:\n",
    "\n",
    "![](../figures/simple_decision_tree_adult_census.png)\n",
    "\n",
    "The background color in each area represents the probability of the class\n",
    "`high-income` as estimated by the model. Values towards 0 (dark blue)\n",
    "indicates that the model predicts `low-income` with a high probability.\n",
    "Values towards 1 (dark orange) indicates that the model predicts\n",
    "`high-income` with a high probability. Values towards 0.5 (white) indicates\n",
    "that the model is not very sure about its prediction.\n",
    "\n",
    "Looking at the plot here is what we can gather:\n",
    "\n",
    "* In the region `age < 28.5` (left region) the prediction is `low-income`.\n",
    "  The dark blue color indicates that the model is quite sure about its\n",
    "  prediction.\n",
    "* In the region `age > 28.5 AND hours-per-week < 40.5`\n",
    "  (bottom-right region), the prediction is `low-income`. Note that the blue\n",
    "  is a bit lighter that for the left region which means that the algorithm is\n",
    "  not as certain in this region.\n",
    "* In the region `age > 28.5 AND hours-per-week > 40.5` (top-right region),\n",
    "  the prediction is `low-income`. However the probability of the class\n",
    "  `low-income` is very close to 0.5 which means the model is not sure at all\n",
    "  about its prediction.\n",
    "\n",
    "It is interesting to see that a simple model create rules similar to the ones\n",
    "that we could have created by hand. Note that machine learning is really\n",
    "interesting when creating rules by hand is not straightforward, for example\n",
    "because we are in high dimension (many features) or because there is no\n",
    "simple and obvious rules that separate the two classes as in the top-right\n",
    "region"
   ]
  },
  {
   "cell_type": "markdown",
   "id": "going-output",
   "metadata": {},
   "source": [
    "\n",
    "In this notebook we have:\n",
    "\n",
    "* loaded the data from a CSV file using `pandas`;\n",
    "* looked at the different kind of variables to differentiate between\n",
    "  categorical and numerical variables;\n",
    "* inspected the data with `pandas` and `seaborn`. Data inspection can allow\n",
    "  you to decide whether using machine learning is appropriate for your data\n",
    "  and to highlight potential peculiarities in your data.\n",
    "\n",
    "Ideas which will be discussed more in details later:\n",
    "\n",
    "* if your target variable is imbalanced (e.g., you have more samples from one\n",
    "  target category than another), you may need special techniques for training\n",
    "  and evaluating your machine learning model;\n",
    "* having redundant (or highly correlated) columns can be a problem for\n",
    "  some machine learning algorithms;\n",
    "* contrary to decision tree, linear models can only capture linear\n",
    "  interaction, so be aware of non-linear relationships in your data."
   ]
  }
 ],
 "metadata": {
  "kernelspec": {
   "display_name": "Python 3",
   "language": "python",
   "name": "python3"
  }
 },
 "nbformat": 4,
 "nbformat_minor": 5
}
