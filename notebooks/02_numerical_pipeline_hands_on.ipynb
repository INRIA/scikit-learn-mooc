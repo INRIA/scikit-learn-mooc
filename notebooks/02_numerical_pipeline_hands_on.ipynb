{
 "cells": [
  {
   "cell_type": "markdown",
   "metadata": {},
   "source": [
    "# Working with numerical data\n",
    "\n",
    "In the previous notebook, we trained a k-nearest neighbors on some data.\n",
    "However, we oversimplify the procedure by loading a dataset that only\n",
    "contained numerical data. Besides, we used datasets which were already\n",
    "split into train-test sets.\n",
    "\n",
    "In this notebook, we aim at:\n",
    "\n",
    "* identifying numerical data in a heterogeneous dataset;\n",
    "* select the subset of columns corresponding to numerical data;\n",
    "* use scikit-learn helper to separate data into train-test sets;\n",
    "* train and evaluate a more complex scikit-learn model.\n",
    "\n",
    "We will start by loading the adult census dataset used during the data\n",
    "exploration.\n",
    "\n",
    "## Loading the entire dataset\n",
    "\n",
    "As in the previous notebook, we rely on Pandas to open the CSV file into\n",
    "a dataframe."
   ]
  },
  {
   "cell_type": "code",
   "execution_count": null,
   "metadata": {},
   "outputs": [],
   "source": [
    "import pandas as pd\n",
    "\n",
    "df = pd.read_csv(\"../datasets/adult-census.csv\")\n",
    "df.head()"
   ]
  },
  {
   "cell_type": "markdown",
   "metadata": {},
   "source": [
    "The next step is to separate the target from the data. We will replacate the\n",
    "same step than in the previous notebook."
   ]
  },
  {
   "cell_type": "code",
   "execution_count": null,
   "metadata": {},
   "outputs": [],
   "source": [
    "data, target = df.drop(columns=\"class\"), df[\"class\"]"
   ]
  },
  {
   "cell_type": "code",
   "execution_count": null,
   "metadata": {},
   "outputs": [],
   "source": [
    "data.head()"
   ]
  },
  {
   "cell_type": "code",
   "execution_count": null,
   "metadata": {},
   "outputs": [],
   "source": [
    "target"
   ]
  },
  {
   "cell_type": "markdown",
   "metadata": {},
   "source": [
    "At this stage, we can focus on the data that we want to use to train or\n",
    "future predictive model.\n",
    "\n",
    "## Identify numerical data\n",
    "\n",
    "Numerical data are represented with numbers. They are linked to data that is\n",
    "measurable such as age or the number of hours a person works per week.\n",
    "\n",
    "Predictive models are designed to work with numerical data natively and it\n",
    "is a type of data that require a small amount of work to get started.\n",
    "\n",
    "The first task here will be to identify numerical data in our dataset.\n",
    "\n",
    "<div class=\"admonition caution alert alert-warning\">\n",
    "<p class=\"first admonition-title\" style=\"font-weight: bold;\">Caution!</p>\n",
    "<p class=\"last\">Numerical data are represented with numbers, but numbers are not always\n",
    "representing numerical data. Categories could already be encoded with\n",
    "numbers and you will need to identify these features.</p>\n",
    "</div>\n",
    "\n",
    "Thus, we can check the data type for each of the column in the dataset."
   ]
  },
  {
   "cell_type": "code",
   "execution_count": null,
   "metadata": {},
   "outputs": [],
   "source": [
    "data.dtypes"
   ]
  },
  {
   "cell_type": "markdown",
   "metadata": {},
   "source": [
    "We observe two types data type. We can make sure by checking the unique data\n",
    "types."
   ]
  },
  {
   "cell_type": "code",
   "execution_count": null,
   "metadata": {},
   "outputs": [],
   "source": [
    "data.dtypes.unique()"
   ]
  },
  {
   "cell_type": "markdown",
   "metadata": {},
   "source": [
    "Thus, we see two types of data types: integer and object. We can look at\n",
    "the first few lines of the dataframe to understand the meaning of the\n",
    "`object` data types."
   ]
  },
  {
   "cell_type": "code",
   "execution_count": null,
   "metadata": {},
   "outputs": [],
   "source": [
    "data.head()"
   ]
  },
  {
   "cell_type": "markdown",
   "metadata": {},
   "source": [
    "We see that `object` data type corresponds to columns containing strings. As\n",
    "we saw in the exploration section, these columns contains categories and we\n",
    "will see later how to handle those. We can select the columns containing\n",
    "integers and check their content."
   ]
  },
  {
   "cell_type": "code",
   "execution_count": null,
   "metadata": {},
   "outputs": [],
   "source": [
    "numerical_columns = [\n",
    "    \"age\", \"education-num\", \"capital-gain\", \"capital-loss\",\n",
    "    \"hours-per-week\", \"fnlwgt\"]\n",
    "data[numerical_columns].head()"
   ]
  },
  {
   "cell_type": "markdown",
   "metadata": {},
   "source": [
    "Now that we limited the dataset to numerical columns only, we can check\n",
    "closely what these numbers represent. Discarding `\"fnlwgt\"` aside for the\n",
    "moment, we can identify two types of usage.\n",
    "\n",
    "The former is related to a measurement such as age. The data are continuous\n",
    "meaning that they can take any value in a range. We can give the range for\n",
    "age column as an example,"
   ]
  },
  {
   "cell_type": "code",
   "execution_count": null,
   "metadata": {},
   "outputs": [],
   "source": [
    "data[\"age\"].describe()"
   ]
  },
  {
   "cell_type": "markdown",
   "metadata": {},
   "source": [
    "The age varies between 17 years and 90 years and can take any value in this\n",
    "range.\n",
    "\n",
    "The latter is related categorical data. These data are discrete, in contrast\n",
    "with continuous. It means that the variable can take only certain values\n",
    "which are known as categories. We will come back later on this type of data\n",
    "and how to handle them. Here, we are only interested to recognize them.\n",
    "\n",
    "Here, the column `\"education-num\"` gives an example. The number encode the\n",
    "education level which can only correspond to specific values. We can quickly\n",
    "check the number of occurrence of each category to get convinced."
   ]
  },
  {
   "cell_type": "code",
   "execution_count": null,
   "metadata": {},
   "outputs": [],
   "source": [
    "data[\"education-num\"].value_counts().sort_index()"
   ]
  },
  {
   "cell_type": "markdown",
   "metadata": {},
   "source": [
    "Therefore, we should ignore such type of columns because they would require\n",
    "a specific processing which is different from the continuous variable.\n",
    "\n",
    "Finally, we can mention that we will ignore the `\"fnwgt\"` column because it\n",
    "corresponds to an hand-crafted variable and we make the choice to only work\n",
    "with variable which has been collected. In the next notebook, we will\n",
    "regularly ignore this variable as well.\n",
    "\n",
    "Now, we can select the subset of numerical columns and store them inside a\n",
    "new dataframe."
   ]
  },
  {
   "cell_type": "code",
   "execution_count": null,
   "metadata": {},
   "outputs": [],
   "source": [
    "numerical_columns = [\n",
    "    \"age\", \"capital-gain\", \"capital-loss\", \"hours-per-week\"]\n",
    "\n",
    "data_numeric = data[numerical_columns]"
   ]
  },
  {
   "cell_type": "markdown",
   "metadata": {},
   "source": [
    "## Train-test split the dataset\n",
    "\n",
    "In the previous notebook, we loaded separately two datasets: a training and a\n",
    "testing dataset. We mentioned that scikit-learn provides an helper function\n",
    "`sklearn.model_selection.train_test_split` allowing to do this split.\n",
    "Here, we will use this tool instead of loading some new data."
   ]
  },
  {
   "cell_type": "code",
   "execution_count": null,
   "metadata": {},
   "outputs": [],
   "source": [
    "from sklearn.model_selection import train_test_split\n",
    "\n",
    "data_train, data_test, target_train, target_test = train_test_split(\n",
    "    data_numeric, target, random_state=42)"
   ]
  },
  {
   "cell_type": "markdown",
   "metadata": {},
   "source": [
    "<div class=\"admonition tip alert alert-warning\">\n",
    "<p class=\"first admonition-title\" style=\"font-weight: bold;\">Tip</p>\n",
    "<p class=\"last\"><tt class=\"docutils literal\">random_state</tt> parameter allows to get a deterministic results even if we\n",
    "use some random process (i.e. data shuffling).</p>\n",
    "</div>\n",
    "\n",
    "In the previous notebook, we used a k-nearest neighbors predictor. While this\n",
    "model is really intuitive to understand, it is not widely used. Here, we will\n",
    "a predictive model belonging to the linear model families.\n",
    "\n",
    "<div class=\"admonition note alert alert-info\">\n",
    "<p class=\"first admonition-title\" style=\"font-weight: bold;\">Note</p>\n",
    "<p class=\"last\">In short, these models find a set of weights to combine each column in the\n",
    "data matrix to predict the target. For instance, the model can come up with\n",
    "rules such as <tt class=\"docutils literal\">0.1 * age + 3.3 * <span class=\"pre\">education-num</span> - 15.1 &gt; 0</tt> means that\n",
    "<tt class=\"docutils literal\"><span class=\"pre\">high-income</span></tt> is predicted.</p>\n",
    "</div>\n",
    "\n",
    "Thus, we will use a logistic regression classifier and train it."
   ]
  },
  {
   "cell_type": "code",
   "execution_count": null,
   "metadata": {},
   "outputs": [],
   "source": [
    "from sklearn.linear_model import LogisticRegression\n",
    "\n",
    "model = LogisticRegression()\n",
    "model.fit(data_train, target_train)"
   ]
  },
  {
   "cell_type": "markdown",
   "metadata": {},
   "source": [
    "We can now check the performance of the model using the test set which we\n",
    "left out until now."
   ]
  },
  {
   "cell_type": "code",
   "execution_count": null,
   "metadata": {},
   "outputs": [],
   "source": [
    "accuracy = model.score(data_test, target_test)\n",
    "print(f\"Accuracy of logistic regresssion: {accuracy:.3f}\")"
   ]
  },
  {
   "cell_type": "markdown",
   "metadata": {},
   "source": [
    "Now the real question is: is this performance relevant of a good predictive\n",
    "model? You will answer to this question by solving the next exercise.\n",
    "\n",
    "In this notebook, we have learnt to:\n",
    "\n",
    "* identify numerical data in a heterogeneous dataset;\n",
    "* select the subset of columns corresponding to numerical data;\n",
    "* use scikit-learn helper to separate data into train-test sets;\n",
    "* train and evaluate a more complex scikit-learn model."
   ]
  }
 ],
 "metadata": {
  "jupytext": {
   "cell_metadata_filter": "-all",
   "main_language": "python",
   "notebook_metadata_filter": "-all"
  }
 },
 "nbformat": 4,
 "nbformat_minor": 4
}
