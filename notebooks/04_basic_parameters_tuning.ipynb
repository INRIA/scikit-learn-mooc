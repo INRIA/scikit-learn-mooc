{
 "cells": [
  {
   "cell_type": "markdown",
   "metadata": {},
   "source": [
    "# Introduction to scikit-learn: basic model hyper-parameters tuning\n",
    "\n",
    "The process of learning a predictive model is driven by a set of internal\n",
    "parameters and a set of training data. These internal parameters are called\n",
    "hyper-parameters and are specific for each family of models. In addition, a\n",
    "specific set of hyper-parameters are optimal for a specific dataset and thus they\n",
    "need to be optimized.\n",
    "In this notebook we will use the words \"hyper-parameters\" and \"parameters\" interchangeably\n",
    "\n",
    "This notebook shows:\n",
    "* the influence of changing model hyper-parameters;\n",
    "* how to tune these hyper-parameters;\n",
    "* how to evaluate the model performance together with hyper-parameter\n",
    "  tuning."
   ]
  },
  {
   "cell_type": "code",
   "execution_count": null,
   "metadata": {},
   "outputs": [],
   "source": [
    "import pandas as pd\n",
    "\n",
    "df = pd.read_csv(\"../datasets/adult-census.csv\")"
   ]
  },
  {
   "cell_type": "code",
   "execution_count": null,
   "metadata": {},
   "outputs": [],
   "source": [
    "target_name = \"class\"\n",
    "target = df[target_name].to_numpy()\n",
    "target"
   ]
  },
  {
   "cell_type": "code",
   "execution_count": null,
   "metadata": {},
   "outputs": [],
   "source": [
    "data = df.drop(columns=[target_name, \"fnlwgt\"])\n",
    "data.head()"
   ]
  },
  {
   "cell_type": "markdown",
   "metadata": {},
   "source": [
    "Once the dataset is loaded, we split it into a training and testing sets."
   ]
  },
  {
   "cell_type": "code",
   "execution_count": null,
   "metadata": {},
   "outputs": [],
   "source": [
    "from sklearn.model_selection import train_test_split\n",
    "\n",
    "df_train, df_test, target_train, target_test = train_test_split(\n",
    "    data, target, random_state=42)"
   ]
  },
  {
   "cell_type": "markdown",
   "metadata": {},
   "source": [
    "Then, we define the preprocessing pipeline to transform differently\n",
    "the numerical and categorical data."
   ]
  },
  {
   "cell_type": "code",
   "execution_count": null,
   "metadata": {},
   "outputs": [],
   "source": [
    "from sklearn.compose import ColumnTransformer\n",
    "from sklearn.preprocessing import OrdinalEncoder\n",
    "\n",
    "categorical_columns = [\n",
    "    'workclass', 'education', 'marital-status', 'occupation',\n",
    "    'relationship', 'race', 'native-country', 'sex']\n",
    "\n",
    "categories = [\n",
    "    data[column].unique() for column in data[categorical_columns]]\n",
    "\n",
    "categorical_preprocessor = OrdinalEncoder(categories=categories)\n",
    "\n",
    "preprocessor = ColumnTransformer([\n",
    "    ('cat-preprocessor', categorical_preprocessor,\n",
    "     categorical_columns),], remainder='passthrough',\n",
    "                                 sparse_threshold=0)"
   ]
  },
  {
   "cell_type": "markdown",
   "metadata": {},
   "source": [
    "Finally, we use a tree-based classifier (i.e. histogram gradient-boosting) to\n",
    "predict whether or not a person earns more than 50,000 dollars a year."
   ]
  },
  {
   "cell_type": "code",
   "execution_count": null,
   "metadata": {},
   "outputs": [],
   "source": [
    "%%time\n",
    "# for the moment this line is required to import HistGradientBoostingClassifier\n",
    "from sklearn.experimental import enable_hist_gradient_boosting\n",
    "from sklearn.ensemble import HistGradientBoostingClassifier\n",
    "from sklearn.pipeline import Pipeline\n",
    "\n",
    "model = Pipeline([\n",
    "    (\"preprocessor\", preprocessor),\n",
    "    (\"classifier\",\n",
    "     HistGradientBoostingClassifier(random_state=42))])\n",
    "model.fit(df_train, target_train)\n",
    "\n",
    "print(\n",
    "    f\"The test accuracy score of the gradient boosting pipeline is: \"\n",
    "    f\"{model.score(df_test, target_test):.2f}\")"
   ]
  },
  {
   "cell_type": "markdown",
   "metadata": {},
   "source": [
    "## Quizz\n",
    "\n",
    "1. What is the default value of the `learning_rate` parameter of the\n",
    "`HistGradientBoostingClassifier` class? ([link to the API documentation](\n",
    "https://scikit-learn.org/stable/modules/generated/sklearn.ensemble.HistGradientBoostingClassifier.html))\n",
    "\n",
    "2. Try to edit the code of the previous cell to set the learning rate\n",
    "parameter to 10. Does this increase the accuracy of the model?\n",
    "\n",
    "3. Decrease progressively value of `learning_rate`: can you find a value that\n",
    "yields an accuracy higher than with the default learning rate?\n",
    "\n",
    "4. Fix `learning_rate` to 0.05 and try setting the value of `max_leaf_nodes`\n",
    "to the minimum value of 2. Does it improve the accuracy?\n",
    "\n",
    "5. Try to progressively increase the value of `max_leaf_nodes` to 256 by\n",
    "taking powers of 2. What do you observe?"
   ]
  },
  {
   "cell_type": "markdown",
   "metadata": {
    "lines_to_next_cell": 0
   },
   "source": [
    "## The issue of finding the best model parameters\n",
    "\n",
    "In the previous example, we created an histogram gradient-boosting classifier\n",
    "using the default parameters by omitting to explicitely set these parameters.\n",
    "\n",
    "However, there is no reason that these parameters are optimal for our\n",
    "dataset. For instance, fine-tuning the histogram gradient-boosting can be\n",
    "achieved by finding the best combination of the following parameters: (i)\n",
    "`learning_rate`, (ii) `min_samples_leaf`, and (iii) `max_leaf_nodes`.\n",
    "Nevertheless, finding this combination manually will be tedious. Indeed,\n",
    "there are relationship between these parameters which are difficult to find\n",
    "manually: increasing the depth of trees (increasing `max_samples_leaf`)\n",
    "should be associated with a lower learning-rate.\n",
    "\n",
    "Scikit-learn provides tools to explore and evaluate the parameters\n",
    "space."
   ]
  },
  {
   "cell_type": "markdown",
   "metadata": {},
   "source": [
    "## Finding the best model hyper-parameters via exhaustive parameters search\n",
    "\n",
    "Our goal is to find the best combination of the parameters stated above.\n",
    "\n",
    "In short, we will set these parameters with some defined values, train our\n",
    "model on some data, and evaluate the model performance on some left out data.\n",
    "Ideally, we will select the parameters leading to the optimal performance on\n",
    "the testing set."
   ]
  },
  {
   "cell_type": "markdown",
   "metadata": {},
   "source": [
    "The first step is to find the name of the parameters to be set. We use the\n",
    "method `get_params()` to get this information. For instance, for a single\n",
    "model like the `HistGradientBoostingClassifier`, we can get the list such as:"
   ]
  },
  {
   "cell_type": "code",
   "execution_count": null,
   "metadata": {},
   "outputs": [],
   "source": [
    "print(\"The hyper-parameters are for a histogram GBDT model are:\")\n",
    "for param_name in HistGradientBoostingClassifier().get_params().keys(\n",
    "):\n",
    "    print(param_name)"
   ]
  },
  {
   "cell_type": "markdown",
   "metadata": {},
   "source": [
    "When the model of interest is a `Pipeline`, i.e. a serie of transformers and\n",
    "a predictor, the name of the estimator will be added at the front of the\n",
    "parameter name with a double underscore (\"dunder\") in-between (e.g.\n",
    "`estimator__parameters`)."
   ]
  },
  {
   "cell_type": "code",
   "execution_count": null,
   "metadata": {},
   "outputs": [],
   "source": [
    "print(\"The hyper-parameters are for the full-pipeline are:\")\n",
    "for param_name in model.get_params().keys():\n",
    "    print(param_name)"
   ]
  },
  {
   "cell_type": "markdown",
   "metadata": {},
   "source": [
    "The parameters that we want to set are:\n",
    "- `'classifier__learning_rate'`: this parameter will\n",
    "  control the ability of a new tree to correct the error of the previous\n",
    "  sequence of trees;\n",
    "- `'classifier__max_leaf_nodes'`: this parameter will\n",
    "  control the depth of each tree."
   ]
  },
  {
   "cell_type": "markdown",
   "metadata": {},
   "source": [
    "## Exercise 1:\n",
    "\n",
    "By using the previously defined model (called `model`) and using two nested `for`\n",
    "loops, make a search for the best combinations of the `learning_rate` and\n",
    "`max_leaf_nodes` parameters. In this regard, you will need to train and test\n",
    "the model by setting the parameters. The evaluation of the model should be\n",
    "performed using `cross_val_score`. You can use the following parameters\n",
    "search:\n",
    "- `learning_rate` for the values 0.05, 0.1, 0.5, 1 and 5\n",
    "- `max_leaf_nodes` for the values 3, 10, 30 and 100"
   ]
  },
  {
   "cell_type": "markdown",
   "metadata": {},
   "source": [
    "## Automated parameter tuning via grid-search\n",
    "\n",
    "Instead of manually writing the two `for` loops, scikit-learn provides a\n",
    "class called `GridSearchCV` which implement the exhaustive search implemented\n",
    "during the exercise.\n",
    "\n",
    "Let see how to use the `GridSearchCV` estimator for doing such search.\n",
    "Since the grid-search will be costly, we will only explore the combination\n",
    "learning-rate and the maximum number of nodes."
   ]
  },
  {
   "cell_type": "code",
   "execution_count": null,
   "metadata": {},
   "outputs": [],
   "source": [
    "%%time\n",
    "import numpy as np\n",
    "from sklearn.model_selection import GridSearchCV\n",
    "\n",
    "param_grid = {\n",
    "    'classifier__learning_rate': (0.05, 0.1, 0.5, 1, 5),\n",
    "    'classifier__max_leaf_nodes': (3, 10, 30, 100)}\n",
    "model_grid_search = GridSearchCV(model, param_grid=param_grid,\n",
    "                                 n_jobs=4, cv=2)\n",
    "model_grid_search.fit(df_train, target_train)\n",
    "\n",
    "print(f\"The test accuracy score of the grid-searched pipeline is: \"\n",
    "      f\"{model_grid_search.score(df_test, target_test):.2f}\")"
   ]
  },
  {
   "cell_type": "markdown",
   "metadata": {},
   "source": [
    "The `GridSearchCV` estimator takes a `param_grid` parameter which defines\n",
    "all hyper-parameters and their associated values. The grid-search will be in\n",
    "charge of creating all possible combinations and test them.\n",
    "\n",
    "The number of combinations will be equal to the product of the\n",
    "number of values to explore for each parameter (e.g. in our example 4 x 4\n",
    "combinations). Thus, adding new parameters with their associated values to be\n",
    "explored become rapidly computationally expensive.\n",
    "\n",
    "Once the grid-search is fitted, it can be used as any other predictor by\n",
    "calling `predict` and `predict_proba`. Internally, it will use the model with\n",
    "the best parameters found during `fit`.\n",
    "\n",
    "Get predictions for the 5 first samples using the estimator with the best\n",
    "parameters."
   ]
  },
  {
   "cell_type": "code",
   "execution_count": null,
   "metadata": {},
   "outputs": [],
   "source": [
    "model_grid_search.predict(df_test.iloc[0:5])"
   ]
  },
  {
   "cell_type": "markdown",
   "metadata": {},
   "source": [
    "You can know about these parameters by looking at the `best_params_`\n",
    "attribute."
   ]
  },
  {
   "cell_type": "code",
   "execution_count": null,
   "metadata": {},
   "outputs": [],
   "source": [
    "print(f\"The best set of parameters is: \"\n",
    "      f\"{model_grid_search.best_params_}\")"
   ]
  },
  {
   "cell_type": "markdown",
   "metadata": {},
   "source": [
    "The accuracy and the best parameters of the grid-searched pipeline are\n",
    "similar to the ones we found in the previous exercise, where we searched the\n",
    "best parameters \"by hand\" through a double for loop."
   ]
  },
  {
   "cell_type": "markdown",
   "metadata": {},
   "source": [
    "In addition, we can inspect all results which are stored in the attribute\n",
    "`cv_results_` of the grid-search. We will filter some specific columns\n",
    "from these results"
   ]
  },
  {
   "cell_type": "code",
   "execution_count": null,
   "metadata": {},
   "outputs": [],
   "source": [
    "cv_results = pd.DataFrame(model_grid_search.cv_results_).sort_values(\n",
    "    \"mean_test_score\", ascending=False)\n",
    "cv_results.head()"
   ]
  },
  {
   "cell_type": "markdown",
   "metadata": {},
   "source": [
    "Let us focus on the most interesting columns and shorten the parameter\n",
    "names to remove the `\"param_classifier__\"` prefix for readability:"
   ]
  },
  {
   "cell_type": "code",
   "execution_count": null,
   "metadata": {},
   "outputs": [],
   "source": [
    "# get the parameter names\n",
    "column_results = [f\"param_{name}\" for name in param_grid.keys()]\n",
    "column_results += [\n",
    "    \"mean_test_score\", \"std_test_score\", \"rank_test_score\"]\n",
    "cv_results = cv_results[column_results]"
   ]
  },
  {
   "cell_type": "code",
   "execution_count": null,
   "metadata": {},
   "outputs": [],
   "source": [
    "def shorten_param(param_name):\n",
    "    if \"__\" in param_name:\n",
    "        return param_name.rsplit(\"__\", 1)[1]\n",
    "    return param_name\n",
    "\n",
    "\n",
    "cv_results = cv_results.rename(shorten_param, axis=1)\n",
    "cv_results"
   ]
  },
  {
   "cell_type": "markdown",
   "metadata": {},
   "source": [
    "With only 2 parameters, we might want to visualize the grid-search as a\n",
    "heatmap. We need to transform our `cv_results` into a dataframe where:\n",
    "- the rows will correspond to the learning-rate values\n",
    "- the columns will correspond to the maximum number of leaf\n",
    "- the content of the dataframe will be the mean test scores."
   ]
  },
  {
   "cell_type": "code",
   "execution_count": null,
   "metadata": {},
   "outputs": [],
   "source": [
    "pivoted_cv_results = cv_results.pivot_table(\n",
    "    values=\"mean_test_score\", index=[\"learning_rate\"],\n",
    "    columns=[\"max_leaf_nodes\"])\n",
    "\n",
    "pivoted_cv_results"
   ]
  },
  {
   "cell_type": "code",
   "execution_count": null,
   "metadata": {},
   "outputs": [],
   "source": [
    "import matplotlib.pyplot as plt\n",
    "from seaborn import heatmap\n",
    "\n",
    "ax = heatmap(pivoted_cv_results, annot=True, cmap=\"YlGnBu\", vmin=0.7,\n",
    "             vmax=0.9)\n",
    "ax.invert_yaxis()"
   ]
  },
  {
   "cell_type": "markdown",
   "metadata": {},
   "source": [
    "The above tables highlights the following things:\n",
    "\n",
    "- for too high values of `learning_rate`, the performance of the model is degraded and adjusting the value of `max_leaf_nodes` cannot fix that problem;\n",
    "- outside of this pathological region, we observe that the optimal choice of `max_leaf_nodes` depends on the value of `learning_rate`;\n",
    "- in particular, we observe a \"diagonal\" of good models with an accuracy close to the maximal of 0.87: when the value of `max_leaf_nodes` is increased, one should increase the value of `learning_rate` accordingly to preserve a good accuracy.\n",
    "\n",
    "The precise meaning of those two parameters will be explained in a latter notebook.\n",
    "\n",
    "For now we will note that, in general, **there is no unique optimal parameter setting**: 6 models out of the 16 parameter configuration reach the maximal accuracy (up to small random fluctuations caused by the sampling of the training set)."
   ]
  },
  {
   "cell_type": "markdown",
   "metadata": {},
   "source": [
    "## Hyper-parameter tuning with Random Search\n",
    "\n",
    "\n",
    "With the `GridSearchCV` estimator, the parameters need to be specified\n",
    "explicitly. We already mentioned that exploring a large number of values for\n",
    "different parameters will be quickly untractable.\n",
    "\n",
    "Instead, we can randomly generate the parameter candidates. The\n",
    "`RandomizedSearchCV` allows for such stochastic search. It is used similarly to\n",
    "the `GridSearchCV` but the sampling distributions need to be specified\n",
    "instead of the parameter values. For instance, we will draw candidates using\n",
    "a log-uniform distribution also called reciprocal distribution. In addition,\n",
    "we will optimize 3 other parameters:\n",
    "- `max_iter`: it corresponds to the number of trees in the ensemble;\n",
    "- `min_samples_leaf`: it corresponds to the minimum number of samples\n",
    "  required in a leaf.\n",
    "- `max_bins`: it corresponds to the maximum number of bins to construct the\n",
    "  histograms."
   ]
  },
  {
   "cell_type": "code",
   "execution_count": null,
   "metadata": {},
   "outputs": [],
   "source": [
    "from scipy.stats import reciprocal\n",
    "from sklearn.model_selection import RandomizedSearchCV\n",
    "from pprint import pprint\n",
    "\n",
    "\n",
    "class reciprocal_int:\n",
    "    \"\"\"Integer valued version of the log-uniform distribution\"\"\"\n",
    "    def __init__(self, a, b):\n",
    "        self._distribution = reciprocal(a, b)\n",
    "\n",
    "    def rvs(self, *args, **kwargs):\n",
    "        \"\"\"Random variable sample\"\"\"\n",
    "        return self._distribution.rvs(*args, **kwargs).astype(int)\n",
    "\n",
    "\n",
    "param_distributions = {\n",
    "    'classifier__l2_regularization': reciprocal(1e-6, 1e3),\n",
    "    'classifier__learning_rate': reciprocal(0.001, 10),\n",
    "    'classifier__max_leaf_nodes': reciprocal_int(2, 256),\n",
    "    'classifier__min_samples_leaf': reciprocal_int(1, 100),\n",
    "    'classifier__max_bins': reciprocal_int(2, 255),}\n",
    "model_random_search = RandomizedSearchCV(\n",
    "    model, param_distributions=param_distributions, n_iter=10,\n",
    "    n_jobs=4, cv=5)\n",
    "model_random_search.fit(df_train, target_train)\n",
    "\n",
    "print(f\"The test accuracy score of the best model is \"\n",
    "      f\"{model_random_search.score(df_test, target_test):.2f}\")"
   ]
  },
  {
   "cell_type": "code",
   "execution_count": null,
   "metadata": {},
   "outputs": [],
   "source": [
    "print(\"The best parameters are:\")\n",
    "pprint(model_random_search.best_params_)"
   ]
  },
  {
   "cell_type": "markdown",
   "metadata": {},
   "source": [
    "We can inspect the results using the attributes `cv_results` as we previously\n",
    "did."
   ]
  },
  {
   "cell_type": "code",
   "execution_count": null,
   "metadata": {},
   "outputs": [],
   "source": [
    "# get the parameter names\n",
    "column_results = [\n",
    "    f\"param_{name}\" for name in param_distributions.keys()]\n",
    "column_results += [\n",
    "    \"mean_test_score\", \"std_test_score\", \"rank_test_score\"]\n",
    "\n",
    "cv_results = pd.DataFrame(model_random_search.cv_results_)\n",
    "cv_results = cv_results[column_results].sort_values(\n",
    "    \"mean_test_score\", ascending=False)\n",
    "cv_results = cv_results.rename(shorten_param, axis=1)\n",
    "cv_results"
   ]
  },
  {
   "cell_type": "markdown",
   "metadata": {},
   "source": [
    "In practice, a randomized hyper-parameter search is usually run with a large number of\n",
    "iterations. In order to avoid the computation cost and still make a decent\n",
    "analysis, we load the results obtained from a similar search with 200\n",
    "iterations."
   ]
  },
  {
   "cell_type": "code",
   "execution_count": null,
   "metadata": {},
   "outputs": [],
   "source": [
    "# model_random_search = RandomizedSearchCV(\n",
    "#     model, param_distributions=param_distributions, n_iter=500,\n",
    "#     n_jobs=4, cv=5)\n",
    "# model_random_search.fit(df_train, target_train)\n",
    "# cv_results =  pd.DataFrame(model_random_search.cv_results_)\n",
    "# cv_results.to_csv(\"../figures/randomized_search_results.csv\")"
   ]
  },
  {
   "cell_type": "code",
   "execution_count": null,
   "metadata": {},
   "outputs": [],
   "source": [
    "cv_results = pd.read_csv(\"../figures/randomized_search_results.csv\",\n",
    "                         index_col=0)"
   ]
  },
  {
   "cell_type": "markdown",
   "metadata": {},
   "source": [
    "As we have more than 2 paramters in our grid-search, we cannot visualize the\n",
    "results using a heatmap. However, we can us a parallel coordinates plot."
   ]
  },
  {
   "cell_type": "code",
   "execution_count": null,
   "metadata": {},
   "outputs": [],
   "source": [
    "(cv_results[column_results].rename(\n",
    "    shorten_param, axis=1).sort_values(\"mean_test_score\"))"
   ]
  },
  {
   "cell_type": "code",
   "execution_count": null,
   "metadata": {},
   "outputs": [],
   "source": [
    "import plotly.express as px\n",
    "\n",
    "fig = px.parallel_coordinates(\n",
    "    cv_results.rename(shorten_param, axis=1).apply({\n",
    "        \"learning_rate\": np.log10,\n",
    "        \"max_leaf_nodes\": np.log2,\n",
    "        \"max_bins\": np.log2,\n",
    "        \"min_samples_leaf\": np.log10,\n",
    "        \"l2_regularization\": np.log10,\n",
    "        \"mean_test_score\": lambda x: x,}),\n",
    "    color=\"mean_test_score\",\n",
    "    color_continuous_scale=px.colors.sequential.Viridis,\n",
    ")\n",
    "fig.show()"
   ]
  },
  {
   "cell_type": "markdown",
   "metadata": {},
   "source": [
    "The parallel coordinates plot will display the values of the hyper-parameters\n",
    "on different columns while the performance metric is color coded. Thus, we\n",
    "are able to quickly inspect if there is a range of hyper-parameters which is\n",
    "working or not.\n",
    "\n",
    "Note that we **transformed most axis values by taking a log10 or log2** to\n",
    "spread the active ranges and improve the readability of the plot.\n",
    "\n",
    "It is possible to **select a range of results by clicking and holding on\n",
    "any axis** of the parallel coordinate plot. You can then slide (move)\n",
    "the range selection and cross two selections to see the intersections."
   ]
  },
  {
   "cell_type": "markdown",
   "metadata": {},
   "source": [
    "**Quizz**\n",
    "\n",
    "\n",
    "Select the worst performing models (for instance models with a \"mean_test_score\" lower than 0.7): what do have all these moels in common (choose one):\n",
    "\n",
    "\n",
    "|                               |      |\n",
    "|-------------------------------|------|\n",
    "| too large `l2_regularization` |      |\n",
    "| too small `l2_regularization` |      |\n",
    "| too large `learning_rate`     |      |\n",
    "| too low `learning_rate`       |      |\n",
    "| too large `max_bins`          |      |\n",
    "| too large `max_bins`          |      |\n",
    "\n",
    "\n",
    "Using the above plot, identify ranges of values for hyperparameter that always prevent the model to reach a test score higher than 0.86, irrespective of the other values:\n",
    "\n",
    "\n",
    "|                               | True | False |\n",
    "|-------------------------------|------|-------|\n",
    "| too large `l2_regularization` |      |       |\n",
    "| too small `l2_regularization` |      |       |\n",
    "| too large `learning_rate`     |      |       |\n",
    "| too low `learning_rate`       |      |       |\n",
    "| too large `max_bins`          |      |       |\n",
    "| too large `max_bins`          |      |       |"
   ]
  },
  {
   "cell_type": "markdown",
   "metadata": {},
   "source": [
    "## Exercise 2:\n",
    "\n",
    "- Build a machine learning pipeline:\n",
    "  * preprocess the categorical columns using a `OneHotEncoder` and use\n",
    "    a `StandardScaler` to normalize the numerical data.\n",
    "  * use a `LogisticRegression` as a predictive model.\n",
    "- Make an hyper-parameters search using `RandomizedSearchCV` and tuning the\n",
    "  parameters:\n",
    "  * `C` with values ranging from 0.001 to 10. You can use a reciprocal\n",
    "    distribution (i.e. `scipy.stats.reciprocal`);\n",
    "  * `solver` with possible values being `\"liblinear\"` and `\"lbfgs\"`;\n",
    "  * `penalty` with possible values being `\"l2\"` and `\"l1\"`;\n",
    "  * `drop` with possible values being `None` or `\"first\"`.\n",
    "\n",
    "You might get some `FitFailedWarning` and try to explain why."
   ]
  },
  {
   "cell_type": "markdown",
   "metadata": {},
   "source": [
    "## Combining evaluation and hyper-parameters search\n",
    "\n",
    "Cross-validation was used for searching for the best model parameters. We\n",
    "previously evaluated model performance through cross-validation as well. If\n",
    "we would like to combine both aspects, we need to perform a **\"nested\"\n",
    "cross-validation**. The \"outer\" cross-validation is applied to assess the model\n",
    "while the \"inner\" cross-validation sets the hyper-parameters of the model on\n",
    "the data set provided by the \"outer\" cross-validation.\n",
    "\n",
    "\n",
    "In practice, it can be implemented by calling `cross_val_score` or\n",
    "`cross_validate` on an instance of `GridSearchCV`, `RandomizedSearchCV`, or any\n",
    "other `EstimatorCV` class."
   ]
  },
  {
   "cell_type": "code",
   "execution_count": null,
   "metadata": {},
   "outputs": [],
   "source": [
    "from sklearn.model_selection import cross_val_score\n",
    "\n",
    "# recall the definition of our grid-search\n",
    "param_distributions = {\n",
    "    'classifier__max_iter': reciprocal_int(10, 50),\n",
    "    'classifier__learning_rate': reciprocal(0.01, 10),\n",
    "    'classifier__max_leaf_nodes': reciprocal_int(2, 16),\n",
    "    'classifier__min_samples_leaf': reciprocal_int(1, 50),}\n",
    "model_random_search = RandomizedSearchCV(\n",
    "    model, param_distributions=param_distributions, n_iter=10,\n",
    "    n_jobs=4, cv=5)\n",
    "\n",
    "scores = cross_val_score(model_random_search, data, target, n_jobs=4,\n",
    "                         cv=5)"
   ]
  },
  {
   "cell_type": "code",
   "execution_count": null,
   "metadata": {},
   "outputs": [],
   "source": [
    "print(f\"The cross-validated accuracy score is:\"\n",
    "      f\" {scores.mean():.3f} +- {scores.std():.3f}\")"
   ]
  },
  {
   "cell_type": "code",
   "execution_count": null,
   "metadata": {},
   "outputs": [],
   "source": [
    "print(\"The scores obtained for each CV split are:\")\n",
    "print(scores)"
   ]
  },
  {
   "cell_type": "markdown",
   "metadata": {},
   "source": [
    "Be aware that the best model found for each split of the outer cross-validation loop might not share the same hyper-parameter values.\n",
    "\n",
    "When analyzing such model, you should not only look at the\n",
    "overall model performance but look at the hyper-parameters variations as\n",
    "well."
   ]
  },
  {
   "cell_type": "markdown",
   "metadata": {},
   "source": [
    "## In this notebook, we have:\n",
    "\n",
    "* manually tuned the hyper-parameters of a machine-learning pipeline;\n",
    "* automatically tuned the hyper-parameters of a machine-learning pipeline by\n",
    "  exhaustively searching the best combination from a defined grid;\n",
    "* automatically tuned the hyper-parameters of a machine-learning pipeline by\n",
    "  drawing values candidates from some predefined distributions;\n",
    "* nested an hyper-parameters tuning procedure within a cross-validation\n",
    "  evaluation procedure.\n",
    "\n",
    "## Main take-away points\n",
    "\n",
    "* a grid-search is a costly exhaustive search and does scale with the number of\n",
    "  parameters to search;\n",
    "* a randomized-search will always run with a fixed given budget;\n",
    "* when assessing the performance of a model, hyper-parameters search should\n",
    "  be tuned on the training data of a predifined train test split;\n",
    "* alternatively it is possible to nest parameter tuning within a\n",
    "  cross-validation scheme."
   ]
  }
 ],
 "metadata": {
  "kernelspec": {
   "display_name": "Python 3",
   "language": "python",
   "name": "python3"
  }
 },
 "nbformat": 4,
 "nbformat_minor": 4
}
