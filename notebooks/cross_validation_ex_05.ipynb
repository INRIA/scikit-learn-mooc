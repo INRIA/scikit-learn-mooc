{
 "cells": [
  {
   "cell_type": "markdown",
   "metadata": {},
   "source": [
    "# \ud83d\udcdd Introductory exercise for non i.i.d. data\n",
    "\n",
    "<div class=\"admonition note alert alert-info\">\n",
    "<p class=\"first admonition-title\" style=\"font-weight: bold;\">Note</p>\n",
    "<p class=\"last\">i.i.d is the acronym of \"independent and identically distributed\"\n",
    "(as in \"independent and identically distributed random variables\").</p>\n",
    "</div>\n",
    "\n",
    "This exercise aims at showing some aspects to consider when dealing with non\n",
    "i.i.d data, typically time series.\n",
    "\n",
    "For this purpose, we will create a synthetic dataset simulating stock values.\n",
    "We will formulate the following data science problem: predict the value of a\n",
    "specific stock given other stock.\n",
    "\n",
    "To make this problem interesting, we want to ensure that any predictive model\n",
    "should **not** work. In this regard, the stocks will be generated completely\n",
    "randomly without any link between them. We will only add a constraint: the\n",
    "value of a stock at a given time `t` will depend on the value of the stock\n",
    "from the past.\n",
    "\n",
    "We will create a function to generate such data."
   ]
  },
  {
   "cell_type": "code",
   "execution_count": null,
   "metadata": {},
   "outputs": [],
   "source": [
    "import numpy as np\n",
    "import pandas as pd\n",
    "\n",
    "\n",
    "def generate_random_stock_market(n_stock=3, seed=0):\n",
    "    rng = np.random.RandomState(seed)\n",
    "\n",
    "    date_range = pd.date_range(start=\"01/01/2010\", end=\"31/12/2020\")\n",
    "    stocks = np.array([\n",
    "        rng.randint(low=100, high=200) +\n",
    "        np.cumsum(rng.normal(size=(len(date_range),)))\n",
    "        for _ in range(n_stock)\n",
    "    ]).T\n",
    "    return pd.DataFrame(\n",
    "        stocks,\n",
    "        columns=[f\"Stock {i}\" for i in range(n_stock)],\n",
    "        index=date_range,\n",
    "    )"
   ]
  },
  {
   "cell_type": "markdown",
   "metadata": {},
   "source": [
    "Now that we have our data generator, let's create three quotes, corresponding\n",
    "to the quotes of three different companies for instance. We will plot\n",
    "the stock values"
   ]
  },
  {
   "cell_type": "code",
   "execution_count": null,
   "metadata": {},
   "outputs": [],
   "source": [
    "stocks = generate_random_stock_market()\n",
    "stocks.head()"
   ]
  },
  {
   "cell_type": "code",
   "execution_count": null,
   "metadata": {},
   "outputs": [],
   "source": [
    "import matplotlib.pyplot as plt\n",
    "\n",
    "stocks.plot()\n",
    "plt.ylabel(\"Stock value\")\n",
    "plt.legend(bbox_to_anchor=(1.05, 0.8), loc=\"upper left\")\n",
    "_ = plt.title(\"Stock values over time\")"
   ]
  },
  {
   "cell_type": "markdown",
   "metadata": {},
   "source": [
    "Because the stocks are generated randomly, it is not possible for a\n",
    "predictive model to be able to predict the value of a stock depending on the\n",
    "other stocks. By using the cross-validation framework from the previous\n",
    "exercise, we will check that we get such expected results.\n",
    "\n",
    "First, let's organise our data into a matrix `data` and a vector `target`.\n",
    "Split the data such that the `Stock 0` is the stock that we want to predict\n",
    "and the `Stock 1` and `Stock 2` are stocks used to build our model."
   ]
  },
  {
   "cell_type": "code",
   "execution_count": null,
   "metadata": {},
   "outputs": [],
   "source": [
    "# Write your code here."
   ]
  },
  {
   "cell_type": "markdown",
   "metadata": {},
   "source": [
    "Let's create a machine learning model. We can use a\n",
    "`GradientBoostingRegressor`."
   ]
  },
  {
   "cell_type": "code",
   "execution_count": null,
   "metadata": {},
   "outputs": [],
   "source": [
    "# Write your code here."
   ]
  },
  {
   "cell_type": "markdown",
   "metadata": {},
   "source": [
    "Now, we have to define a cross-validation strategy to evaluate our model.\n",
    "Use a `ShuffleSplit` cross-validation."
   ]
  },
  {
   "cell_type": "code",
   "execution_count": null,
   "metadata": {},
   "outputs": [],
   "source": [
    "# Write your code here."
   ]
  },
  {
   "cell_type": "markdown",
   "metadata": {},
   "source": [
    "We should be set to make our evaluation. Call the function `cross_val_score`\n",
    "to compute the $R^2$ score for the different split and report the mean\n",
    "and standard deviation of the model."
   ]
  },
  {
   "cell_type": "code",
   "execution_count": null,
   "metadata": {},
   "outputs": [],
   "source": [
    "# Write your code here."
   ]
  },
  {
   "cell_type": "markdown",
   "metadata": {},
   "source": [
    "Your model is not giving random predictions. Could you ellaborate on what\n",
    "are the reasons of such a success on random data."
   ]
  }
 ],
 "metadata": {
  "jupytext": {
   "cell_metadata_filter": "-all",
   "main_language": "python",
   "notebook_metadata_filter": "-all"
  }
 },
 "nbformat": 4,
 "nbformat_minor": 5
}