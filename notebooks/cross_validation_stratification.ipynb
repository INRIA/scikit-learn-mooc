{
 "cells": [
  {
   "cell_type": "markdown",
   "metadata": {},
   "source": [
    "# Stratification\n",
    "Let's start with the concept of stratification by giving an example where\n",
    "we can get into trouble if we are not careful. We load the iris dataset."
   ]
  },
  {
   "cell_type": "code",
   "execution_count": null,
   "metadata": {},
   "outputs": [],
   "source": [
    "from sklearn.datasets import load_iris\n",
    "\n",
    "X, y = load_iris(as_frame=True, return_X_y=True)"
   ]
  },
  {
   "cell_type": "markdown",
   "metadata": {},
   "source": [
    "At this point, we create a basic machine-learning model: a logistic\n",
    "regression. We expect this model to work quite well on the iris dataset since\n",
    "this is a toy dataset."
   ]
  },
  {
   "cell_type": "code",
   "execution_count": null,
   "metadata": {},
   "outputs": [],
   "source": [
    "from sklearn.preprocessing import StandardScaler\n",
    "from sklearn.linear_model import LogisticRegression\n",
    "from sklearn.pipeline import make_pipeline\n",
    "\n",
    "model = make_pipeline(StandardScaler(), LogisticRegression())"
   ]
  },
  {
   "cell_type": "markdown",
   "metadata": {},
   "source": [
    "Once we created our model, we will use the cross-validation framework to\n",
    "evaluate it. We will use a strategy called `KFold` cross-validation. We give\n",
    "a simple usage example of the `KFold` strategy to get an intuition of how it\n",
    "splits the dataset. We will define a dataset with nine samples and repeat the\n",
    "cross-validation three times (i.e. `n_splits`)."
   ]
  },
  {
   "cell_type": "code",
   "execution_count": null,
   "metadata": {},
   "outputs": [],
   "source": [
    "import numpy as np\n",
    "from sklearn.model_selection import KFold\n",
    "\n",
    "X_random = np.random.randn(9, 1)\n",
    "cv = KFold(n_splits=3)\n",
    "for train_index, test_index in cv.split(X_random):\n",
    "    print(\"TRAIN:\", train_index, \"TEST:\", test_index)"
   ]
  },
  {
   "cell_type": "markdown",
   "metadata": {},
   "source": [
    "By defining three splits, we will use three samples each time for testing and\n",
    "six for training. `KFold` does not shuffle by default. It means that it will\n",
    "select the three first samples for the testing set at the first split, then\n",
    "the three next three samples for the second split, and the three next for the\n",
    "last split. In the end, all samples have been used in testing at least once\n",
    "among the different splits.\n",
    "\n",
    "Now, let's apply this strategy to check the performance of our model."
   ]
  },
  {
   "cell_type": "code",
   "execution_count": null,
   "metadata": {},
   "outputs": [],
   "source": [
    "from sklearn.model_selection import cross_validate\n",
    "\n",
    "cv = KFold(n_splits=3)\n",
    "results = cross_validate(model, X, y, cv=cv)\n",
    "test_score = results[\"test_score\"]\n",
    "print(f\"The average accuracy is \"\n",
    "      f\"{test_score.mean():.3f} +/- {test_score.std():.3f}\")"
   ]
  },
  {
   "cell_type": "markdown",
   "metadata": {},
   "source": [
    "It is a real surprise that our model cannot correctly classify any sample in\n",
    "any cross-validation split. We will now check our target's value to\n",
    "understand the issue while we should have started with this step."
   ]
  },
  {
   "cell_type": "code",
   "execution_count": null,
   "metadata": {},
   "outputs": [],
   "source": [
    "import seaborn as sns\n",
    "sns.set_context(\"talk\")\n",
    "\n",
    "ax = y.plot()\n",
    "ax.set_xlabel(\"Sample index\")\n",
    "ax.set_ylabel(\"Class\")\n",
    "ax.set_yticks(y.unique())\n",
    "_ = ax.set_title(\"Class value in target y\")"
   ]
  },
  {
   "cell_type": "markdown",
   "metadata": {},
   "source": [
    "We see that the target vector `y` is ordered. It will have some unexpected\n",
    "consequences when using the `KFold` cross-validation. To illustrate the\n",
    "consequences, we will show the class count in each fold of the\n",
    "cross-validation in the train and test set.\n",
    "\n",
    "For this matter, we create a function, because we will reuse it, which given\n",
    "a cross-validation object and the data `X` and `y`, is returning a dataframe\n",
    "with the class counts by folds and by split sets."
   ]
  },
  {
   "cell_type": "code",
   "execution_count": null,
   "metadata": {},
   "outputs": [],
   "source": [
    "from collections import Counter\n",
    "import pandas as pd\n",
    "\n",
    "\n",
    "def compute_class_count_cv(cv, X, y):\n",
    "    class_probability = []\n",
    "    for cv_idx, (train_index, test_index) in enumerate(cv.split(X, y)):\n",
    "        # Compute the class probability for the training set\n",
    "        train_class = Counter(y[train_index])\n",
    "        class_probability += [\n",
    "            [\"Train set\", f\"CV #{cv_idx}\", klass, proportion]\n",
    "            for klass, proportion in train_class.items()\n",
    "        ]\n",
    "        # Compute the class probability for the test set\n",
    "        test_class = Counter(y[test_index])\n",
    "        class_probability += [\n",
    "            [\"Test set\", f\"CV #{cv_idx}\", klass, proportion]\n",
    "            for klass, proportion in test_class.items()\n",
    "        ]\n",
    "\n",
    "    class_probability = pd.DataFrame(\n",
    "        class_probability, columns=[\"Set\", \"CV\", \"Class\", \"Count\"])\n",
    "    return class_probability"
   ]
  },
  {
   "cell_type": "markdown",
   "metadata": {},
   "source": [
    "Let's compute the statistics using the `KFold` cross-validation and we will\n",
    "plot these information in a bar plot."
   ]
  },
  {
   "cell_type": "code",
   "execution_count": null,
   "metadata": {},
   "outputs": [],
   "source": [
    "kfold_class_count = compute_class_count_cv(cv, X, y)\n",
    "kfold_class_count"
   ]
  },
  {
   "cell_type": "code",
   "execution_count": null,
   "metadata": {},
   "outputs": [],
   "source": [
    "g = sns.FacetGrid(kfold_class_count, col=\"Set\")\n",
    "g.map_dataframe(\n",
    "    sns.barplot, x=\"Class\", y=\"Count\", hue=\"CV\", palette=\"tab10\")\n",
    "g.set_axis_labels(\"Class\", \"Count\")\n",
    "g.add_legend()\n",
    "_ = g.fig.suptitle(\"Class count with K-fold cross-validation\", y=1.05)"
   ]
  },
  {
   "cell_type": "markdown",
   "metadata": {},
   "source": [
    "We can confirm that in each fold, only two of the three classes are present\n",
    "in the training set and all samples of the remaining class is used as a test\n",
    "set. So our model is unable to predict this class that was unseen during the\n",
    "training stage.\n",
    "\n",
    "One possibility to solve the issue is to shuffle the data before to split the\n",
    "data into three groups."
   ]
  },
  {
   "cell_type": "code",
   "execution_count": null,
   "metadata": {},
   "outputs": [],
   "source": [
    "cv = KFold(n_splits=3, shuffle=True, random_state=0)\n",
    "results = cross_validate(model, X, y, cv=cv)\n",
    "test_score = results[\"test_score\"]\n",
    "print(f\"The average accuracy is \"\n",
    "      f\"{test_score.mean():.3f} +/- {test_score.std():.3f}\")"
   ]
  },
  {
   "cell_type": "markdown",
   "metadata": {},
   "source": [
    "We get results that are closer to what we would expect with an accuracy above\n",
    "90%. Now that we solved our first issue, it would be interesting to check if\n",
    "the class frequency in the training and testing set is equal to our original\n",
    "set's class frequency. It would ensure that we are training and testing our\n",
    "model with a class distribution that we will encounter in production."
   ]
  },
  {
   "cell_type": "code",
   "execution_count": null,
   "metadata": {},
   "outputs": [],
   "source": [
    "kfold_shuffled_class_count = compute_class_count_cv(cv, X, y)\n",
    "\n",
    "g = sns.FacetGrid(kfold_shuffled_class_count, col=\"Set\")\n",
    "g.map_dataframe(\n",
    "    sns.barplot, x=\"Class\", y=\"Count\", hue=\"CV\", palette=\"tab10\")\n",
    "g.set_axis_labels(\"Class\", \"Count\")\n",
    "g.add_legend()\n",
    "_ = g.fig.suptitle(\n",
    "    \"Class count with shuffled K-fold cross-validation\", y=1.05)"
   ]
  },
  {
   "cell_type": "markdown",
   "metadata": {},
   "source": [
    "We see that neither the training and testing sets have the same class\n",
    "frequencies as our original dataset because the count for each class is\n",
    "varying a little.\n",
    "\n",
    "However, one might want to split our data by preserving the original class\n",
    "frequencies: we want to **stratify** our data by class. In scikit-learn, some\n",
    "cross-validation strategies are implementing the stratification and contains\n",
    "`Stratified` in their names."
   ]
  },
  {
   "cell_type": "code",
   "execution_count": null,
   "metadata": {},
   "outputs": [],
   "source": [
    "from sklearn.model_selection import StratifiedKFold\n",
    "\n",
    "cv = StratifiedKFold(n_splits=3)"
   ]
  },
  {
   "cell_type": "code",
   "execution_count": null,
   "metadata": {},
   "outputs": [],
   "source": [
    "results = cross_validate(model, X, y, cv=cv)\n",
    "test_score = results[\"test_score\"]\n",
    "print(f\"The average accuracy is \"\n",
    "      f\"{test_score.mean():.3f} +/- {test_score.std():.3f}\")"
   ]
  },
  {
   "cell_type": "code",
   "execution_count": null,
   "metadata": {},
   "outputs": [],
   "source": [
    "stratified_kfold_class_count = compute_class_count_cv(cv, X, y)\n",
    "\n",
    "g = sns.FacetGrid(stratified_kfold_class_count, col=\"Set\")\n",
    "g.map_dataframe(\n",
    "    sns.barplot, x=\"Class\", y=\"Count\", hue=\"CV\", palette=\"tab10\")\n",
    "g.set_axis_labels(\"Class\", \"Count\")\n",
    "g.add_legend()\n",
    "_ = g.fig.suptitle(\n",
    "    \"Class count with stratifiedK-fold cross-validation\", y=1.05)"
   ]
  },
  {
   "cell_type": "markdown",
   "metadata": {},
   "source": [
    "In this case, we observe that the class counts either in the train set or the\n",
    "test set are very close. The difference is due to the small number of samples\n",
    "in the iris dataset.\n",
    "\n",
    "In conclusion, this is a good practice to use stratification within the\n",
    "cross-validation framework when dealing with a classification problem."
   ]
  }
 ],
 "metadata": {
  "jupytext": {
   "cell_metadata_filter": "-all",
   "main_language": "python",
   "notebook_metadata_filter": "-all"
  }
 },
 "nbformat": 4,
 "nbformat_minor": 4
}
