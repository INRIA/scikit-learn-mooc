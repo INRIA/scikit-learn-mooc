{
 "cells": [
  {
   "cell_type": "markdown",
   "metadata": {},
   "source": [
    "# The Adult census dataset\n",
    "\n",
    "This dataset is a collection of information related to a person. The\n",
    "prediction task is to predict whether a person is earning a salary above or\n",
    "below 50k USD/year.\n",
    "\n",
    "We explore this dataset in the first module's notebook \"First look at our\n",
    "dataset\". This provides a first intuition on how the data is structured. To\n",
    "avoid repeating the same information, here we explore with some more detail\n",
    "the relation between data imbalance and fairness.\n",
    "\n",
    "Remember that the data we use correspond to the 1994 US census that is\n",
    "available in [OpenML](http://openml.org/). A first thing to notice is that the\n",
    "information one can extract from it is outdated, not to mention that the\n",
    "variable names are somewhat controversial. We start as always by loading the\n",
    "dataset:"
   ]
  },
  {
   "cell_type": "code",
   "execution_count": null,
   "metadata": {},
   "outputs": [],
   "source": [
    "import pandas as pd\n",
    "\n",
    "adult_census = pd.read_csv(\"../datasets/adult-census.csv\")\n",
    "target_name = \"class\""
   ]
  },
  {
   "cell_type": "markdown",
   "metadata": {},
   "source": [
    "The column named **class** is our target variable (i.e., the variable which we\n",
    "want to predict). The two possible classes are `\"<=50K\"` (low-revenue) and\n",
    "`\">50K\"` (high-revenue). In this dataset the target variable is slightly\n",
    "imbalanced, meaning there are more samples of the low-revenue class compared\n",
    "to the high revenue:"
   ]
  },
  {
   "cell_type": "code",
   "execution_count": null,
   "metadata": {},
   "outputs": [],
   "source": [
    "adult_census[target_name].value_counts()"
   ]
  },
  {
   "cell_type": "markdown",
   "metadata": {},
   "source": [
    "The ratio of elements in the positive class over the number of elements in the\n",
    "negative class is called the **prevalence** and is a number between 0 and 1.\n",
    "In this case:"
   ]
  },
  {
   "cell_type": "code",
   "execution_count": null,
   "metadata": {},
   "outputs": [],
   "source": [
    "prevalence = (\n",
    "    adult_census[target_name].value_counts()[1]\n",
    "    / adult_census[target_name].value_counts()[0]\n",
    ")\n",
    "print(f\"The prevalence of the dataset is: {prevalence:.3f}\")"
   ]
  },
  {
   "cell_type": "markdown",
   "metadata": {},
   "source": [
    "Notice that there is also an important imbalance on the data collection\n",
    "concerning the number of male/female samples."
   ]
  },
  {
   "cell_type": "code",
   "execution_count": null,
   "metadata": {},
   "outputs": [],
   "source": [
    "adult_census[\"sex\"].value_counts()"
   ]
  },
  {
   "cell_type": "markdown",
   "metadata": {},
   "source": [
    "The class imbalance is even higher when the variable `\"sex\"` is accounted for:"
   ]
  },
  {
   "cell_type": "code",
   "execution_count": null,
   "metadata": {},
   "outputs": [],
   "source": [
    "adult_census.groupby(\"sex\")[target_name].value_counts()"
   ]
  },
  {
   "cell_type": "code",
   "execution_count": null,
   "metadata": {},
   "outputs": [],
   "source": [
    "import seaborn as sns\n",
    "\n",
    "_ = sns.catplot(x=target_name, hue=\"sex\", kind=\"count\", data=adult_census)"
   ]
  },
  {
   "cell_type": "markdown",
   "metadata": {},
   "source": [
    "We can define a prevalence by group, or equivalently convert into percentage:"
   ]
  },
  {
   "cell_type": "code",
   "execution_count": null,
   "metadata": {},
   "outputs": [],
   "source": [
    "prevalence_female = (\n",
    "    adult_census.groupby(\"sex\")[target_name].value_counts()[1]\n",
    "    / adult_census.groupby(\"sex\")[target_name].value_counts()[0]\n",
    ")\n",
    "prevalence_male = (\n",
    "    adult_census.groupby(\"sex\")[target_name].value_counts()[3]\n",
    "    / adult_census.groupby(\"sex\")[target_name].value_counts()[2]\n",
    ")\n",
    "print(\n",
    "    f\"The percentage of 'female' samples earning a high revenue is {100*prevalence_female:.2f}%\"\n",
    ")\n",
    "print(\n",
    "    f\"The percentage of 'male' samples earning a high revenue is {100*prevalence_male:.2f}%\"\n",
    ")"
   ]
  },
  {
   "cell_type": "markdown",
   "metadata": {},
   "source": [
    "The proportion of 'female' samples earning a high revenue is less than the\n",
    "percentage of the equivalent quantity for the 'male' samples. The question is:\n",
    "Does the inequity come from the data-collection mechanism or the\n",
    "data-generating process?\n",
    "\n",
    "Let's imagine that we want to train a model on this basis to predict whether a\n",
    "person will be able to pay a loan and use this information to deside it's\n",
    "approval. Such decision will strongly impact their lives: buy a property or\n",
    "start a business, which may translate into economic stability and\n",
    "independence. Then a correct answer for this question is crucial.\n",
    "\n",
    "Before exploring different classifiers and metrics to evaluate them, we can go\n",
    "deeper into the data exploration and seek for an answer in the data-generating\n",
    "distributions. For such purpose we use \"rain cloud\" plots, which display the\n",
    "group-wise empirical distribution along with the corresponding boxplot. They\n",
    "are useful when comparing the interactions between categorical and numerical\n",
    "variables."
   ]
  },
  {
   "cell_type": "code",
   "execution_count": null,
   "metadata": {},
   "outputs": [],
   "source": [
    "import ptitprince as pt\n",
    "import matplotlib.pyplot as plt\n",
    "\n",
    "fig, ax = plt.subplots(figsize=(7, 5))\n",
    "\n",
    "pt.RainCloud(\n",
    "    x=\"sex\",\n",
    "    y=\"hours-per-week\",\n",
    "    data=adult_census,\n",
    "    bw=0.2,\n",
    "    width_viol=0.6,\n",
    "    ax=ax,\n",
    "    orient=\"h\",\n",
    "    move=0.3,\n",
    "    dodge=True,\n",
    ")\n",
    "_ = plt.title(\"Empirical distribution of \\n'hours-per-week' segmented by 'sex'\")"
   ]
  },
  {
   "cell_type": "markdown",
   "metadata": {},
   "source": [
    "In this case, the boxplot can be misleading. It would simply show that\n",
    "'female' samples work less hours-per-week than 'male' samples on average, but\n",
    "looking at the empirical distributions one can notice that the **mode** (the\n",
    "value that appears most often) is the same for both values of the variable\n",
    "`'sex'` i.e., around 40 hours-per-week. A small under-representation of the\n",
    "bumps at 50 and 60 hours-per-week for the 'female' distribution, as well as an\n",
    "excess of outliers in the 'male' distribution is what raises the mean of the\n",
    "latter.\n",
    "\n",
    "This is still not enough information to know if the under-respresentation is\n",
    "due to the data-collection mechanism or the data-generating process. Another\n",
    "thing we can do is to differentiate the distributions above by class, i.e. by\n",
    "whether the person earns above 50K or not."
   ]
  },
  {
   "cell_type": "code",
   "execution_count": null,
   "metadata": {},
   "outputs": [],
   "source": [
    "fig, ax = plt.subplots(figsize=(7, 5))\n",
    "\n",
    "pt.RainCloud(\n",
    "    x=\"sex\",\n",
    "    y=\"hours-per-week\",\n",
    "    hue=target_name,\n",
    "    data=adult_census,\n",
    "    bw=0.2,\n",
    "    width_viol=0.6,\n",
    "    ax=ax,\n",
    "    orient=\"h\",\n",
    "    alpha=0.65,\n",
    "    move=0.3,\n",
    "    dodge=True,\n",
    ")\n",
    "_ = plt.title(\n",
    "    \"Empirical distribution of the target \\nsegmented by 'hours-per-week' and 'sex'\"\n",
    ")"
   ]
  },
  {
   "cell_type": "markdown",
   "metadata": {},
   "source": [
    "Now the peaks at 50 and 60 hours-per-week for the 'female' distribution become\n",
    "clearer for the class `\">50K\"`, while the smaller bump at 20 hours-per-week\n",
    "flattens. This hints that the underlying data generation mechanisms might be\n",
    "the same regardless of the variable `'sex'`. At least respect to working\n",
    "hours.\n",
    "\n",
    "Similarly, we can visualize the interactions between the target class, the\n",
    "categorical variable `'sex'` and the other numerical variables:"
   ]
  },
  {
   "cell_type": "code",
   "execution_count": null,
   "metadata": {},
   "outputs": [],
   "source": [
    "f, ax = plt.subplots(figsize=(7, 5))\n",
    "\n",
    "pt.RainCloud(\n",
    "    x=\"sex\",\n",
    "    y=\"education-num\",\n",
    "    hue=target_name,\n",
    "    data=adult_census,\n",
    "    bw=0.2,\n",
    "    width_viol=0.6,\n",
    "    ax=ax,\n",
    "    orient=\"h\",\n",
    "    alpha=0.65,\n",
    "    move=0.3,\n",
    "    dodge=True,\n",
    ")\n",
    "_ = plt.title(\n",
    "    \"Empirical distribution of the target \\nsegmented by 'education-num' and 'sex'\"\n",
    ")"
   ]
  },
  {
   "cell_type": "markdown",
   "metadata": {},
   "source": [
    "In this dataset, the education empirical distribution is also similar for both\n",
    "values contained in the variable `'sex'`."
   ]
  },
  {
   "cell_type": "code",
   "execution_count": null,
   "metadata": {},
   "outputs": [],
   "source": [
    "f, ax = plt.subplots(figsize=(7, 5))\n",
    "\n",
    "pt.RainCloud(\n",
    "    x=\"sex\",\n",
    "    y=\"age\",\n",
    "    hue=target_name,\n",
    "    data=adult_census,\n",
    "    bw=0.2,\n",
    "    width_viol=0.6,\n",
    "    ax=ax,\n",
    "    orient=\"h\",\n",
    "    alpha=0.65,\n",
    "    dodge=True,\n",
    ")\n",
    "_ = plt.title(\"Empirical distribution of the target \\nsegmented by 'age' and 'sex'\")"
   ]
  },
  {
   "cell_type": "markdown",
   "metadata": {},
   "source": [
    "In the previous plot we see that the `\"<=50K\"` class is skewed to low ages for\n",
    "the female samples, but once again, the class `\">50K\"` displays the same\n",
    "distribution regardless of the variable `'sex'`.\n",
    "\n",
    "## Conclusions and going further\n",
    "\n",
    "By looking at the previous plots, we confirm that the distributions are\n",
    "similar for both 'male' and 'female' categories. There is no _a priori_ reason\n",
    "why the selection rate should benefit either group. But in practice, models\n",
    "can aquire a bias, for instance, due to the metric minimized during training.\n",
    "\n",
    "We encourage users interested in [evaluating fairness-related\n",
    "metrics](https://fairlearn.org/v0.7.0/quickstart.html#evaluating-fairness-related-metrics)\n",
    "and solutions for [mitigating\n",
    "disparity](https://fairlearn.org/v0.7.0/quickstart.html#mitigating-disparity)\n",
    "to visit [fairlearn.org](https://fairlearn.org)."
   ]
  }
 ],
 "metadata": {
  "jupytext": {
   "main_language": "python"
  },
  "kernelspec": {
   "display_name": "Python 3",
   "name": "python3"
  }
 },
 "nbformat": 4,
 "nbformat_minor": 5
}