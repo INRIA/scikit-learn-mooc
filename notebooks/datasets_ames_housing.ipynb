{
 "cells": [
  {
   "cell_type": "markdown",
   "metadata": {},
   "source": [
    "# The Ames housing dataset\n",
    "\n",
    "In this notebook, we will quickly present the \"Ames housing\" dataset. We will\n",
    "see that this dataset is similar to the \"California housing\" dataset.\n",
    "However, it is more complex to handle: it contains missing data and both\n",
    "numerical and categorical features.\n",
    "\n",
    "This dataset is located in the `datasets` directory. It is stored in a comma\n",
    "separated value (CSV) file. As previously mentioned, we are aware that the\n",
    "dataset contains missing values. The character `\"?\"` is used as a missing\n",
    "value marker.\n",
    "\n",
    "We will open the dataset and specify the missing value marker such that they\n",
    "will be parsed by pandas when opening the file."
   ]
  },
  {
   "cell_type": "code",
   "execution_count": null,
   "metadata": {},
   "outputs": [],
   "source": [
    "import pandas as pd\n",
    "\n",
    "ames_housing = pd.read_csv(\"../datasets/house_prices.csv\", na_values='?')"
   ]
  },
  {
   "cell_type": "markdown",
   "metadata": {},
   "source": [
    "We can have a first look at the available columns in this dataset."
   ]
  },
  {
   "cell_type": "code",
   "execution_count": null,
   "metadata": {},
   "outputs": [],
   "source": [
    "ames_housing.head()"
   ]
  },
  {
   "cell_type": "markdown",
   "metadata": {},
   "source": [
    "We see that the last column named `\"SalePrice\"` is indeed the target that we\n",
    "would like to predict. So we will split our dataset into two variables\n",
    "containing the data and the target."
   ]
  },
  {
   "cell_type": "code",
   "execution_count": null,
   "metadata": {},
   "outputs": [],
   "source": [
    "data = ames_housing.drop(columns=[\"Id\", \"SalePrice\"])\n",
    "target = ames_housing[\"SalePrice\"]"
   ]
  },
  {
   "cell_type": "markdown",
   "metadata": {},
   "source": [
    "Let's have a quick look at the target before to focus on the data."
   ]
  },
  {
   "cell_type": "code",
   "execution_count": null,
   "metadata": {},
   "outputs": [],
   "source": [
    "target.head()"
   ]
  },
  {
   "cell_type": "markdown",
   "metadata": {},
   "source": [
    "We see that the target contains continuous value. It corresponds to the price\n",
    "of a house in $. We can have a look at the target distribution."
   ]
  },
  {
   "cell_type": "code",
   "execution_count": null,
   "metadata": {},
   "outputs": [],
   "source": [
    "import matplotlib.pyplot as plt\n",
    "target.plot.hist(bins=20, edgecolor=\"black\")\n",
    "plt.xlabel(\"House price in $\")\n",
    "_ = plt.title(\"Distribution of the house price \\nin Ames\")"
   ]
  },
  {
   "cell_type": "markdown",
   "metadata": {},
   "source": [
    "We see that the distribution has a long tail. It means that most of the house\n",
    "are normally distributed but a couple of houses have a higher than normal\n",
    "value. It could be critical to take this peculiarity into account when\n",
    "designing a predictive model.\n",
    "\n",
    "Now, we can have a look at the available data that we could use to predict\n",
    "house prices."
   ]
  },
  {
   "cell_type": "code",
   "execution_count": null,
   "metadata": {},
   "outputs": [],
   "source": [
    "data.info()"
   ]
  },
  {
   "cell_type": "markdown",
   "metadata": {},
   "source": [
    "Looking at the dataframe general information, we can see that 79 features are\n",
    "availables and that the dataset contains 1460 samples. However, some features\n",
    "contains missing values. Also, the type of data is heterogeneous: both\n",
    "numerical and categorical data are available.\n",
    "\n",
    "First, we will have a look at the data represented with numbers."
   ]
  },
  {
   "cell_type": "code",
   "execution_count": null,
   "metadata": {},
   "outputs": [],
   "source": [
    "numerical_data = data.select_dtypes(\"number\")\n",
    "numerical_data.info()"
   ]
  },
  {
   "cell_type": "markdown",
   "metadata": {},
   "source": [
    "We see that the data are mainly represented with interger number. Let's have\n",
    "a look at the histogram for all these features."
   ]
  },
  {
   "cell_type": "code",
   "execution_count": null,
   "metadata": {},
   "outputs": [],
   "source": [
    "numerical_data.hist(bins=20, figsize=(12, 22), edgecolor=\"black\", density=True,\n",
    "                    layout=(9, 4))\n",
    "plt.subplots_adjust(hspace=0.8, wspace=0.8)"
   ]
  },
  {
   "cell_type": "markdown",
   "metadata": {},
   "source": [
    "We see that some features have high picks for 0. It could be linked that this\n",
    "value was assigned when the the criterion did not apply, for instance the\n",
    "area of the swimming pool when no swimming pools are available.\n",
    "\n",
    "We also have some feature encoding some date (for instance year).\n",
    "\n",
    "These information are useful and should also be considered when designing a\n",
    "predictive model.\n",
    "\n",
    "Now, let's have a look at the data encoded with strings."
   ]
  },
  {
   "cell_type": "code",
   "execution_count": null,
   "metadata": {},
   "outputs": [],
   "source": [
    "string_data = data.select_dtypes(object)\n",
    "string_data.info()"
   ]
  },
  {
   "cell_type": "markdown",
   "metadata": {},
   "source": [
    "These features are categorical. We can make some bar plot to see categories\n",
    "count for each feature."
   ]
  },
  {
   "cell_type": "code",
   "execution_count": null,
   "metadata": {},
   "outputs": [],
   "source": [
    "from math import ceil\n",
    "from itertools import zip_longest\n",
    "\n",
    "n_string_features = string_data.shape[1]\n",
    "nrows, ncols = ceil(n_string_features / 4), 4\n",
    "\n",
    "fig, axs = plt.subplots(ncols=ncols, nrows=nrows, figsize=(14, 80))\n",
    "\n",
    "for feature_name, ax in zip_longest(string_data, axs.ravel()):\n",
    "    if feature_name is None:\n",
    "        # do not show the axis\n",
    "        ax.axis(\"off\")\n",
    "        continue\n",
    "\n",
    "    string_data[feature_name].value_counts().plot.barh(ax=ax)\n",
    "    ax.set_title(feature_name)\n",
    "\n",
    "plt.subplots_adjust(hspace=0.2, wspace=0.8)"
   ]
  },
  {
   "cell_type": "markdown",
   "metadata": {},
   "source": [
    "Plotting this information allows us to answer to two questions:\n",
    "\n",
    "* Is there few or many categories for a given features?\n",
    "* Is there rare categories for some features?\n",
    "\n",
    "Knowing about these peculiarities would help at designing the predictive\n",
    "pipeline."
   ]
  }
 ],
 "metadata": {
  "jupytext": {
   "cell_metadata_filter": "-all",
   "main_language": "python",
   "notebook_metadata_filter": "-all"
  }
 },
 "nbformat": 4,
 "nbformat_minor": 5
}