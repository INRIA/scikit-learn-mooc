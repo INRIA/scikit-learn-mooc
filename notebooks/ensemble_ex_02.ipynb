{
 "cells": [
  {
   "cell_type": "markdown",
   "metadata": {},
   "source": [
    "# 📝 Exercise 02\n",
    "\n",
    "The aim of this exercise it to explore some attributes available in\n",
    "scikit-learn random forest.\n",
    "\n",
    "First, we will fit the penguins regression dataset."
   ]
  },
  {
   "cell_type": "code",
   "execution_count": null,
   "metadata": {},
   "outputs": [],
   "source": [
    "import pandas as pd\n",
    "from sklearn.model_selection import train_test_split\n",
    "\n",
    "data = pd.read_csv(\"../datasets/penguins_regression.csv\")\n",
    "feature_names = [\"Flipper Length (mm)\"]\n",
    "target_name = \"Body Mass (g)\"\n",
    "X, y = data[feature_names], data[target_name]\n",
    "X_train, X_test, y_train, y_test = train_test_split(X, y, random_state=0)"
   ]
  },
  {
   "cell_type": "markdown",
   "metadata": {},
   "source": [
    "Create a random forest containing only three trees. Train the forest and\n",
    "check the performance on the testing set."
   ]
  },
  {
   "cell_type": "code",
   "execution_count": null,
   "metadata": {},
   "outputs": [],
   "source": [
    "# Write your code here."
   ]
  },
  {
   "cell_type": "markdown",
   "metadata": {},
   "source": [
    "The forest that you created contains three trees that can be accessed with\n",
    "the attribute `estimators_`. You will have to:\n",
    "\n",
    "- create a new dataset containing flipper length between 170 mm and 230 mm;\n",
    "- plot the training data using a scatter plot;\n",
    "- plot the decision of each individual tree by predicting on the newly\n",
    "  created dataset;\n",
    "- plot the decision of the random forest using this newly created dataset."
   ]
  },
  {
   "cell_type": "code",
   "execution_count": null,
   "metadata": {},
   "outputs": [],
   "source": [
    "# Write your code here."
   ]
  }
 ],
 "metadata": {
  "jupytext": {
   "cell_metadata_filter": "-all",
   "main_language": "python",
   "notebook_metadata_filter": "-all"
  }
 },
 "nbformat": 4,
 "nbformat_minor": 4
}
