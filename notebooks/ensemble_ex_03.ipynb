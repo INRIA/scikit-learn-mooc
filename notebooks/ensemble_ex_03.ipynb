{
 "cells": [
  {
   "cell_type": "markdown",
   "metadata": {},
   "source": [
    "# \ud83d\udcdd Exercise M6.03\n",
    "\n",
    "This exercise aims at verifying if AdaBoost can over-fit.\n",
    "We will make a grid-search and check the scores by varying the\n",
    "number of estimators.\n",
    "\n",
    "We will first load the California housing dataset and split it into a\n",
    "training and a testing set."
   ]
  },
  {
   "cell_type": "code",
   "execution_count": null,
   "metadata": {},
   "outputs": [],
   "source": [
    "from sklearn.datasets import fetch_california_housing\n",
    "from sklearn.model_selection import train_test_split\n",
    "\n",
    "data, target = fetch_california_housing(return_X_y=True, as_frame=True)\n",
    "target *= 100  # rescale the target in k$\n",
    "data_train, data_test, target_train, target_test = train_test_split(\n",
    "    data, target, random_state=0, test_size=0.5)"
   ]
  },
  {
   "cell_type": "markdown",
   "metadata": {},
   "source": [
    "<div class=\"admonition note alert alert-info\">\n",
    "<p class=\"first admonition-title\" style=\"font-weight: bold;\">Note</p>\n",
    "<p class=\"last\">If you want a deeper overview regarding this dataset, you can refer to the\n",
    "Appendix - Datasets description section at the end of this MOOC.</p>\n",
    "</div>"
   ]
  },
  {
   "cell_type": "markdown",
   "metadata": {},
   "source": [
    "Then, create an `AbaBoostRegressor`. Use the function\n",
    "`sklearn.model_selection.validation_curve` to get training and test scores\n",
    "by varying the number of estimators. Use the mean absolute error as a metric\n",
    "by passing `scoring=\"neg_mean_absolute_error\"`.\n",
    "*Hint: vary the number of estimators between 1 and 60.*"
   ]
  },
  {
   "cell_type": "code",
   "execution_count": null,
   "metadata": {},
   "outputs": [],
   "source": [
    "# Write your code here."
   ]
  },
  {
   "cell_type": "markdown",
   "metadata": {},
   "source": [
    "Plot both the mean training and test errors. You can also plot the\n",
    "standard deviation of the errors.\n",
    "*Hint: you can use `plt.errorbar`.*"
   ]
  },
  {
   "cell_type": "code",
   "execution_count": null,
   "metadata": {},
   "outputs": [],
   "source": [
    "# Write your code here."
   ]
  },
  {
   "cell_type": "markdown",
   "metadata": {},
   "source": [
    "Plotting the validation curve, we can see that AdaBoost is not immune against\n",
    "overfitting. Indeed, there is an optimal number of estimators to be found.\n",
    "Adding too many estimators is detrimental for the generalization performance of\n",
    "the model."
   ]
  },
  {
   "cell_type": "markdown",
   "metadata": {},
   "source": [
    "Repeat the experiment using a random forest instead of an AdaBoost regressor."
   ]
  },
  {
   "cell_type": "code",
   "execution_count": null,
   "metadata": {},
   "outputs": [],
   "source": [
    "# Write your code here."
   ]
  }
 ],
 "metadata": {
  "jupytext": {
   "cell_metadata_filter": "-all",
   "main_language": "python",
   "notebook_metadata_filter": "-all"
  }
 },
 "nbformat": 4,
 "nbformat_minor": 5
}