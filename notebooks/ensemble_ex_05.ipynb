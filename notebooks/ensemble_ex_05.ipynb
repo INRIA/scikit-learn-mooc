{
 "cells": [
  {
   "cell_type": "markdown",
   "id": "sound-oakland",
   "metadata": {},
   "source": [
    "# 📝 Exercise 05\n",
    "\n",
    "The aim of the exercise is to get familiar with the histogram\n",
    "gradient-boosting in scikit-learn. Besides, we will use this model within\n",
    "a cross-validation framework in order to inspect internal parameters found\n",
    "via grid-search.\n",
    "\n",
    "We will use the California housing dataset."
   ]
  },
  {
   "cell_type": "code",
   "execution_count": null,
   "id": "capable-spanking",
   "metadata": {},
   "outputs": [],
   "source": [
    "from sklearn.datasets import fetch_california_housing\n",
    "\n",
    "data, target = fetch_california_housing(return_X_y=True, as_frame=True)\n",
    "target *= 100  # rescale the target in k$"
   ]
  },
  {
   "cell_type": "markdown",
   "id": "sharing-catch",
   "metadata": {},
   "source": [
    "First, create a histogram gradient boosting regressor. You can set the\n",
    "trees number to be large, and configure the model to use early-stopping."
   ]
  },
  {
   "cell_type": "code",
   "execution_count": null,
   "id": "worldwide-caution",
   "metadata": {},
   "outputs": [],
   "source": [
    "# Write your code here."
   ]
  },
  {
   "cell_type": "markdown",
   "id": "living-writing",
   "metadata": {},
   "source": [
    "We will use a grid-search to find some optimal parameter for this model.\n",
    "In this grid-search, you should search for the following parameters:\n",
    "\n",
    "* `max_depth: [3, 8]`;\n",
    "* `max_leaf_nodes: [15, 31]`;\n",
    "* `learning_rate: [0.1, 1]`.\n",
    "\n",
    "Feel free to explore the space with additional values. Create the\n",
    "grid-search providing the previous gradient boosting instance as the model."
   ]
  },
  {
   "cell_type": "code",
   "execution_count": null,
   "id": "measured-above",
   "metadata": {},
   "outputs": [],
   "source": [
    "# Write your code here."
   ]
  },
  {
   "cell_type": "markdown",
   "id": "confident-sister",
   "metadata": {},
   "source": [
    "Finally, we will run our experiment through cross-validation. In this regard,\n",
    "define a 5-fold cross-validation. Besides, be sure to shuffle the data.\n",
    "Subsequently, use the function `sklearn.model_selection.cross_validate`\n",
    "to run the cross-validation. You should also set `return_estimator=True`,\n",
    "so that we can investigate the inner model trained via cross-validation."
   ]
  },
  {
   "cell_type": "code",
   "execution_count": null,
   "id": "productive-papua",
   "metadata": {},
   "outputs": [],
   "source": [
    "# Write your code here."
   ]
  },
  {
   "cell_type": "markdown",
   "id": "provincial-webster",
   "metadata": {},
   "source": [
    "Now that we got the cross-validation results, print out the mean and\n",
    "standard deviation score."
   ]
  },
  {
   "cell_type": "code",
   "execution_count": null,
   "id": "opposite-basin",
   "metadata": {},
   "outputs": [],
   "source": [
    "# Write your code here."
   ]
  },
  {
   "cell_type": "markdown",
   "id": "adaptive-shore",
   "metadata": {},
   "source": [
    "Then, inspect the `estimator` entry of the results and check the best\n",
    "parameters values. Besides, check the number of trees used by the model."
   ]
  },
  {
   "cell_type": "code",
   "execution_count": null,
   "id": "damaged-portland",
   "metadata": {},
   "outputs": [],
   "source": [
    "# Write your code here."
   ]
  },
  {
   "cell_type": "markdown",
   "id": "selected-lodging",
   "metadata": {},
   "source": [
    "Inspect the results of the inner CV for each estimator of the outer CV.\n",
    "Aggregate the mean test score for each parameter combination and make a box\n",
    "plot of these scores."
   ]
  },
  {
   "cell_type": "code",
   "execution_count": null,
   "id": "equipped-thursday",
   "metadata": {},
   "outputs": [],
   "source": [
    "# Write your code here."
   ]
  }
 ],
 "metadata": {
  "jupytext": {
   "cell_metadata_filter": "-all",
   "main_language": "python",
   "notebook_metadata_filter": "-all"
  }
 },
 "nbformat": 4,
 "nbformat_minor": 5
}
