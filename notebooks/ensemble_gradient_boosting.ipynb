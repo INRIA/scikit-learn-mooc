{
 "cells": [
  {
   "cell_type": "markdown",
   "id": "efficient-southwest",
   "metadata": {},
   "source": [
    "# Gradient-boosting decision tree (GBDT)\n",
    "\n",
    "In this notebook, we will present the gradient boosting decision tree\n",
    "algorithm and contrast it with AdaBoost.\n",
    "\n",
    "Gradient-boosting differs from AdaBoost due to the following reason: instead\n",
    "of assigning weights to specific samples, GBDT will fit a decision tree on\n",
    "the residuals error (hence the name \"gradient\") of the previous tree.\n",
    "Therefore, each new tree in the ensemble predicts the error made by the\n",
    "previous learner instead of predicting the target directly.\n",
    "\n",
    "In this section, we will provide some intuition about the way learners are\n",
    "combined to give the final prediction. In this regard, let's go back to our\n",
    "regression problem which is more intuitive for demonstrating the underlying\n",
    "machinery."
   ]
  },
  {
   "cell_type": "code",
   "execution_count": null,
   "id": "expired-miami",
   "metadata": {},
   "outputs": [],
   "source": [
    "import pandas as pd\n",
    "import numpy as np\n",
    "\n",
    "# Create a random number generator that\n",
    "# will be used to set the randomness\n",
    "rng = np.random.RandomState(0)\n",
    "\n",
    "\n",
    "def generate_data(n_samples=50):\n",
    "    \"\"\"Generate synthetic dataset. Returns `data_train`, `data_test`,\n",
    "    `target_train`.\"\"\"\n",
    "    x_max, x_min = 1.4, -1.4\n",
    "    len_x = x_max - x_min\n",
    "    x = rng.rand(n_samples) * len_x - len_x / 2\n",
    "    noise = rng.randn(n_samples) * 0.3\n",
    "    y = x ** 3 - 0.5 * x ** 2 + noise\n",
    "\n",
    "    data_train = pd.DataFrame(x, columns=[\"Feature\"])\n",
    "    data_test = pd.DataFrame(np.linspace(x_max, x_min, num=300),\n",
    "                             columns=[\"Feature\"])\n",
    "    target_train = pd.Series(y, name=\"Target\")\n",
    "\n",
    "    return data_train, data_test, target_train"
   ]
  },
  {
   "cell_type": "code",
   "execution_count": null,
   "id": "wrapped-springfield",
   "metadata": {},
   "outputs": [],
   "source": [
    "import matplotlib.pyplot as plt\n",
    "import seaborn as sns\n",
    "sns.set_context(\"talk\")\n",
    "\n",
    "data_train, data_test, target_train = generate_data()\n",
    "\n",
    "_ = sns.scatterplot(x=data_train[\"Feature\"], y=target_train,\n",
    "                    color=\"black\", alpha=0.5)"
   ]
  },
  {
   "cell_type": "markdown",
   "id": "rental-passing",
   "metadata": {},
   "source": [
    "As we previously discussed, boosting will be based on assembling a sequence\n",
    "of learners. We will start by creating a decision tree regressor. We will set\n",
    "the depth of the tree so that the resulting learner will underfit the data."
   ]
  },
  {
   "cell_type": "code",
   "execution_count": null,
   "id": "advance-elizabeth",
   "metadata": {},
   "outputs": [],
   "source": [
    "from sklearn.tree import DecisionTreeRegressor\n",
    "\n",
    "tree = DecisionTreeRegressor(max_depth=3, random_state=0)\n",
    "tree.fit(data_train, target_train)\n",
    "\n",
    "target_train_predicted = tree.predict(data_train)\n",
    "target_test_predicted = tree.predict(data_test)\n",
    "\n",
    "# plot the data\n",
    "_ = sns.scatterplot(x=data_train[\"Feature\"], y=target_train,\n",
    "                    color=\"black\", alpha=0.5)\n",
    "# plot the predictions\n",
    "line_predictions = plt.plot(data_test, target_test_predicted, \"--\")\n",
    "\n",
    "for idx in range(len(target_train)):\n",
    "    # plot the residuals\n",
    "    lines_residuals = plt.plot([data_train.iloc[idx], data_train.iloc[idx]],\n",
    "                               [target_train.iloc[idx],\n",
    "                                target_train_predicted[idx]],\n",
    "                               color=\"red\")\n",
    "\n",
    "_ = plt.legend([line_predictions[0], lines_residuals[0]],\n",
    "               [\"Fitted tree\", \"Residuals\"])"
   ]
  },
  {
   "cell_type": "markdown",
   "id": "freelance-europe",
   "metadata": {},
   "source": [
    "<div class=\"admonition tip alert alert-warning\">\n",
    "<p class=\"first admonition-title\" style=\"font-weight: bold;\">Tip</p>\n",
    "<p class=\"last\">In the cell above, we manually edited the legend to get only a single label\n",
    "for all the residual lines.</p>\n",
    "</div>\n",
    "Since the tree underfits the data, its accuracy is far from perfect on the\n",
    "training data. We can observe this in the figure by looking at the difference\n",
    "between the predictions and the ground-truth data. We represent these errors,\n",
    "called \"Residuals\", by unbroken red lines.\n",
    "\n",
    "Indeed, our initial tree was not expressive enough to handle the complexity\n",
    "of the data, as shown by the residuals. In a gradient-boosting algorithm, the\n",
    "idea is to create a second tree which, given the same data `data`, will try\n",
    "to predict the residuals instead of the vector `target`. We would therefore\n",
    "have a tree that is able to predict the errors made by the initial tree.\n",
    "\n",
    "Let's train such a tree."
   ]
  },
  {
   "cell_type": "code",
   "execution_count": null,
   "id": "complex-aquatic",
   "metadata": {},
   "outputs": [],
   "source": [
    "residuals = target_train - target_train_predicted\n",
    "\n",
    "tree_residuals = DecisionTreeRegressor(max_depth=5, random_state=0)\n",
    "tree_residuals.fit(data_train, residuals)\n",
    "\n",
    "target_train_predicted_residuals = tree_residuals.predict(data_train)\n",
    "target_test_predicted_residuals = tree_residuals.predict(data_test)\n",
    "\n",
    "_ = sns.scatterplot(x=data_train[\"Feature\"], y=residuals,\n",
    "                    color=\"black\", alpha=0.5)\n",
    "line_predictions = plt.plot(data_test, target_test_predicted_residuals, \"--\")\n",
    "\n",
    "for idx in range(len(target_train)):\n",
    "    lines_residuals = plt.plot([data_train.iloc[idx], data_train.iloc[idx]],\n",
    "                               [residuals[idx],\n",
    "                                target_train_predicted_residuals[idx]],\n",
    "                               color=\"red\")\n",
    "\n",
    "_ = plt.legend([line_predictions[0], lines_residuals[0]],\n",
    "               [\"Fitted tree\", \"Residuals\"])"
   ]
  },
  {
   "cell_type": "markdown",
   "id": "signed-sector",
   "metadata": {},
   "source": [
    "We see that this new tree only manages to fit some of the residuals. We will\n",
    "focus on the last sample in `data_train` and explain how the predictions of\n",
    "both trees are combined. Let's first select the last sample in `data_train`."
   ]
  },
  {
   "cell_type": "code",
   "execution_count": null,
   "id": "herbal-harris",
   "metadata": {},
   "outputs": [],
   "source": [
    "data_max = data_train.iloc[-1, 0]\n",
    "target_true = target_train.iloc[-1]\n",
    "target_true_residual = residuals.iloc[-1]"
   ]
  },
  {
   "cell_type": "markdown",
   "id": "cross-scoop",
   "metadata": {},
   "source": [
    "Let's plot the previous information and highlight our sample of interest."
   ]
  },
  {
   "cell_type": "code",
   "execution_count": null,
   "id": "electronic-frost",
   "metadata": {},
   "outputs": [],
   "source": [
    "_, axs = plt.subplots(ncols=2, figsize=(12, 6), sharex=True)\n",
    "\n",
    "# plot all samples\n",
    "sns.scatterplot(x=data_train[\"Feature\"], y=target_train,\n",
    "                color=\"black\", alpha=0.5, ax=axs[0])\n",
    "axs[0].plot(data_test, target_test_predicted, \"--\")\n",
    "sns.scatterplot(x=data_train[\"Feature\"], y=residuals,\n",
    "                color=\"black\", alpha=0.5, ax=axs[1])\n",
    "plt.plot(data_test, target_test_predicted_residuals, \"--\")\n",
    "\n",
    "# plot the predictions of the trees\n",
    "for idx in range(len(target_train)):\n",
    "    axs[0].plot([data_train.iloc[idx], data_train.iloc[idx]],\n",
    "                [target_train.iloc[idx], target_train_predicted[idx]],\n",
    "                color=\"red\")\n",
    "    axs[1].plot([data_train.iloc[idx], data_train.iloc[idx]],\n",
    "                [residuals[idx], target_train_predicted_residuals[idx]],\n",
    "                color=\"red\")\n",
    "\n",
    "# plot the sample of interest\n",
    "axs[0].scatter(data_max, target_true, label=\"Sample of interest\",\n",
    "               color=\"tab:orange\", s=200)\n",
    "axs[1].scatter(data_max, target_true_residual, label=\"Sample of interest\",\n",
    "               color=\"tab:orange\", s=200)\n",
    "\n",
    "axs[0].set_xlim([-0.5, 0])\n",
    "axs[1].set_xlim([-0.5, 0])\n",
    "axs[0].set_title(\"Tree predictions\")\n",
    "axs[1].set_title(\"Prediction of the residuals\")\n",
    "axs[0].legend()\n",
    "axs[1].legend()\n",
    "plt.subplots_adjust(wspace=0.35)"
   ]
  },
  {
   "cell_type": "markdown",
   "id": "direct-laser",
   "metadata": {},
   "source": [
    "For our sample of interest, our initial tree is making an error (small\n",
    "residual). When fitting the second tree, the residual in this case is\n",
    "perfectly fitted and predicted. We will quantitatively check this prediction\n",
    "using the fitted tree. First, let's check the prediction of the initial tree\n",
    "and compare it with the true value."
   ]
  },
  {
   "cell_type": "code",
   "execution_count": null,
   "id": "stuck-sussex",
   "metadata": {},
   "outputs": [],
   "source": [
    "print(f\"True value to predict for f(x={data_max:.3f}) = {target_true:.3f}\")\n",
    "\n",
    "y_pred_first_tree = tree.predict([[data_max]])[0]\n",
    "print(f\"Prediction of the first decision tree for x={data_max:.3f}: \"\n",
    "      f\"y={y_pred_first_tree:.3f}\")\n",
    "print(f\"Error of the tree: {target_true - y_pred_first_tree:.3f}\")"
   ]
  },
  {
   "cell_type": "markdown",
   "id": "martial-flesh",
   "metadata": {},
   "source": [
    "As we visually observed, we have a small error. Now, we can use the second\n",
    "tree to try to predict this residual."
   ]
  },
  {
   "cell_type": "code",
   "execution_count": null,
   "id": "future-missouri",
   "metadata": {},
   "outputs": [],
   "source": [
    "print(f\"Prediction of the residual for x={data_max:.3f}: \"\n",
    "      f\"{tree_residuals.predict([[data_max]])[0]:.3f}\")"
   ]
  },
  {
   "cell_type": "markdown",
   "id": "collective-owner",
   "metadata": {},
   "source": [
    "We see that our second tree is capable of predicting the exact residual\n",
    "(error) of our first tree. Therefore, we can predict the value of `x` by\n",
    "summing the prediction of the all trees in the ensemble."
   ]
  },
  {
   "cell_type": "code",
   "execution_count": null,
   "id": "american-necessity",
   "metadata": {},
   "outputs": [],
   "source": [
    "y_pred_first_and_second_tree = (\n",
    "    y_pred_first_tree + tree_residuals.predict([[data_max]])[0]\n",
    ")\n",
    "print(f\"Prediction of the first and second decision trees combined for \"\n",
    "      f\"x={data_max:.3f}: y={y_pred_first_and_second_tree:.3f}\")\n",
    "print(f\"Error of the tree: {target_true - y_pred_first_and_second_tree:.3f}\")"
   ]
  },
  {
   "cell_type": "markdown",
   "id": "collaborative-tract",
   "metadata": {},
   "source": [
    "We chose a sample for which only two trees were enough to make the perfect\n",
    "prediction. However, we saw in the previous plot that two trees were not\n",
    "enough to correct the residuals of all samples. Therefore, one needs to\n",
    "add several trees to the ensemble to successfully correct the error.\n",
    "(i.e. the second tree corrects the first tree's error, while the third tree\n",
    "corrects the second tree's error and so on.)\n",
    "\n",
    "We will compare the statistical performance of random-forest and gradient\n",
    "boosting on the California housing dataset."
   ]
  },
  {
   "cell_type": "code",
   "execution_count": null,
   "id": "labeled-prerequisite",
   "metadata": {},
   "outputs": [],
   "source": [
    "from sklearn.datasets import fetch_california_housing\n",
    "from sklearn.model_selection import cross_validate\n",
    "\n",
    "data, target = fetch_california_housing(return_X_y=True, as_frame=True)\n",
    "target *= 100  # rescale the target in k$"
   ]
  },
  {
   "cell_type": "code",
   "execution_count": null,
   "id": "swiss-player",
   "metadata": {},
   "outputs": [],
   "source": [
    "from sklearn.ensemble import GradientBoostingRegressor\n",
    "\n",
    "gradient_boosting = GradientBoostingRegressor(n_estimators=200)\n",
    "cv_results_gbdt = cross_validate(gradient_boosting, data, target, n_jobs=-1)"
   ]
  },
  {
   "cell_type": "code",
   "execution_count": null,
   "id": "structural-republic",
   "metadata": {},
   "outputs": [],
   "source": [
    "print(\"Gradient Boosting Decision Tree\")\n",
    "print(f\"R2 score via cross-validation: \"\n",
    "      f\"{cv_results_gbdt['test_score'].mean():.3f} +/- \"\n",
    "      f\"{cv_results_gbdt['test_score'].std():.3f}\")\n",
    "print(f\"Average fit time: \"\n",
    "      f\"{cv_results_gbdt['fit_time'].mean():.3f} seconds\")\n",
    "print(f\"Average score time: \"\n",
    "      f\"{cv_results_gbdt['score_time'].mean():.3f} seconds\")"
   ]
  },
  {
   "cell_type": "code",
   "execution_count": null,
   "id": "brazilian-actor",
   "metadata": {},
   "outputs": [],
   "source": [
    "from sklearn.ensemble import RandomForestRegressor\n",
    "\n",
    "random_forest = RandomForestRegressor(n_estimators=200, n_jobs=-1)\n",
    "cv_results_rf = cross_validate(gradient_boosting, data, target, n_jobs=-1)"
   ]
  },
  {
   "cell_type": "code",
   "execution_count": null,
   "id": "strange-adult",
   "metadata": {},
   "outputs": [],
   "source": [
    "print(\"Random Forest\")\n",
    "print(f\"R2 score via cross-validation: \"\n",
    "      f\"{cv_results_rf['test_score'].mean():.3f} +/- \"\n",
    "      f\"{cv_results_rf['test_score'].std():.3f}\")\n",
    "print(f\"Average fit time: \"\n",
    "      f\"{cv_results_rf['fit_time'].mean():.3f} seconds\")\n",
    "print(f\"Average score time: \"\n",
    "      f\"{cv_results_rf['score_time'].mean():.3f} seconds\")"
   ]
  },
  {
   "cell_type": "markdown",
   "id": "surface-electric",
   "metadata": {},
   "source": [
    "In term of computation performance, the forest can be parallelized and will\n",
    "benefit from using multiple cores of the CPU. In terms of scoring\n",
    "performance, both algorithms lead to very close results.\n",
    "\n",
    "However, we see that the gradient boosting is a very fast algorithm to\n",
    "predict compared to random forest. This is due to the fact that gradient\n",
    "boosting uses shallow trees. We will go into details in the next notebook\n",
    "about the hyperparameters to consider when optimizing ensemble methods."
   ]
  }
 ],
 "metadata": {
  "jupytext": {
   "cell_metadata_filter": "-all",
   "main_language": "python",
   "notebook_metadata_filter": "-all"
  }
 },
 "nbformat": 4,
 "nbformat_minor": 5
}
