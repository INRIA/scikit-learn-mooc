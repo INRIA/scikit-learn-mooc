{
 "cells": [
  {
   "cell_type": "markdown",
   "metadata": {},
   "source": [
    "# Speeding-up gradient-boosting\n",
    "In this notebook, we present a modified version of gradient boosting which\n",
    "uses a reduce number of split when building the different trees. This\n",
    "algorithm is called histogram gradient boosting in scikit-learn.\n",
    "\n",
    "We previously mentioned that random-forest is an efficient algorithm since\n",
    "each tree of the ensemble can be fitted at the same time independently.\n",
    "Therefore, the algorithm scales efficiently with both the number of CPUs and\n",
    "the number of samples.\n",
    "\n",
    "In gradient-boosting, the algorithm is a sequential algorithm. It requires\n",
    "the `N-1` trees to have been fit to be able to fit the tree at stage `N`.\n",
    "Therefore, the algorithm is quite computationally expensive. The most\n",
    "expensive part in this algorithm is the search for the best split in the tree\n",
    "which is a brute-force approach: all possible split are evaluated and the\n",
    "best one is picked. We explained this process in the notebook \"tree in\n",
    "depth\", which you can refer to.\n",
    "\n",
    "To accelerate the gradient-boosting algorithm, one could reduce the number of\n",
    "splits to be evaluated. As a consequence, the performance of such a\n",
    "tree would be reduced. However, since we are combining several trees in a\n",
    "gradient-boosting, we can add more estimators to overcome\n",
    "this issue.\n",
    "\n",
    "We will make a naive implementation of such algorithm using building blocks\n",
    "from scikit-learn. First, we will load the california housing dataset."
   ]
  },
  {
   "cell_type": "code",
   "execution_count": null,
   "metadata": {},
   "outputs": [],
   "source": [
    "from sklearn.datasets import fetch_california_housing\n",
    "from sklearn.model_selection import train_test_split\n",
    "\n",
    "X, y = fetch_california_housing(return_X_y=True, as_frame=True)\n",
    "X_train, X_test, y_train, y_test = train_test_split(X, y, random_state=0)"
   ]
  },
  {
   "cell_type": "markdown",
   "metadata": {},
   "source": [
    "We will make a quick benchmark of the original gradient boosting."
   ]
  },
  {
   "cell_type": "code",
   "execution_count": null,
   "metadata": {},
   "outputs": [],
   "source": [
    "from time import time\n",
    "from sklearn.ensemble import GradientBoostingRegressor\n",
    "\n",
    "gradient_boosting = GradientBoostingRegressor(n_estimators=200)\n",
    "\n",
    "start_time = time()\n",
    "gradient_boosting.fit(X_train, y_train)\n",
    "fit_time_gradient_boosting = time() - start_time\n",
    "\n",
    "start_time = time()\n",
    "score_gradient_boosting = gradient_boosting.score(X_test, y_test)\n",
    "score_time_gradient_boosting = time() - start_time\n",
    "\n",
    "print(\"Gradient boosting decision tree\")\n",
    "print(f\"R2 score: {score_gradient_boosting:.3f}\")\n",
    "print(f\"Fit time: {fit_time_gradient_boosting:.2f} s\")\n",
    "print(f\"Score time: {score_time_gradient_boosting:.5f} s\\n\")"
   ]
  },
  {
   "cell_type": "markdown",
   "metadata": {},
   "source": [
    "We recall that a way to accelerate the gradient boosting is to reduce the\n",
    "number of split considered within the tree building. One way is to bin the\n",
    "data before to give them into the gradient boosting. A transformer called\n",
    "`KBinsDiscretizer` is doing such transformation. Thus, we can pipeline\n",
    "this preprocessing with the gradient boosting.\n",
    "\n",
    "We can first demonstrate the transformation done by the `KBinsDiscretizer`."
   ]
  },
  {
   "cell_type": "code",
   "execution_count": null,
   "metadata": {},
   "outputs": [],
   "source": [
    "import numpy as np\n",
    "from sklearn.preprocessing import KBinsDiscretizer\n",
    "\n",
    "discretizer = KBinsDiscretizer(\n",
    "    n_bins=256, encode=\"ordinal\", strategy=\"quantile\")\n",
    "X_trans = discretizer.fit_transform(X_train)\n",
    "X_trans"
   ]
  },
  {
   "cell_type": "markdown",
   "metadata": {},
   "source": [
    "<div class=\"admonition note alert alert-info\">\n",
    "<p class=\"first admonition-title\" style=\"font-weight: bold;\">Note</p>\n",
    "<p class=\"last\">The code cell above will generate a couple of warnings. Indeed, for some of\n",
    "the features, we requested too much bins in regard of the data dispersion for\n",
    "those features. The too small bins will be removed.</p>\n",
    "</div>\n",
    "We see that the discretizer transform the original data into an integer.\n",
    "This integer represents the bin index when the distribution by quantile is\n",
    "performed. We can check the number of bins per feature."
   ]
  },
  {
   "cell_type": "code",
   "execution_count": null,
   "metadata": {},
   "outputs": [],
   "source": [
    "[len(np.unique(col)) for col in X_trans.T]"
   ]
  },
  {
   "cell_type": "markdown",
   "metadata": {},
   "source": [
    "After this transformation, we see that we have at most 256 unique values per\n",
    "features. Now, we will use this transformer to discretize data before to\n",
    "train the gradient boosting regressor."
   ]
  },
  {
   "cell_type": "code",
   "execution_count": null,
   "metadata": {},
   "outputs": [],
   "source": [
    "from sklearn.pipeline import make_pipeline\n",
    "\n",
    "gradient_boosting = make_pipeline(\n",
    "    discretizer, GradientBoostingRegressor(n_estimators=200))\n",
    "\n",
    "start_time = time()\n",
    "gradient_boosting.fit(X_train, y_train)\n",
    "fit_time_gradient_boosting = time() - start_time\n",
    "\n",
    "start_time = time()\n",
    "score_gradient_boosting = gradient_boosting.score(X_test, y_test)\n",
    "score_time_gradient_boosting = time() - start_time\n",
    "\n",
    "print(\"KBinsDiscritizer + Gradient boosting decision tree\")\n",
    "print(f\"R2 score: {score_gradient_boosting:.3f}\")\n",
    "print(f\"Fit time: {fit_time_gradient_boosting:.2f} s\")\n",
    "print(f\"Score time: {score_time_gradient_boosting:.5f} s\\n\")"
   ]
  },
  {
   "cell_type": "markdown",
   "metadata": {},
   "source": [
    "Here, we observe that the fit time have been drastically reduce but that the\n",
    "performance of the model are the identical. Scikit-learn provides a specific\n",
    "class even more optimized for large dataset called\n",
    "`HistGradientBoostingClassifier` and `HistGradientBoostingRegressor`. Each\n",
    "feature in the dataset `X` is first binned by computing histograms which are\n",
    "later used to evaluate the potential splits. The number of splits to evaluate\n",
    "is then much smaller. This algorithm becomes much more efficient than\n",
    "gradient boosting when the dataset has 10,000+ samples.\n",
    "\n",
    "Below we will give an example of a large dataset and we can compare\n",
    "computation time with the earlier experiment in the previous section."
   ]
  },
  {
   "cell_type": "code",
   "execution_count": null,
   "metadata": {},
   "outputs": [],
   "source": [
    "from time import time\n",
    "from sklearn.experimental import enable_hist_gradient_boosting\n",
    "from sklearn.ensemble import HistGradientBoostingRegressor\n",
    "\n",
    "histogram_gradient_boosting = HistGradientBoostingRegressor(\n",
    "    max_iter=200, random_state=0)\n",
    "\n",
    "start_time = time()\n",
    "histogram_gradient_boosting.fit(X_train, y_train)\n",
    "fit_time_histogram_gradient_boosting = time() - start_time\n",
    "\n",
    "start_time = time()\n",
    "score_histogram_gradient_boosting = histogram_gradient_boosting.score(\n",
    "    X_test, y_test)\n",
    "score_time_histogram_gradient_boosting = time() - start_time\n",
    "\n",
    "print(\"Historgram gradient boosting decision tree\")\n",
    "print(f\"R2 score: {score_histogram_gradient_boosting:.3f}\")\n",
    "print(f\"Fit time: {fit_time_histogram_gradient_boosting:.2f} s\")\n",
    "print(f\"Score time: {score_time_histogram_gradient_boosting:.5f} s\\n\")"
   ]
  },
  {
   "cell_type": "markdown",
   "metadata": {},
   "source": [
    "The histogram gradient-boosting is the best algorithm in terms of score.\n",
    "It will also scale when the number of samples increases, while the normal\n",
    "gradient-boosting will not."
   ]
  }
 ],
 "metadata": {
  "jupytext": {
   "cell_metadata_filter": "-all",
   "main_language": "python",
   "notebook_metadata_filter": "-all"
  }
 },
 "nbformat": 4,
 "nbformat_minor": 4
}
