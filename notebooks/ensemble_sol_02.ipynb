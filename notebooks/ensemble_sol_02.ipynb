{
 "cells": [
  {
   "cell_type": "markdown",
   "metadata": {},
   "source": [
    "# 📃 Solution for Exercise 02\n",
    "\n",
    "The aim of this exercise it to explore some attributes available in\n",
    "scikit-learn random forest.\n",
    "\n",
    "First, we will fit the penguins regression dataset."
   ]
  },
  {
   "cell_type": "code",
   "execution_count": null,
   "metadata": {},
   "outputs": [],
   "source": [
    "import pandas as pd\n",
    "from sklearn.model_selection import train_test_split\n",
    "\n",
    "data = pd.read_csv(\"../datasets/penguins_regression.csv\")\n",
    "feature_names = [\"Flipper Length (mm)\"]\n",
    "target_name = \"Body Mass (g)\"\n",
    "X, y = data[feature_names], data[target_name]\n",
    "X_train, X_test, y_train, y_test = train_test_split(X, y, random_state=0)"
   ]
  },
  {
   "cell_type": "markdown",
   "metadata": {},
   "source": [
    "Create a random forest containing only three trees. Train the forest and\n",
    "check the performance on the testing set."
   ]
  },
  {
   "cell_type": "code",
   "execution_count": null,
   "metadata": {},
   "outputs": [],
   "source": [
    "from sklearn.ensemble import RandomForestRegressor\n",
    "\n",
    "forest = RandomForestRegressor(n_estimators=3)\n",
    "forest.fit(X_train, y_train)\n",
    "print(f\"Accuracy score: {forest.score(X_test, y_test):.3f}\")"
   ]
  },
  {
   "cell_type": "markdown",
   "metadata": {},
   "source": [
    "The forest that you created contains three trees that can be accessed with\n",
    "the attribute `estimators_`. You will have to:\n",
    "\n",
    "- create a new dataset containing flipper length between 170 mm and 230 mm;\n",
    "- plot the training data using a scatter plot;\n",
    "- plot the decision of each individual tree by predicting on the newly\n",
    "  created dataset;\n",
    "- plot the decision of the random forest using this newly created dataset."
   ]
  },
  {
   "cell_type": "code",
   "execution_count": null,
   "metadata": {},
   "outputs": [],
   "source": [
    "import matplotlib.pyplot as plt\n",
    "import numpy as np\n",
    "import seaborn as sns\n",
    "\n",
    "sns.set_context(\"talk\")\n",
    "\n",
    "X_ranges = pd.DataFrame(\n",
    "    np.linspace(X.iloc[:, 0].min(), X.iloc[:, 0].max(), num=300),\n",
    "    columns=X.columns,\n",
    ")\n",
    "\n",
    "_, ax = plt.subplots(figsize=(8, 6))\n",
    "\n",
    "sns.scatterplot(\n",
    "    data=data, x=feature_names[0], y=target_name, color=\"black\", alpha=0.5\n",
    ")\n",
    "for tree_idx, tree in enumerate(forest.estimators_):\n",
    "    ax.plot(\n",
    "        X_ranges,\n",
    "        tree.predict(X_ranges),\n",
    "        label=f\"Tree #{tree_idx}\",\n",
    "        linestyle=\"--\",\n",
    "    )\n",
    "ax.plot(X_ranges, forest.predict(X_ranges), label=f\"Random forest\")\n",
    "_ = ax.legend()"
   ]
  },
  {
   "cell_type": "code",
   "execution_count": null,
   "metadata": {},
   "outputs": [],
   "source": []
  }
 ],
 "metadata": {
  "jupytext": {
   "cell_metadata_filter": "-all",
   "main_language": "python",
   "notebook_metadata_filter": "-all"
  }
 },
 "nbformat": 4,
 "nbformat_minor": 4
}
