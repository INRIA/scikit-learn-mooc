{
 "cells": [
  {
   "cell_type": "markdown",
   "metadata": {},
   "source": [
    "# \ud83d\udcc3 Solution for Exercise M6.02\n",
    "\n",
    "The aim of this exercise it to explore some attributes available in\n",
    "scikit-learn's random forest.\n",
    "\n",
    "First, we will fit the penguins regression dataset."
   ]
  },
  {
   "cell_type": "code",
   "execution_count": null,
   "metadata": {},
   "outputs": [],
   "source": [
    "import pandas as pd\n",
    "from sklearn.model_selection import train_test_split\n",
    "\n",
    "penguins = pd.read_csv(\"../datasets/penguins_regression.csv\")\n",
    "feature_names = [\"Flipper Length (mm)\"]\n",
    "target_name = \"Body Mass (g)\"\n",
    "data, target = penguins[feature_names], penguins[target_name]\n",
    "data_train, data_test, target_train, target_test = train_test_split(\n",
    "    data, target, random_state=0)"
   ]
  },
  {
   "cell_type": "markdown",
   "metadata": {},
   "source": [
    "<div class=\"admonition note alert alert-info\">\n",
    "<p class=\"first admonition-title\" style=\"font-weight: bold;\">Note</p>\n",
    "<p class=\"last\">If you want a deeper overview regarding this dataset, you can refer to the\n",
    "Appendix - Datasets description section at the end of this MOOC.</p>\n",
    "</div>"
   ]
  },
  {
   "cell_type": "markdown",
   "metadata": {},
   "source": [
    "Create a random forest containing three trees. Train the forest and\n",
    "check the generalization performance on the testing set in terms of mean\n",
    "absolute error."
   ]
  },
  {
   "cell_type": "code",
   "execution_count": null,
   "metadata": {},
   "outputs": [],
   "source": [
    "from sklearn.metrics import mean_absolute_error\n",
    "from sklearn.ensemble import RandomForestRegressor\n",
    "\n",
    "forest = RandomForestRegressor(n_estimators=3)\n",
    "forest.fit(data_train, target_train)\n",
    "target_predicted = forest.predict(data_test)\n",
    "print(f\"Mean absolute error: \"\n",
    "      f\"{mean_absolute_error(target_test, target_predicted):.3f} grams\")"
   ]
  },
  {
   "cell_type": "markdown",
   "metadata": {},
   "source": [
    "The next steps of this exercise are to:\n",
    "\n",
    "- create a new dataset containing the penguins with a flipper length\n",
    "  between 170 mm and 230 mm;\n",
    "- plot the training data using a scatter plot;\n",
    "- plot the decision of each individual tree by predicting on the newly\n",
    "  created dataset;\n",
    "- plot the decision of the random forest using this newly created dataset.\n",
    "\n",
    "<div class=\"admonition tip alert alert-warning\">\n",
    "<p class=\"first admonition-title\" style=\"font-weight: bold;\">Tip</p>\n",
    "<p class=\"last\">The trees contained in the forest that you created can be accessed\n",
    "with the attribute <tt class=\"docutils literal\">estimators_</tt>.</p>\n",
    "</div>"
   ]
  },
  {
   "cell_type": "markdown",
   "metadata": {},
   "source": [
    "In a first cell, we will collect all the required predictions from the\n",
    "different trees and forest."
   ]
  },
  {
   "cell_type": "code",
   "execution_count": null,
   "metadata": {},
   "outputs": [],
   "source": [
    "import numpy as np\n",
    "\n",
    "data_ranges = pd.DataFrame(np.linspace(170, 235, num=300),\n",
    "                           columns=data.columns)\n",
    "tree_predictions = []\n",
    "for tree in forest.estimators_:\n",
    "    tree_predictions.append(tree.predict(data_ranges))\n",
    "\n",
    "forest_predictions = forest.predict(data_ranges)"
   ]
  },
  {
   "cell_type": "markdown",
   "metadata": {},
   "source": [
    "Now, we can plot the predictions that we collected."
   ]
  },
  {
   "cell_type": "code",
   "execution_count": null,
   "metadata": {},
   "outputs": [],
   "source": [
    "import matplotlib.pyplot as plt\n",
    "import seaborn as sns\n",
    "\n",
    "sns.scatterplot(data=penguins, x=feature_names[0], y=target_name,\n",
    "                color=\"black\", alpha=0.5)\n",
    "\n",
    "# plot tree predictions\n",
    "for tree_idx, predictions in enumerate(tree_predictions):\n",
    "    plt.plot(data_ranges, predictions, label=f\"Tree #{tree_idx}\",\n",
    "             linestyle=\"--\", alpha=0.8)\n",
    "\n",
    "plt.plot(data_ranges, forest_predictions, label=f\"Random forest\")\n",
    "_ = plt.legend()"
   ]
  }
 ],
 "metadata": {
  "jupytext": {
   "cell_metadata_filter": "-all",
   "main_language": "python",
   "notebook_metadata_filter": "-all"
  }
 },
 "nbformat": 4,
 "nbformat_minor": 5
}