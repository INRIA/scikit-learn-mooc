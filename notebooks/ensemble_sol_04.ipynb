{
 "cells": [
  {
   "cell_type": "markdown",
   "metadata": {},
   "source": [
    "# \ud83d\udcc3 Solution for Exercise M6.04\n",
    "\n",
    "The aim of this exercise is to:\n",
    "\n",
    "* verify if a GBDT tends to overfit if the number of estimators is not\n",
    "  appropriate as previously seen for AdaBoost;\n",
    "* use the early-stopping strategy to avoid adding unnecessary trees, to\n",
    "  get the best generalization performances.\n",
    "\n",
    "we will use the California housing dataset to conduct our experiments."
   ]
  },
  {
   "cell_type": "code",
   "execution_count": null,
   "metadata": {},
   "outputs": [],
   "source": [
    "from sklearn.datasets import fetch_california_housing\n",
    "from sklearn.model_selection import train_test_split\n",
    "\n",
    "data, target = fetch_california_housing(return_X_y=True, as_frame=True)\n",
    "target *= 100  # rescale the target in k$\n",
    "data_train, data_test, target_train, target_test = train_test_split(\n",
    "    data, target, random_state=0, test_size=0.5)"
   ]
  },
  {
   "cell_type": "markdown",
   "metadata": {},
   "source": [
    "<div class=\"admonition note alert alert-info\">\n",
    "<p class=\"first admonition-title\" style=\"font-weight: bold;\">Note</p>\n",
    "<p class=\"last\">If you want a deeper overview regarding this dataset, you can refer to the\n",
    "Appendix - Datasets description section at the end of this MOOC.</p>\n",
    "</div>"
   ]
  },
  {
   "cell_type": "markdown",
   "metadata": {},
   "source": [
    "Similarly to the previous exercise, create a gradient boosting decision tree\n",
    "and create a validation curve to assess the impact of the number of trees\n",
    "on the generalization performance of the model. Use the mean absolute error\n",
    "to assess the generalization performance of the model."
   ]
  },
  {
   "cell_type": "code",
   "execution_count": null,
   "metadata": {},
   "outputs": [],
   "source": [
    "import numpy as np\n",
    "from sklearn.ensemble import GradientBoostingRegressor\n",
    "from sklearn.model_selection import validation_curve\n",
    "\n",
    "gbdt = GradientBoostingRegressor()\n",
    "param_range = np.unique(np.logspace(0, 1.8, num=30).astype(int))\n",
    "train_scores, test_scores = validation_curve(\n",
    "    gbdt,\n",
    "    data_train,\n",
    "    target_train,\n",
    "    param_name=\"n_estimators\",\n",
    "    param_range=param_range,\n",
    "    scoring=\"neg_mean_absolute_error\",\n",
    "    n_jobs=2,\n",
    ")\n",
    "train_errors, test_errors = -train_scores, -test_scores"
   ]
  },
  {
   "cell_type": "code",
   "execution_count": null,
   "metadata": {},
   "outputs": [],
   "source": [
    "import matplotlib.pyplot as plt\n",
    "\n",
    "plt.errorbar(\n",
    "    param_range,\n",
    "    train_errors.mean(axis=1),\n",
    "    yerr=train_errors.std(axis=1),\n",
    "    label=\"Training score\",\n",
    ")\n",
    "plt.errorbar(\n",
    "    param_range,\n",
    "    test_errors.mean(axis=1),\n",
    "    yerr=test_errors.std(axis=1),\n",
    "    label=\"Cross-validation score\",\n",
    ")\n",
    "\n",
    "plt.legend()\n",
    "plt.ylabel(\"Mean absolute error in k$\\n(smaller is better)\")\n",
    "plt.xlabel(\"# estimators\")\n",
    "_ = plt.title(\"Validation curve for GBDT regressor\")"
   ]
  },
  {
   "cell_type": "markdown",
   "metadata": {},
   "source": [
    "Unlike AdaBoost, the gradient boosting model will always improve when\n",
    "increasing the number of trees in the ensemble. However, it will reach a\n",
    "plateau where adding new trees will just make fitting and scoring slower.\n",
    "\n",
    "To avoid adding new unnecessary tree, gradient boosting offers an\n",
    "early-stopping option. Internally, the algorithm will use an out-of-sample\n",
    "set to compute the generalization performance of the model at each addition of a\n",
    "tree. Thus, if the generalization performance is not improving for several\n",
    "iterations, it will stop adding trees.\n",
    "\n",
    "Now, create a gradient-boosting model with `n_estimators=1000`. This number\n",
    "of trees will be too large. Change the parameter `n_iter_no_change` such\n",
    "that the gradient boosting fitting will stop after adding 5 trees that do not\n",
    "improve the overall generalization performance."
   ]
  },
  {
   "cell_type": "code",
   "execution_count": null,
   "metadata": {},
   "outputs": [],
   "source": [
    "gbdt = GradientBoostingRegressor(n_estimators=1000, n_iter_no_change=5)\n",
    "gbdt.fit(data_train, target_train)\n",
    "gbdt.n_estimators_"
   ]
  },
  {
   "cell_type": "markdown",
   "metadata": {},
   "source": [
    "We see that the number of trees used is far below 1000 with the current\n",
    "dataset. Training the GBDT with the entire 1000 trees would have been\n",
    "useless."
   ]
  }
 ],
 "metadata": {
  "jupytext": {
   "cell_metadata_filter": "-all",
   "main_language": "python",
   "notebook_metadata_filter": "-all"
  }
 },
 "nbformat": 4,
 "nbformat_minor": 5
}