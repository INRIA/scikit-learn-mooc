{
 "cells": [
  {
   "cell_type": "markdown",
   "id": "thousand-education",
   "metadata": {},
   "source": [
    "# 📝 Exercise 01\n",
    "\n",
    "The aim of this exercise is two-fold:\n",
    "\n",
    "* understand the parametrization of a linear model;\n",
    "* quantify the fitting accuracy of a set of such models.\n",
    "\n",
    "We will reuse part of the code of the course to:\n",
    "\n",
    "* load data;\n",
    "* create the function representing a linear model.\n",
    "\n",
    "## Prerequisites\n",
    "\n",
    "### Data loading"
   ]
  },
  {
   "cell_type": "code",
   "execution_count": null,
   "id": "driven-popularity",
   "metadata": {},
   "outputs": [],
   "source": [
    "import pandas as pd\n",
    "\n",
    "penguins = pd.read_csv(\"../datasets/penguins_regression.csv\")\n",
    "feature_name = \"Flipper Length (mm)\"\n",
    "target_name = \"Body Mass (g)\"\n",
    "data, target = penguins[[feature_name]], penguins[target_name]"
   ]
  },
  {
   "cell_type": "markdown",
   "id": "extraordinary-expansion",
   "metadata": {
    "lines_to_next_cell": 2
   },
   "source": [
    "### Model definition"
   ]
  },
  {
   "cell_type": "code",
   "execution_count": null,
   "id": "super-color",
   "metadata": {},
   "outputs": [],
   "source": [
    "def linear_model_flipper_mass(\n",
    "    flipper_length, weight_flipper_length, intercept_body_mass\n",
    "):\n",
    "    \"\"\"Linear model of the form y = a * x + b\"\"\"\n",
    "    body_mass = weight_flipper_length * flipper_length + intercept_body_mass\n",
    "    return body_mass"
   ]
  },
  {
   "cell_type": "markdown",
   "id": "level-sapphire",
   "metadata": {},
   "source": [
    "## Main exercise\n",
    "\n",
    "Given a vector of the flipper length, several weights and intercepts to\n",
    "plot several linear model that could fit our data. Use the above\n",
    "visualization helper function to visualize both the model and data."
   ]
  },
  {
   "cell_type": "code",
   "execution_count": null,
   "id": "inappropriate-intensity",
   "metadata": {},
   "outputs": [],
   "source": [
    "import numpy as np\n",
    "\n",
    "flipper_length_range = np.linspace(data.min(), data.max(), num=300)"
   ]
  },
  {
   "cell_type": "code",
   "execution_count": null,
   "id": "incorrect-naples",
   "metadata": {
    "lines_to_next_cell": 2
   },
   "outputs": [],
   "source": [
    "# Write your code here.\n",
    "# weights = [...]\n",
    "# intercepts = [...]"
   ]
  },
  {
   "cell_type": "markdown",
   "id": "thermal-appliance",
   "metadata": {
    "lines_to_next_cell": 2
   },
   "source": [
    "In the previous question, you were asked to create several linear models.\n",
    "The visualization allowed you to qualitatively assess if a model was better\n",
    "than another.\n",
    "\n",
    "Now, you should come up with a quantitative measure which will indicate the\n",
    "goodness of fit of each linear model. This quantitative metric should result\n",
    "in a single scalar and allow you to pick up the best model."
   ]
  },
  {
   "cell_type": "code",
   "execution_count": null,
   "id": "excess-label",
   "metadata": {
    "lines_to_next_cell": 2
   },
   "outputs": [],
   "source": [
    "def goodness_fit_measure(true_values, predictions):\n",
    "    # Write your code here.\n",
    "    # Define a measure indicating the goodness of fit of a model given the true\n",
    "    # values and the model predictions.\n",
    "    pass"
   ]
  },
  {
   "cell_type": "code",
   "execution_count": null,
   "id": "stopped-slave",
   "metadata": {},
   "outputs": [],
   "source": [
    "# Uncomment the code below.\n",
    "# for model_idx, (weight, intercept) in enumerate(zip(weights, intercepts)):\n",
    "#     target_predicted = linear_model_flipper_mass(data, weight, intercept)\n",
    "#     print(f\"Model #{model_idx}:\")\n",
    "#     print(f\"{weight:.2f} (g / mm) * flipper length + {intercept:.2f} (g)\")\n",
    "#     print(f\"Error: {goodness_fit_measure(target, target_predicted):.3f}\\n\")"
   ]
  },
  {
   "cell_type": "code",
   "execution_count": null,
   "id": "distinct-grave",
   "metadata": {},
   "outputs": [],
   "source": []
  }
 ],
 "metadata": {
  "jupytext": {
   "cell_metadata_filter": "-all",
   "main_language": "python",
   "notebook_metadata_filter": "-all"
  }
 },
 "nbformat": 4,
 "nbformat_minor": 5
}
