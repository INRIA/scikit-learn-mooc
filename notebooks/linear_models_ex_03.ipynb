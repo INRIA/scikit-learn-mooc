{
 "cells": [
  {
   "cell_type": "markdown",
   "id": "improved-resolution",
   "metadata": {},
   "source": [
    "# 📝 Exercise 03\n",
    "\n",
    "In all previous notebooks, we only used a single feature in `data`. But we\n",
    "have already shown that we could add new features to make the model more\n",
    "expressive by deriving new features, based on the original feature.\n",
    "\n",
    "The aim of this notebook is to train a linear regression algorithm on a\n",
    "dataset more than a single feature.\n",
    "\n",
    "We will load a dataset about house prices in California.\n",
    "The dataset consists of 8 features regarding the demography and geography of\n",
    "districts in California and the aim is to predict the median house price of\n",
    "each district. We will use all 8 features to predict the target, the median\n",
    "house price."
   ]
  },
  {
   "cell_type": "code",
   "execution_count": null,
   "id": "innocent-setup",
   "metadata": {},
   "outputs": [],
   "source": [
    "from sklearn.datasets import fetch_california_housing\n",
    "\n",
    "data, target = fetch_california_housing(as_frame=True, return_X_y=True)\n",
    "target *= 100  # rescale the target in k$\n",
    "data.head()"
   ]
  },
  {
   "cell_type": "markdown",
   "id": "coordinated-supplement",
   "metadata": {},
   "source": [
    "Now this is your turn to train a linear regression model on this dataset.\n",
    "You will need to:\n",
    "* create a linear regression model;\n",
    "* execute a cross-validation with 10 folds and use the mean absolute error\n",
    "  (MAE) as metric. Ensure to return the fitted estimators;\n",
    "* compute mean and std of the MAE in thousands of dollars (k$);\n",
    "* show the values of the coefficients for each feature using a boxplot by\n",
    "  inspecting the fitted model returned from the cross-validation."
   ]
  },
  {
   "cell_type": "code",
   "execution_count": null,
   "id": "announced-occasions",
   "metadata": {},
   "outputs": [],
   "source": [
    "# Write your code here.: make the exercise"
   ]
  }
 ],
 "metadata": {
  "jupytext": {
   "cell_metadata_filter": "-all",
   "main_language": "python",
   "notebook_metadata_filter": "-all"
  }
 },
 "nbformat": 4,
 "nbformat_minor": 5
}
