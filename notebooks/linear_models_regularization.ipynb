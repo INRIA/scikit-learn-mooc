{
 "cells": [
  {
   "cell_type": "markdown",
   "metadata": {},
   "source": [
    "# Regularization of linear regression model\n",
    "\n",
    "In this notebook, we will see the limitations of linear regression models and\n",
    "the advantage of using regularized models instead.\n",
    "\n",
    "Besides, we will also present the preprocessing required when dealing\n",
    "with regularized models, furthermore when the regularization parameter\n",
    "needs to be tuned.\n",
    "\n",
    "We will start by highlighting the over-fitting issue that can arise with\n",
    "a simple linear regression model.\n",
    "\n",
    "## Effect of regularization\n",
    "\n",
    "We will first load the California housing dataset."
   ]
  },
  {
   "cell_type": "markdown",
   "metadata": {},
   "source": [
    "<div class=\"admonition note alert alert-info\">\n",
    "<p class=\"first admonition-title\" style=\"font-weight: bold;\">Note</p>\n",
    "<p class=\"last\">If you want a deeper overview regarding this dataset, you can refer to the\n",
    "Appendix - Datasets description section at the end of this MOOC.</p>\n",
    "</div>"
   ]
  },
  {
   "cell_type": "code",
   "execution_count": null,
   "metadata": {},
   "outputs": [],
   "source": [
    "from sklearn.datasets import fetch_california_housing\n",
    "\n",
    "data, target = fetch_california_housing(as_frame=True, return_X_y=True)\n",
    "target *= 100  # rescale the target in k$\n",
    "data.head()"
   ]
  },
  {
   "cell_type": "markdown",
   "metadata": {},
   "source": [
    "In one of the previous notebook, we showed that linear models could be used\n",
    "even in settings where `data` and `target` are not linearly linked.\n",
    "\n",
    "We showed that one can use the `PolynomialFeatures` transformer to create\n",
    "additional features encoding non-linear interactions between features.\n",
    "\n",
    "Here, we will use this transformer to augment the feature space.\n",
    "Subsequently, we will train a linear regression model. We will use the\n",
    "out-of-sample test set to evaluate the generalization capabilities of our\n",
    "model."
   ]
  },
  {
   "cell_type": "code",
   "execution_count": null,
   "metadata": {},
   "outputs": [],
   "source": [
    "from sklearn.model_selection import cross_validate\n",
    "from sklearn.pipeline import make_pipeline\n",
    "from sklearn.preprocessing import PolynomialFeatures\n",
    "from sklearn.linear_model import LinearRegression\n",
    "\n",
    "linear_regression = make_pipeline(PolynomialFeatures(degree=2),\n",
    "                                  LinearRegression())\n",
    "cv_results = cross_validate(linear_regression, data, target,\n",
    "                            cv=10, scoring=\"neg_mean_squared_error\",\n",
    "                            return_train_score=True,\n",
    "                            return_estimator=True)"
   ]
  },
  {
   "cell_type": "markdown",
   "metadata": {},
   "source": [
    "We can compare the mean squared error on the training and testing set to\n",
    "assess the generalization performance of our model."
   ]
  },
  {
   "cell_type": "code",
   "execution_count": null,
   "metadata": {},
   "outputs": [],
   "source": [
    "train_error = -cv_results[\"train_score\"]\n",
    "print(f\"Mean squared error of linear regression model on the train set:\\n\"\n",
    "      f\"{train_error.mean():.3f} +/- {train_error.std():.3f}\")"
   ]
  },
  {
   "cell_type": "code",
   "execution_count": null,
   "metadata": {},
   "outputs": [],
   "source": [
    "test_error = -cv_results[\"test_score\"]\n",
    "print(f\"Mean squared error of linear regression model on the test set:\\n\"\n",
    "      f\"{test_error.mean():.3f} +/- {test_error.std():.3f}\")"
   ]
  },
  {
   "cell_type": "markdown",
   "metadata": {},
   "source": [
    "The score on the training set is much better. This generalization performance\n",
    "gap between the training and testing score is an indication that our model\n",
    "overfitted our training set.\n",
    "\n",
    "Indeed, this is one of the danger when augmenting the number of features\n",
    "with a `PolynomialFeatures` transformer. Our model will focus on some\n",
    "specific features. We can check the weights of the model to have a\n",
    "confirmation. Let's create a dataframe: the columns will contain the name\n",
    "of the feature while the line the coefficients values stored by each model\n",
    "during the cross-validation.\n",
    "\n",
    "Since we used a `PolynomialFeatures` to augment the data, we will create\n",
    "feature names representative of the feature combination. Scikit-learn\n",
    "provides a `get_feature_names` method for this purpose. First, let's get\n",
    "the first fitted model from the cross-validation."
   ]
  },
  {
   "cell_type": "code",
   "execution_count": null,
   "metadata": {},
   "outputs": [],
   "source": [
    "model_first_fold = cv_results[\"estimator\"][0]"
   ]
  },
  {
   "cell_type": "markdown",
   "metadata": {},
   "source": [
    "Now, we can access to the fitted `PolynomialFeatures` to generate the feature\n",
    "names"
   ]
  },
  {
   "cell_type": "code",
   "execution_count": null,
   "metadata": {},
   "outputs": [],
   "source": [
    "feature_names = model_first_fold[0].get_feature_names(\n",
    "    input_features=data.columns)\n",
    "feature_names"
   ]
  },
  {
   "cell_type": "markdown",
   "metadata": {},
   "source": [
    "Finally, we can create the dataframe containing all the information."
   ]
  },
  {
   "cell_type": "code",
   "execution_count": null,
   "metadata": {},
   "outputs": [],
   "source": [
    "import pandas as pd\n",
    "\n",
    "coefs = [est[-1].coef_ for est in cv_results[\"estimator\"]]\n",
    "weights_linear_regression = pd.DataFrame(coefs, columns=feature_names)"
   ]
  },
  {
   "cell_type": "markdown",
   "metadata": {},
   "source": [
    "Now, let's use a box plot to see the coefficients variations."
   ]
  },
  {
   "cell_type": "code",
   "execution_count": null,
   "metadata": {},
   "outputs": [],
   "source": [
    "import matplotlib.pyplot as plt\n",
    "\n",
    "color = {\"whiskers\": \"black\", \"medians\": \"black\", \"caps\": \"black\"}\n",
    "weights_linear_regression.plot.box(color=color, vert=False, figsize=(6, 16))\n",
    "_ = plt.title(\"Linear regression coefficients\")"
   ]
  },
  {
   "cell_type": "markdown",
   "metadata": {},
   "source": [
    "We can force the linear regression model to consider all features in a more\n",
    "homogeneous manner. In fact, we could force large positive or negative weight\n",
    "to shrink toward zero. This is known as regularization. We will use a ridge\n",
    "model which enforces such behavior."
   ]
  },
  {
   "cell_type": "code",
   "execution_count": null,
   "metadata": {},
   "outputs": [],
   "source": [
    "from sklearn.linear_model import Ridge\n",
    "\n",
    "ridge = make_pipeline(PolynomialFeatures(degree=2),\n",
    "                      Ridge(alpha=100))\n",
    "cv_results = cross_validate(ridge, data, target,\n",
    "                            cv=10, scoring=\"neg_mean_squared_error\",\n",
    "                            return_train_score=True,\n",
    "                            return_estimator=True)"
   ]
  },
  {
   "cell_type": "code",
   "execution_count": null,
   "metadata": {},
   "outputs": [],
   "source": [
    "train_error = -cv_results[\"train_score\"]\n",
    "print(f\"Mean squared error of linear regression model on the train set:\\n\"\n",
    "      f\"{train_error.mean():.3f} +/- {train_error.std():.3f}\")"
   ]
  },
  {
   "cell_type": "code",
   "execution_count": null,
   "metadata": {},
   "outputs": [],
   "source": [
    "test_error = -cv_results[\"test_score\"]\n",
    "print(f\"Mean squared error of linear regression model on the test set:\\n\"\n",
    "      f\"{test_error.mean():.3f} +/- {test_error.std():.3f}\")"
   ]
  },
  {
   "cell_type": "markdown",
   "metadata": {},
   "source": [
    "We see that the training and testing scores are much closer, indicating that\n",
    "our model is less overfitting. We can compare the values of the weights of\n",
    "ridge with the un-regularized linear regression."
   ]
  },
  {
   "cell_type": "code",
   "execution_count": null,
   "metadata": {},
   "outputs": [],
   "source": [
    "coefs = [est[-1].coef_ for est in cv_results[\"estimator\"]]\n",
    "weights_ridge = pd.DataFrame(coefs, columns=feature_names)"
   ]
  },
  {
   "cell_type": "code",
   "execution_count": null,
   "metadata": {},
   "outputs": [],
   "source": [
    "weights_ridge.plot.box(color=color, vert=False, figsize=(6, 16))\n",
    "_ = plt.title(\"Ridge weights\")"
   ]
  },
  {
   "cell_type": "markdown",
   "metadata": {},
   "source": [
    "By comparing the magnitude of the weights on this plot compared to the\n",
    "previous plot, we see that the magnitude of the weights are shrunk towards\n",
    "zero in comparison with the linear regression model.\n",
    "\n",
    "However, in this example, we omitted two important aspects: (i) the need to\n",
    "scale the data and (ii) the need to search for the best regularization\n",
    "parameter.\n",
    "\n",
    "## Scale your data!\n",
    "\n",
    "Regularization will add constraints on weights of the model. We saw in the\n",
    "previous example that a ridge model will enforce that all weights have a\n",
    "similar magnitude. Indeed, the larger alpha is, the larger this enforcement\n",
    "will be.\n",
    "\n",
    "This procedure should make us think about feature rescaling. Let's consider\n",
    "the case where features have an identical data dispersion: if two features\n",
    "are found equally important by the model, they will be affected similarly by\n",
    "regularization strength.\n",
    "\n",
    "Now, let's consider the scenario where features have completely different\n",
    "data dispersion (for instance age in years and annual revenue in dollars).\n",
    "If two features are as important, our model will boost the weights of\n",
    "features with small dispersion and reduce the weights of features with\n",
    "high dispersion.\n",
    "\n",
    "We recall that regularization forces weights to be closer. Therefore, we get\n",
    "an intuition that if we want to use regularization, dealing with rescaled\n",
    "data would make it easier to find an optimal regularization parameter and\n",
    "thus an adequate model.\n",
    "\n",
    "As a side note, some solvers based on gradient computation are expecting such\n",
    "rescaled data. Unscaled data will be detrimental when computing the optimal\n",
    "weights. Therefore, when working with a linear model and numerical data, it\n",
    "is generally good practice to scale the data.\n",
    "\n",
    "Thus, we will add a `StandardScaler` in the machine learning pipeline. This\n",
    "scaler will be placed just before the regressor."
   ]
  },
  {
   "cell_type": "code",
   "execution_count": null,
   "metadata": {},
   "outputs": [],
   "source": [
    "from sklearn.preprocessing import StandardScaler\n",
    "\n",
    "ridge = make_pipeline(PolynomialFeatures(degree=2), StandardScaler(),\n",
    "                      Ridge(alpha=0.5))\n",
    "cv_results = cross_validate(ridge, data, target,\n",
    "                            cv=10, scoring=\"neg_mean_squared_error\",\n",
    "                            return_train_score=True,\n",
    "                            return_estimator=True)"
   ]
  },
  {
   "cell_type": "code",
   "execution_count": null,
   "metadata": {},
   "outputs": [],
   "source": [
    "train_error = -cv_results[\"train_score\"]\n",
    "print(f\"Mean squared error of linear regression model on the train set:\\n\"\n",
    "      f\"{train_error.mean():.3f} +/- {train_error.std():.3f}\")"
   ]
  },
  {
   "cell_type": "code",
   "execution_count": null,
   "metadata": {},
   "outputs": [],
   "source": [
    "test_error = -cv_results[\"test_score\"]\n",
    "print(f\"Mean squared error of linear regression model on the test set:\\n\"\n",
    "      f\"{test_error.mean():.3f} +/- {test_error.std():.3f}\")"
   ]
  },
  {
   "cell_type": "markdown",
   "metadata": {},
   "source": [
    "We observe that scaling data has a positive impact on the test score and that\n",
    "the test score is closer to the train score. It means that our model is less\n",
    "overfitted and that we are getting closer to the best generalization sweet\n",
    "spot.\n",
    "\n",
    "Let's have an additional look to the different weights."
   ]
  },
  {
   "cell_type": "code",
   "execution_count": null,
   "metadata": {},
   "outputs": [],
   "source": [
    "coefs = [est[-1].coef_ for est in cv_results[\"estimator\"]]\n",
    "weights_ridge = pd.DataFrame(coefs, columns=feature_names)"
   ]
  },
  {
   "cell_type": "code",
   "execution_count": null,
   "metadata": {},
   "outputs": [],
   "source": [
    "weights_ridge.plot.box(color=color, vert=False, figsize=(6, 16))\n",
    "_ = plt.title(\"Ridge weights with data scaling\")"
   ]
  },
  {
   "cell_type": "markdown",
   "metadata": {},
   "source": [
    "Compare to the previous plots, we see that now all weight manitudes are\n",
    "closer and that all weights are more equally contributing.\n",
    "\n",
    "In the previous analysis, we did not study if the parameter `alpha` will have\n",
    "an effect on the performance. We chose the parameter beforehand and fix it\n",
    "for the analysis.\n",
    "\n",
    "In the next section, we will check the impact of this hyperparameter and how\n",
    "it should be tuned.\n",
    "\n",
    "## Fine tuning the regularization parameter\n",
    "\n",
    "As mentioned, the regularization parameter needs to be tuned on each dataset.\n",
    "The default parameter will not lead to the optimal model. Therefore, we need\n",
    "to tune the `alpha` parameter.\n",
    "\n",
    "Model hyperparameter tuning should be done with care. Indeed, we want to\n",
    "find an optimal parameter that maximizes some metrics. Thus, it requires both\n",
    "a training set and testing set.\n",
    "\n",
    "However, this testing set should be different from the out-of-sample testing\n",
    "set that we used to evaluate our model: if we use the same one, we are using\n",
    "an `alpha` which was optimized for this testing set and it breaks the\n",
    "out-of-sample rule.\n",
    "\n",
    "Therefore, we should include search of the hyperparameter `alpha` within the\n",
    "cross-validation. As we saw in previous notebooks, we could use a\n",
    "grid-search. However, some predictor in scikit-learn are available with\n",
    "an integrated hyperparameter search, more efficient than using a grid-search.\n",
    "The name of these predictors finishes by `CV`. In the case of `Ridge`,\n",
    "scikit-learn provides a `RidgeCV` regressor.\n",
    "\n",
    "Therefore, we can use this predictor as the last step of the pipeline.\n",
    "Including the pipeline a cross-validation allows to make a nested\n",
    "cross-validation: the inner cross-validation will search for the best\n",
    "alpha, while the outer cross-validation will give an estimate of the\n",
    "testing score."
   ]
  },
  {
   "cell_type": "code",
   "execution_count": null,
   "metadata": {},
   "outputs": [],
   "source": [
    "import numpy as np\n",
    "from sklearn.linear_model import RidgeCV\n",
    "\n",
    "alphas = np.logspace(-2, 0, num=20)\n",
    "ridge = make_pipeline(PolynomialFeatures(degree=2), StandardScaler(),\n",
    "                      RidgeCV(alphas=alphas, store_cv_values=True))"
   ]
  },
  {
   "cell_type": "code",
   "execution_count": null,
   "metadata": {},
   "outputs": [],
   "source": [
    "from sklearn.model_selection import ShuffleSplit\n",
    "\n",
    "cv = ShuffleSplit(n_splits=5, random_state=1)\n",
    "cv_results = cross_validate(ridge, data, target,\n",
    "                            cv=cv, scoring=\"neg_mean_squared_error\",\n",
    "                            return_train_score=True,\n",
    "                            return_estimator=True, n_jobs=2)"
   ]
  },
  {
   "cell_type": "code",
   "execution_count": null,
   "metadata": {},
   "outputs": [],
   "source": [
    "train_error = -cv_results[\"train_score\"]\n",
    "print(f\"Mean squared error of linear regression model on the train set:\\n\"\n",
    "      f\"{train_error.mean():.3f} +/- {train_error.std():.3f}\")"
   ]
  },
  {
   "cell_type": "code",
   "execution_count": null,
   "metadata": {},
   "outputs": [],
   "source": [
    "test_error = -cv_results[\"test_score\"]\n",
    "print(f\"Mean squared error of linear regression model on the test set:\\n\"\n",
    "      f\"{test_error.mean():.3f} +/- {test_error.std():.3f}\")"
   ]
  },
  {
   "cell_type": "markdown",
   "metadata": {},
   "source": [
    "By optimizing `alpha`, we see that the training and testing scores are close.\n",
    "It indicates that our model is not overfitting.\n",
    "\n",
    "When fitting the ridge regressor, we also requested to store the error found\n",
    "during cross-validation (by setting the parameter `store_cv_values=True`).\n",
    "We will plot the mean squared error for the different `alphas` regularization\n",
    "strength that we tried."
   ]
  },
  {
   "cell_type": "code",
   "execution_count": null,
   "metadata": {},
   "outputs": [],
   "source": [
    "mse_alphas = [est[-1].cv_values_.mean(axis=0)\n",
    "              for est in cv_results[\"estimator\"]]\n",
    "cv_alphas = pd.DataFrame(mse_alphas, columns=alphas)\n",
    "cv_alphas"
   ]
  },
  {
   "cell_type": "code",
   "execution_count": null,
   "metadata": {},
   "outputs": [],
   "source": [
    "cv_alphas.mean(axis=0).plot(marker=\"+\")\n",
    "plt.ylabel(\"Mean squared error\\n (lower is better)\")\n",
    "plt.xlabel(\"alpha\")\n",
    "_ = plt.title(\"Error obtained by cross-validation\")"
   ]
  },
  {
   "cell_type": "markdown",
   "metadata": {},
   "source": [
    "As we can see, regularization is just like salt in cooking: one must balance\n",
    "its amount to get the best generalization performance. We can check if the best\n",
    "`alpha` found is stable across the cross-validation fold."
   ]
  },
  {
   "cell_type": "code",
   "execution_count": null,
   "metadata": {},
   "outputs": [],
   "source": [
    "best_alphas = [est[-1].alpha_ for est in cv_results[\"estimator\"]]\n",
    "best_alphas"
   ]
  },
  {
   "cell_type": "markdown",
   "metadata": {},
   "source": [
    "In this notebook, you learned about the concept of regularization and\n",
    "the importance of preprocessing and parameter tuning."
   ]
  }
 ],
 "metadata": {
  "jupytext": {
   "cell_metadata_filter": "-all",
   "main_language": "python",
   "notebook_metadata_filter": "-all"
  }
 },
 "nbformat": 4,
 "nbformat_minor": 5
}