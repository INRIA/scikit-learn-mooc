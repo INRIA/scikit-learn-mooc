{
 "cells": [
  {
   "cell_type": "markdown",
   "metadata": {},
   "source": [
    "# 📃 Solution for Exercise 01\n",
    "\n",
    "The aim of this exercise is three-fold:\n",
    "\n",
    "* understand the parametrization of a linear model;\n",
    "* quantify the goodness of fit of a set of such model.\n",
    "\n",
    "We will reuse part of the code of the course to:\n",
    "\n",
    "* load data;\n",
    "* create the function representing a linear model.\n",
    "\n",
    "## Prerequisite\n",
    "\n",
    "### Data loading"
   ]
  },
  {
   "cell_type": "code",
   "execution_count": null,
   "metadata": {},
   "outputs": [],
   "source": [
    "import pandas as pd\n",
    "\n",
    "data = pd.read_csv(\"../datasets/penguins_regression.csv\")\n",
    "feature_name = \"Flipper Length (mm)\"\n",
    "target_name = \"Body Mass (g)\"\n",
    "X, y = data[[feature_name]], data[target_name]"
   ]
  },
  {
   "cell_type": "markdown",
   "metadata": {
    "lines_to_next_cell": 2
   },
   "source": [
    "### Model definition"
   ]
  },
  {
   "cell_type": "code",
   "execution_count": null,
   "metadata": {},
   "outputs": [],
   "source": [
    "def linear_model_flipper_mass(\n",
    "    flipper_length, weight_flipper_length, intercept_body_mass\n",
    "):\n",
    "    \"\"\"Linear model of the form y = a * x + b\"\"\"\n",
    "    body_mass = weight_flipper_length * flipper_length + intercept_body_mass\n",
    "    return body_mass"
   ]
  },
  {
   "cell_type": "markdown",
   "metadata": {},
   "source": [
    "## Main exercise\n",
    "\n",
    "Given a vector of the flipper length, several weights and intercepts to\n",
    "plot several linear model that could fit our data. Use the above\n",
    "visualization helper function to visualize both the model and data."
   ]
  },
  {
   "cell_type": "code",
   "execution_count": null,
   "metadata": {},
   "outputs": [],
   "source": [
    "import numpy as np\n",
    "\n",
    "flipper_length_range = np.linspace(X.min(), X.max(), num=300)"
   ]
  },
  {
   "cell_type": "code",
   "execution_count": null,
   "metadata": {},
   "outputs": [],
   "source": [
    "import matplotlib.pyplot as plt\n",
    "import seaborn as sns\n",
    "sns.set_context(\"talk\")\n",
    "\n",
    "weights = [-40, 45, 90]\n",
    "intercepts = [15000, -5000, -14000]\n",
    "\n",
    "_, ax = plt.subplots()\n",
    "sns.scatterplot(data=data, x=feature_name, y=target_name, ax=ax)\n",
    "\n",
    "for weight, intercept in zip(weights, intercepts):\n",
    "    predicted_body_mass = linear_model_flipper_mass(\n",
    "        flipper_length_range, weight, intercept)\n",
    "\n",
    "    label = \"{0:.2f} (g / mm) * flipper length + {1:.2f} (g)\"\n",
    "    ax.plot(flipper_length_range, predicted_body_mass,\n",
    "            label=label.format(weight, intercept),\n",
    "            linewidth=4)\n",
    "_ = ax.legend(loc='center left', bbox_to_anchor=(-0.25, 1.25), ncol=1)"
   ]
  },
  {
   "cell_type": "markdown",
   "metadata": {
    "lines_to_next_cell": 2
   },
   "source": [
    "In the previous question, you were asked to create several linear models.\n",
    "The visualization allowed you to qualitatively assess if a model was better\n",
    "than another.\n",
    "\n",
    "Now, you should come up with a quantitative measure which will indicate the\n",
    "goodness of fit of each linear model. This quantitative metric should result\n",
    "in a single scalar and allow you to pick up the best model."
   ]
  },
  {
   "cell_type": "code",
   "execution_count": null,
   "metadata": {},
   "outputs": [],
   "source": [
    "def goodness_fit_measure(true_values, predictions):\n",
    "    # we compute the error between the true values and the predictions of our\n",
    "    # model\n",
    "    errors = np.ravel(true_values) - np.ravel(predictions)\n",
    "    # We have several possible strategy to reduce all errors to a single value.\n",
    "    # Computing the mean error (sum divided by the number of element) looks\n",
    "    # like a good solution. However, we have negative error and therefore, we\n",
    "    # need to sum only positive numbers. Therefore, we can either square each\n",
    "    # error or take the absolute value: these metrics are known as mean\n",
    "    # squared error (MSE) and mean absolute error (MAE). Let's use the MAE here\n",
    "    # as an example.\n",
    "    return np.mean(np.abs(errors))"
   ]
  },
  {
   "cell_type": "code",
   "execution_count": null,
   "metadata": {},
   "outputs": [],
   "source": [
    "for model_idx, (weight, intercept) in enumerate(zip(weights, intercepts)):\n",
    "    y_pred = linear_model_flipper_mass(X, weight, intercept)\n",
    "    print(f\"Model #{model_idx}:\")\n",
    "    print(f\"{weight:.2f} (g / mm) * flipper length + {intercept:.2f} (g)\")\n",
    "    print(f\"Error: {goodness_fit_measure(y, y_pred):.3f}\\n\")"
   ]
  },
  {
   "cell_type": "code",
   "execution_count": null,
   "metadata": {},
   "outputs": [],
   "source": []
  }
 ],
 "metadata": {
  "jupytext": {
   "cell_metadata_filter": "-all",
   "main_language": "python",
   "notebook_metadata_filter": "-all"
  }
 },
 "nbformat": 4,
 "nbformat_minor": 4
}
