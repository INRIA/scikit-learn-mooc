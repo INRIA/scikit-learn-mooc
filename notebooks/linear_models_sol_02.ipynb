{
 "cells": [
  {
   "cell_type": "markdown",
   "metadata": {},
   "source": [
    "# \ud83d\udcc3 Solution for Exercise M4.02\n",
    "\n",
    "The goal of this exercise is to build an intuition on what will be the\n",
    "parameters' values of a linear model when the link between the data and the\n",
    "target is non-linear.\n",
    "\n",
    "First, we will generate such non-linear data.\n",
    "\n",
    "<div class=\"admonition tip alert alert-warning\">\n",
    "<p class=\"first admonition-title\" style=\"font-weight: bold;\">Tip</p>\n",
    "<p class=\"last\"><tt class=\"docutils literal\">np.random.RandomState</tt> allows to create a random number generator which can\n",
    "be later used to get deterministic results.</p>\n",
    "</div>"
   ]
  },
  {
   "cell_type": "code",
   "execution_count": null,
   "metadata": {},
   "outputs": [],
   "source": [
    "import numpy as np\n",
    "# Set the seed for reproduction\n",
    "rng = np.random.RandomState(0)\n",
    "\n",
    "# Generate data\n",
    "n_sample = 100\n",
    "data_max, data_min = 1.4, -1.4\n",
    "len_data = (data_max - data_min)\n",
    "data = rng.rand(n_sample) * len_data - len_data / 2\n",
    "noise = rng.randn(n_sample) * .3\n",
    "target = data ** 3 - 0.5 * data ** 2 + noise"
   ]
  },
  {
   "cell_type": "markdown",
   "metadata": {},
   "source": [
    "<div class=\"admonition note alert alert-info\">\n",
    "<p class=\"first admonition-title\" style=\"font-weight: bold;\">Note</p>\n",
    "<p class=\"last\">To ease the plotting, we will create a Pandas dataframe containing the data\n",
    "and target</p>\n",
    "</div>"
   ]
  },
  {
   "cell_type": "code",
   "execution_count": null,
   "metadata": {},
   "outputs": [],
   "source": [
    "import pandas as pd\n",
    "full_data = pd.DataFrame({\"data\": data, \"target\": target})"
   ]
  },
  {
   "cell_type": "code",
   "execution_count": null,
   "metadata": {
    "lines_to_next_cell": 1
   },
   "outputs": [],
   "source": [
    "import seaborn as sns\n",
    "\n",
    "_ = sns.scatterplot(data=full_data, x=\"data\", y=\"target\", color=\"black\",\n",
    "                    alpha=0.5)"
   ]
  },
  {
   "cell_type": "markdown",
   "metadata": {},
   "source": [
    "We observe that the link between the data `data` and vector `target` is\n",
    "non-linear. For instance, `data` could represent to be the years of\n",
    "experience (normalized) and `target` the salary (normalized). Therefore, the\n",
    "problem here would be to infer the salary given the years of experience.\n",
    "\n",
    "Using the function `f` defined below, find both the `weight` and the\n",
    "`intercept` that you think will lead to a good linear model. Plot both the\n",
    "data and the predictions of this model."
   ]
  },
  {
   "cell_type": "code",
   "execution_count": null,
   "metadata": {
    "lines_to_next_cell": 1
   },
   "outputs": [],
   "source": [
    "def f(data, weight=0, intercept=0):\n",
    "    target_predict = weight * data + intercept\n",
    "    return target_predict"
   ]
  },
  {
   "cell_type": "code",
   "execution_count": null,
   "metadata": {},
   "outputs": [],
   "source": [
    "# solution\n",
    "predictions = f(data, weight=1.2, intercept=-0.2)"
   ]
  },
  {
   "cell_type": "code",
   "execution_count": null,
   "metadata": {
    "tags": [
     "solution"
    ]
   },
   "outputs": [],
   "source": [
    "ax = sns.scatterplot(data=full_data, x=\"data\", y=\"target\", color=\"black\",\n",
    "                     alpha=0.5)\n",
    "_ = ax.plot(data, predictions)"
   ]
  },
  {
   "cell_type": "markdown",
   "metadata": {},
   "source": [
    "Compute the mean squared error for this model"
   ]
  },
  {
   "cell_type": "code",
   "execution_count": null,
   "metadata": {},
   "outputs": [],
   "source": [
    "# solution\n",
    "from sklearn.metrics import mean_squared_error\n",
    "\n",
    "error = mean_squared_error(target, f(data, weight=1.2, intercept=-0.2))\n",
    "print(f\"The MSE is {error}\")"
   ]
  },
  {
   "cell_type": "markdown",
   "metadata": {},
   "source": [
    "Train a linear regression model on this dataset.\n",
    "\n",
    "<div class=\"admonition warning alert alert-danger\">\n",
    "<p class=\"first admonition-title\" style=\"font-weight: bold;\">Warning</p>\n",
    "<p class=\"last\">In scikit-learn, by convention <tt class=\"docutils literal\">data</tt> (also called <tt class=\"docutils literal\">X</tt> in the scikit-learn\n",
    "documentation) should be a 2D matrix of shape <tt class=\"docutils literal\">(n_samples, n_features)</tt>.\n",
    "If <tt class=\"docutils literal\">data</tt> is a 1D vector, you need to reshape it into a matrix with a\n",
    "single column if the vector represents a feature or a single row if the\n",
    "vector represents a sample.</p>\n",
    "</div>"
   ]
  },
  {
   "cell_type": "code",
   "execution_count": null,
   "metadata": {},
   "outputs": [],
   "source": [
    "from sklearn.linear_model import LinearRegression\n",
    "\n",
    "# solution\n",
    "linear_regression = LinearRegression()\n",
    "data_2d = data.reshape(-1, 1)\n",
    "linear_regression.fit(data_2d, target)"
   ]
  },
  {
   "cell_type": "markdown",
   "metadata": {},
   "source": [
    "Compute predictions from the linear regression model and plot both the data\n",
    "and the predictions."
   ]
  },
  {
   "cell_type": "code",
   "execution_count": null,
   "metadata": {},
   "outputs": [],
   "source": [
    "# solution\n",
    "predictions = linear_regression.predict(data_2d)"
   ]
  },
  {
   "cell_type": "code",
   "execution_count": null,
   "metadata": {
    "tags": [
     "solution"
    ]
   },
   "outputs": [],
   "source": [
    "ax = sns.scatterplot(data=full_data, x=\"data\", y=\"target\", color=\"black\",\n",
    "                     alpha=0.5)\n",
    "_ = ax.plot(data, predictions)"
   ]
  },
  {
   "cell_type": "markdown",
   "metadata": {},
   "source": [
    "Compute the mean squared error"
   ]
  },
  {
   "cell_type": "code",
   "execution_count": null,
   "metadata": {},
   "outputs": [],
   "source": [
    "# solution\n",
    "error = mean_squared_error(target, predictions)\n",
    "print(f\"The MSE is {error}\")"
   ]
  }
 ],
 "metadata": {
  "jupytext": {
   "cell_metadata_filter": "tags,-all",
   "encoding": "# coding: utf-8",
   "main_language": "python",
   "notebook_metadata_filter": "-all"
  }
 },
 "nbformat": 4,
 "nbformat_minor": 5
}