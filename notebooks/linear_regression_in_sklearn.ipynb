{
 "cells": [
  {
   "cell_type": "markdown",
   "metadata": {},
   "source": [
    "# Linear regression using scikit-learn\n",
    "\n",
    "In the previous notebook, we presented the parametrization of a linear model.\n",
    "During the exercise, you saw that varying parameters will give different\n",
    "that will fit better or worse the data. To evaluate quantitatively this\n",
    "goodness of fit, you implemented a so-called metric.\n",
    "\n",
    "When doing machine-learning, you are interested to select the model which\n",
    "will minimize the error on the data available. From the previous exercise,\n",
    "we could implement a brute-force approach, varying the weights and intercept\n",
    "and select the model with the lowest error.\n",
    "\n",
    "Hopefully, this problem of finding the best parameters values (i.e. that\n",
    "result in the lowest error) can be solved without the need to check every\n",
    "potential parameter combination. Indeed, this problem has a closed-form\n",
    "solution: the best parameter values can be found by solving an equation. This\n",
    "avoids the need for brute-force search. This strategy is implemented in\n",
    "scikit-learn."
   ]
  },
  {
   "cell_type": "code",
   "execution_count": null,
   "metadata": {
    "lines_to_next_cell": 2
   },
   "outputs": [],
   "source": [
    "import pandas as pd\n",
    "\n",
    "data = pd.read_csv(\"../datasets/penguins_regression.csv\")\n",
    "feature_names = \"Flipper Length (mm)\"\n",
    "target_name = \"Body Mass (g)\"\n",
    "X, y = data[[feature_names]], data[target_name]"
   ]
  },
  {
   "cell_type": "code",
   "execution_count": null,
   "metadata": {},
   "outputs": [],
   "source": [
    "from sklearn.linear_model import LinearRegression\n",
    "\n",
    "linear_regression = LinearRegression()\n",
    "linear_regression.fit(X, y)"
   ]
  },
  {
   "cell_type": "markdown",
   "metadata": {},
   "source": [
    "The instance `linear_regression` will store the parameter values in the\n",
    "attributes `coef_` and `intercept_`. We can check what the optimal model\n",
    "found is:"
   ]
  },
  {
   "cell_type": "code",
   "execution_count": null,
   "metadata": {},
   "outputs": [],
   "source": [
    "weight_flipper_length = linear_regression.coef_[0]\n",
    "weight_flipper_length"
   ]
  },
  {
   "cell_type": "code",
   "execution_count": null,
   "metadata": {},
   "outputs": [],
   "source": [
    "intercept_body_mass = linear_regression.intercept_\n",
    "intercept_body_mass"
   ]
  },
  {
   "cell_type": "markdown",
   "metadata": {},
   "source": [
    "We will use the weight and intercept to plot the model found using the\n",
    "scikit-learn."
   ]
  },
  {
   "cell_type": "code",
   "execution_count": null,
   "metadata": {},
   "outputs": [],
   "source": [
    "import numpy as np\n",
    "import matplotlib.pyplot as plt\n",
    "import seaborn as sns\n",
    "sns.set_context(\"talk\")\n",
    "\n",
    "flipper_length_range = np.linspace(X.min(), X.max(), num=300)\n",
    "sns.scatterplot(x=X[feature_names], y=y)\n",
    "plt.plot(flipper_length_range,\n",
    "         weight_flipper_length * flipper_length_range + intercept_body_mass,\n",
    "         linewidth=4)\n",
    "_ = plt.title(\"Model using LinearRegression from scikit-learn\")"
   ]
  },
  {
   "cell_type": "markdown",
   "metadata": {},
   "source": [
    "In the solution of the previous exercise, we implemented a function to\n",
    "compute the error of the model. Instead of using it, we will import the\n",
    "metric directly from scikit-learn."
   ]
  },
  {
   "cell_type": "code",
   "execution_count": null,
   "metadata": {},
   "outputs": [],
   "source": [
    "from sklearn.metrics import mean_squared_error\n",
    "\n",
    "inferred_body_mass = linear_regression.predict(X)\n",
    "model_error = mean_squared_error(y, inferred_body_mass)\n",
    "print(f\"The error of the optimal model is {model_error:.2f}\")"
   ]
  },
  {
   "cell_type": "markdown",
   "metadata": {},
   "source": [
    "<div class=\"admonition important alert alert-info\">\n",
    "<p class=\"first admonition-title\" style=\"font-weight: bold;\">Important</p>\n",
    "<p class=\"last\">Indeed, fitting a <tt class=\"docutils literal\">LinearRegression</tt> on the train dataset is equivalent of\n",
    "finding the <tt class=\"docutils literal\">coef_</tt> and <tt class=\"docutils literal\">intercept_</tt> (i.e. finding the model) that minimize\n",
    "the mean squared error on these training data.</p>\n",
    "</div>"
   ]
  },
  {
   "cell_type": "markdown",
   "metadata": {},
   "source": [
    "In this notebook, you saw how to train a linear regression model using\n",
    "scikit-learn."
   ]
  }
 ],
 "metadata": {
  "jupytext": {
   "cell_metadata_filter": "-all",
   "main_language": "python",
   "notebook_metadata_filter": "-all"
  }
 },
 "nbformat": 4,
 "nbformat_minor": 4
}
