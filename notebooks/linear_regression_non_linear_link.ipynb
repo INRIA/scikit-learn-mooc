{
 "cells": [
  {
   "cell_type": "markdown",
   "id": "romance-coating",
   "metadata": {},
   "source": [
    "# Linear regression with non-linear link between data and target\n",
    "\n",
    "In the previous exercise, you were asked to train a linear regression model\n",
    "on a dataset where the matrix `data` and the vector `target` do not have a\n",
    "linear link.\n",
    "\n",
    "In this notebook, we show that even if the parametrization of linear models\n",
    "is not natively adapated to data with non-linearity, it is still possible\n",
    "to make linear model more flexible and expressive.\n",
    "\n",
    "To illustrate these concepts, we will reuse the same dataset generated in the\n",
    "previous exercise."
   ]
  },
  {
   "cell_type": "code",
   "execution_count": null,
   "id": "large-giving",
   "metadata": {},
   "outputs": [],
   "source": [
    "import numpy as np\n",
    "\n",
    "rng = np.random.RandomState(0)\n",
    "\n",
    "n_sample = 100\n",
    "data_max, data_min = 1.4, -1.4\n",
    "len_data = (data_max - data_min)\n",
    "data = rng.rand(n_sample) * len_data - len_data / 2\n",
    "sorted_idx = np.argsort(data)\n",
    "noise = rng.randn(n_sample) * .3\n",
    "target = data ** 3 - 0.5 * data ** 2 + noise"
   ]
  },
  {
   "cell_type": "markdown",
   "id": "violent-polish",
   "metadata": {},
   "source": [
    "<div class=\"admonition note alert alert-info\">\n",
    "<p class=\"first admonition-title\" style=\"font-weight: bold;\">Note</p>\n",
    "<p class=\"last\">To ease the plotting, we will create a Pandas dataframe containing the data\n",
    "and target</p>\n",
    "</div>"
   ]
  },
  {
   "cell_type": "code",
   "execution_count": null,
   "id": "fresh-affiliate",
   "metadata": {},
   "outputs": [],
   "source": [
    "import pandas as pd\n",
    "full_data = pd.DataFrame({\"data\": data, \"target\": target})"
   ]
  },
  {
   "cell_type": "code",
   "execution_count": null,
   "id": "dynamic-motion",
   "metadata": {
    "lines_to_next_cell": 0
   },
   "outputs": [],
   "source": [
    "import seaborn as sns\n",
    "\n",
    "_ = sns.scatterplot(data=full_data, x=\"data\", y=\"target\")"
   ]
  },
  {
   "cell_type": "markdown",
   "id": "possible-sculpture",
   "metadata": {},
   "source": [
    "We will highlight the limitations of fitting a linear regression model as\n",
    "done in the previous exercise.\n",
    "\n",
    "<div class=\"admonition warning alert alert-danger\">\n",
    "<p class=\"first admonition-title\" style=\"font-weight: bold;\">Warning</p>\n",
    "<p class=\"last\">In scikit-learn, by convention <tt class=\"docutils literal\">data</tt> (also called <tt class=\"docutils literal\">X</tt> in the scikit-learn\n",
    "documentation) should be a 2D matrix of shape <tt class=\"docutils literal\">(n_samples, n_features)</tt>.\n",
    "If <tt class=\"docutils literal\">data</tt> is a 1D vector, you need to reshape it into a matrix with a\n",
    "single column if the vector represents a feature or a single row if the\n",
    "vector represents a sample.</p>\n",
    "</div>"
   ]
  },
  {
   "cell_type": "code",
   "execution_count": null,
   "id": "saving-mauritius",
   "metadata": {
    "lines_to_next_cell": 2
   },
   "outputs": [],
   "source": [
    "from sklearn.linear_model import LinearRegression\n",
    "from sklearn.metrics import mean_squared_error\n",
    "\n",
    "linear_regression = LinearRegression()\n",
    "# X should be 2D for sklearn\n",
    "data = data.reshape((-1, 1))\n",
    "linear_regression.fit(data, target)\n",
    "\n",
    "target_predicted = linear_regression.predict(data)\n",
    "mse = mean_squared_error(target, target_predicted)\n",
    "\n",
    "ax = sns.scatterplot(data=full_data, x=\"data\", y=\"target\")\n",
    "ax.plot(data.ravel(), target_predicted, color=\"tab:orange\")\n",
    "_ = ax.set_title(f\"Mean squared error = {mse:.2f}\")"
   ]
  },
  {
   "cell_type": "markdown",
   "id": "previous-liverpool",
   "metadata": {},
   "source": [
    "Here the coefficients learnt by `LinearRegression` is the best \"straight\n",
    "line\" that fits the data. We can inspect the coefficients using the\n",
    "attributes of the model learnt as follows:"
   ]
  },
  {
   "cell_type": "code",
   "execution_count": null,
   "id": "documented-tumor",
   "metadata": {},
   "outputs": [],
   "source": [
    "print(f\"weight: {linear_regression.coef_[0]:.2f}, \"\n",
    "      f\"intercept: {linear_regression.intercept_:.2f}\")"
   ]
  },
  {
   "cell_type": "markdown",
   "id": "unable-myrtle",
   "metadata": {},
   "source": [
    "It is important to note that the model learnt will not be able to handle the\n",
    "non-linear relationship between `data` and `target` since linear models\n",
    "assume the relationship between `data` and `target` to be linear.\n",
    "\n",
    "Indeed, there are 3 possibilities to solve this issue:\n",
    "\n",
    "1. choose a model that natively can deal with non-linearity,\n",
    "2. \"augment\" features by including expert knowledge which can be used by\n",
    "   the model, or\n",
    "3. use a \"kernel\" to have a locally-based decision function instead of a\n",
    "   global linear decision function.\n",
    "\n",
    "Let's illustrate quickly the first point by using a decision tree regressor\n",
    "which can natively handle non-linearity."
   ]
  },
  {
   "cell_type": "code",
   "execution_count": null,
   "id": "relevant-seeker",
   "metadata": {},
   "outputs": [],
   "source": [
    "from sklearn.tree import DecisionTreeRegressor\n",
    "\n",
    "tree = DecisionTreeRegressor(max_depth=3).fit(data, target)\n",
    "target_predicted = tree.predict(data)\n",
    "mse = mean_squared_error(target, target_predicted)\n",
    "\n",
    "ax = sns.scatterplot(data=full_data, x=\"data\", y=\"target\")\n",
    "ax.plot(data[sorted_idx], target_predicted[sorted_idx],\n",
    "        color=\"tab:orange\")\n",
    "_ = ax.set_title(f\"Mean squared error = {mse:.2f}\")"
   ]
  },
  {
   "cell_type": "markdown",
   "id": "fossil-flashing",
   "metadata": {},
   "source": [
    "Instead of having a model which can natively deal with non-linearity, we\n",
    "could also modify our data: we could create new features, derived from the\n",
    "original features, using some expert knowledge. In this example, we know that\n",
    "we have a cubic and squared relationship between `data` and `target` (because\n",
    "we generated the data). Indeed, we could create two new features (`data ** 2`\n",
    "and `data ** 3`) using this information."
   ]
  },
  {
   "cell_type": "code",
   "execution_count": null,
   "id": "prostate-jersey",
   "metadata": {},
   "outputs": [],
   "source": [
    "data = np.concatenate([data, data ** 2, data ** 3], axis=1)\n",
    "\n",
    "linear_regression.fit(data, target)\n",
    "target_predicted = linear_regression.predict(data)\n",
    "mse = mean_squared_error(target, target_predicted)\n",
    "\n",
    "ax = sns.scatterplot(data=full_data, x=\"data\", y=\"target\")\n",
    "ax.plot(data[sorted_idx, 0], target_predicted[sorted_idx],\n",
    "        color=\"tab:orange\")\n",
    "_ = ax.set_title(f\"Mean squared error = {mse:.2f}\")"
   ]
  },
  {
   "cell_type": "markdown",
   "id": "beginning-softball",
   "metadata": {},
   "source": [
    "We can see that even with a linear model, we can overcome the linearity\n",
    "limitation of the model by adding the non-linear component into the design of\n",
    "additional features. Here, we created new features by knowing the way the\n",
    "target was generated. In practice, this is usually not the case.\n",
    "\n",
    "Instead, one is usually creating interaction between features (e.g. $x_1\n",
    "\\times x_2$) with different orders (e.g. $x_1, x_1^2, x_1^3$), at the risk of\n",
    "creating a model with too much flexibility where the polynomial terms allows\n",
    "to fit noise in the dataset and thus lead overfit. In scikit-learn, the\n",
    "`PolynomialFeatures` is a transformer to create such feature interactions\n",
    "which we could have used instead of manually creating new features.\n",
    "\n",
    "To demonstrate `PolynomialFeatures`, we are going to use a scikit-learn\n",
    "pipeline which will first create the new features and then fit the model.\n",
    "We come back to scikit-learn pipelines and discuss them in more detail later."
   ]
  },
  {
   "cell_type": "code",
   "execution_count": null,
   "id": "applied-wallpaper",
   "metadata": {},
   "outputs": [],
   "source": [
    "from sklearn.pipeline import make_pipeline\n",
    "from sklearn.preprocessing import PolynomialFeatures\n",
    "\n",
    "data = data[:, [0]]\n",
    "\n",
    "model = make_pipeline(PolynomialFeatures(degree=3),\n",
    "                      LinearRegression())\n",
    "model.fit(data, target)\n",
    "target_predicted = model.predict(data)\n",
    "mse = mean_squared_error(target, target_predicted)\n",
    "\n",
    "ax = sns.scatterplot(data=full_data, x=\"data\", y=\"target\")\n",
    "ax.plot(data[sorted_idx], target_predicted[sorted_idx], color=\"tab:orange\")\n",
    "_ = ax.set_title(f\"Mean squared error = {mse:.2f}\")"
   ]
  },
  {
   "cell_type": "markdown",
   "id": "knowing-acceptance",
   "metadata": {},
   "source": [
    "Thus, we saw that `PolynomialFeatures` is actually doing the same\n",
    "operation that we did manually above.\n",
    "\n",
    "The last possibility is to make a linear model more expressive is to use a\n",
    "\"kernel\". Instead of learning a weight per feature as we previously\n",
    "emphasized, a weight will be assign by sample instead. However, not all\n",
    "samples will be used. This is the base of the support vector machine\n",
    "algorithm."
   ]
  },
  {
   "cell_type": "code",
   "execution_count": null,
   "id": "tough-metropolitan",
   "metadata": {},
   "outputs": [],
   "source": [
    "from sklearn.svm import SVR\n",
    "\n",
    "svr = SVR(kernel=\"linear\")\n",
    "svr.fit(data, target)\n",
    "target_predicted = svr.predict(data)\n",
    "mse = mean_squared_error(target, target_predicted)\n",
    "\n",
    "ax = sns.scatterplot(data=full_data, x=\"data\", y=\"target\")\n",
    "ax.plot(data[sorted_idx], target_predicted[sorted_idx], color=\"tab:orange\")\n",
    "_ = ax.set_title(f\"Mean squared error = {mse:.2f}\")"
   ]
  },
  {
   "cell_type": "markdown",
   "id": "governmental-greek",
   "metadata": {},
   "source": [
    "The algorithm can be modified so that it can use non-linear kernel. Then,\n",
    "it will compute interaction between samples using this non-linear\n",
    "interaction."
   ]
  },
  {
   "cell_type": "code",
   "execution_count": null,
   "id": "vocational-settlement",
   "metadata": {},
   "outputs": [],
   "source": [
    "svr = SVR(kernel=\"poly\", degree=3)\n",
    "svr.fit(data, target)\n",
    "target_predicted = svr.predict(data)\n",
    "mse = mean_squared_error(target, target_predicted)\n",
    "\n",
    "ax = sns.scatterplot(data=full_data, x=\"data\", y=\"target\")\n",
    "ax.plot(data[sorted_idx], target_predicted[sorted_idx], color=\"tab:orange\")\n",
    "_ = ax.set_title(f\"Mean squared error = {mse:.2f}\")"
   ]
  },
  {
   "cell_type": "markdown",
   "id": "consolidated-furniture",
   "metadata": {},
   "source": [
    "A method supporting kernel, as SVM, allows to efficiently create a non-linear\n",
    "model."
   ]
  }
 ],
 "metadata": {
  "jupytext": {
   "cell_metadata_filter": "-all",
   "main_language": "python",
   "notebook_metadata_filter": "-all"
  }
 },
 "nbformat": 4,
 "nbformat_minor": 5
}
