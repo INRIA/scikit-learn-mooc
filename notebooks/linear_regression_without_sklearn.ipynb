{
 "cells": [
  {
   "cell_type": "markdown",
   "metadata": {},
   "source": [
    "# Linear regression without scikit-learn\n",
    "\n",
    "In this notebook, we introduce linear regression. Before to present class\n",
    "available in scikit-learn, we present some insights with a simple example.\n",
    "We will use a dataset that contains information about penguins."
   ]
  },
  {
   "cell_type": "code",
   "execution_count": null,
   "metadata": {},
   "outputs": [],
   "source": [
    "import pandas as pd\n",
    "\n",
    "data = pd.read_csv(\"../datasets/penguins_regression.csv\")\n",
    "data.head()"
   ]
  },
  {
   "cell_type": "markdown",
   "metadata": {},
   "source": [
    "This dataset contains measurements taken of penguins. We will formulate the\n",
    "following problem: using the flipper length of a penguin, we would like\n",
    "to infer its mass."
   ]
  },
  {
   "cell_type": "code",
   "execution_count": null,
   "metadata": {},
   "outputs": [],
   "source": [
    "import seaborn as sns\n",
    "sns.set_context(\"talk\")\n",
    "\n",
    "feature_names = \"Flipper Length (mm)\"\n",
    "target_name = \"Body Mass (g)\"\n",
    "X, y = data[[feature_names]], data[target_name]\n",
    "\n",
    "_ = sns.scatterplot(data=data, x=feature_names, y=target_name)"
   ]
  },
  {
   "cell_type": "markdown",
   "metadata": {
    "lines_to_next_cell": 2
   },
   "source": [
    "In this problem, penguin mass is our target. It is a continuous\n",
    "variable that roughly varies between 2700 g and 6300 g. Thus, this is a\n",
    "regression problem (in contrast to classification). We also see that there is\n",
    "almost a linear relationship between the body mass of the penguin and the\n",
    "flipper length. The longer the flipper, the heavier the penguin.\n",
    "\n",
    "Thus, we could come up with a simple formula, where given a flipper length\n",
    "we could compute the body mass of a penguin using a linear relationship\n",
    "of the form `y = a * x + b` where `a` and `b` are the 2 parameters of our\n",
    "model."
   ]
  },
  {
   "cell_type": "code",
   "execution_count": null,
   "metadata": {},
   "outputs": [],
   "source": [
    "def linear_model_flipper_mass(flipper_length, weight_flipper_length,\n",
    "                              intercept_body_mass):\n",
    "    \"\"\"Linear model of the form y = a * x + b\"\"\"\n",
    "    body_mass = weight_flipper_length * flipper_length + intercept_body_mass\n",
    "    return body_mass"
   ]
  },
  {
   "cell_type": "markdown",
   "metadata": {},
   "source": [
    "Using the model we defined above, we can check the body mass values\n",
    "predicted for a range of flipper lengths. We will set `weight_flipper_length`\n",
    "to be 45 and `intercept_body_mass` to be -5000."
   ]
  },
  {
   "cell_type": "code",
   "execution_count": null,
   "metadata": {},
   "outputs": [],
   "source": [
    "import numpy as np\n",
    "\n",
    "weight_flipper_length = 45\n",
    "intercept_body_mass = -5000\n",
    "\n",
    "flipper_length_range = np.linspace(X.min(), X.max(), num=300)\n",
    "predicted_body_mass = linear_model_flipper_mass(\n",
    "    flipper_length_range, weight_flipper_length, intercept_body_mass)"
   ]
  },
  {
   "cell_type": "markdown",
   "metadata": {},
   "source": [
    "We can now plot all samples and the linear model prediction."
   ]
  },
  {
   "cell_type": "code",
   "execution_count": null,
   "metadata": {},
   "outputs": [],
   "source": [
    "label = \"{0:.2f} (g / mm) * flipper length + {1:.2f} (g)\"\n",
    "ax = sns.scatterplot(data=data, x=feature_names, y=target_name)\n",
    "ax.plot(flipper_length_range, predicted_body_mass,\n",
    "        label=label.format(weight_flipper_length, intercept_body_mass),\n",
    "        linewidth=4)\n",
    "_ = ax.legend(loc='center left', bbox_to_anchor=(-0.25, 1.2), ncol=1)"
   ]
  },
  {
   "cell_type": "markdown",
   "metadata": {},
   "source": [
    "The variable `weight_flipper_length` is a weight applied to the feature\n",
    "`flipper_length` in order to make the inference. When this coefficient is\n",
    "positive, it means that penguins with longer flipper lengths will have larger\n",
    "body masses. If the coefficient is negative, it means that penguins with\n",
    "shorter flipper lengths have larger body masses. Graphically, this\n",
    "coefficient is represented by the slope of the curve in the plot. Below we\n",
    "show what the curve would look like when the `weight_flipper_length`\n",
    "coefficient is negative."
   ]
  },
  {
   "cell_type": "code",
   "execution_count": null,
   "metadata": {},
   "outputs": [],
   "source": [
    "weight_flipper_length = -40\n",
    "intercept_body_mass = 13000\n",
    "\n",
    "predicted_body_mass = linear_model_flipper_mass(\n",
    "    flipper_length_range, weight_flipper_length, intercept_body_mass)"
   ]
  },
  {
   "cell_type": "markdown",
   "metadata": {},
   "source": [
    "We can now plot all samples and the linear model prediction."
   ]
  },
  {
   "cell_type": "code",
   "execution_count": null,
   "metadata": {
    "lines_to_next_cell": 2
   },
   "outputs": [],
   "source": [
    "label = \"{0:.2f} (g / mm) * flipper length + {1:.2f} (g)\"\n",
    "ax = sns.scatterplot(data=data, x=feature_names, y=target_name)\n",
    "ax.plot(flipper_length_range, predicted_body_mass,\n",
    "        label=label.format(weight_flipper_length, intercept_body_mass),\n",
    "        linewidth=4)\n",
    "_ = ax.legend(loc='center left', bbox_to_anchor=(-0.25, 1.2), ncol=1)"
   ]
  },
  {
   "cell_type": "markdown",
   "metadata": {},
   "source": [
    "In our case, this coefficient has a meaningful unit: g/mm.\n",
    "For instance, a coefficient of 40 g/mm, means that for each\n",
    "additional millimeter in flipper length, the body weight predicted will\n",
    "increase by 40 g."
   ]
  },
  {
   "cell_type": "code",
   "execution_count": null,
   "metadata": {},
   "outputs": [],
   "source": [
    "body_mass_180 = linear_model_flipper_mass(\n",
    "    flipper_length=180, weight_flipper_length=40, intercept_body_mass=0)\n",
    "body_mass_181 = linear_model_flipper_mass(\n",
    "    flipper_length=181, weight_flipper_length=40, intercept_body_mass=0)\n",
    "\n",
    "print(f\"The body mass for a flipper length of 180 mm \"\n",
    "      f\"is {body_mass_180} g and {body_mass_181} g \"\n",
    "      f\"for a flipper length of 181 mm\")"
   ]
  },
  {
   "cell_type": "markdown",
   "metadata": {},
   "source": [
    "We can also see that we have a parameter `intercept_body_mass` in our model.\n",
    "This parameter corresponds to the value on the y-axis if `flipper_length=0`\n",
    "(which in our case is only a mathematical consideration, as in our data,\n",
    " the value of `flipper_length` only goes from 170mm to 230mm). This y-value\n",
    "when x=0 is called the y-intercept. If `intercept_body_mass` is 0, the curve\n",
    "will pass through the origin:"
   ]
  },
  {
   "cell_type": "code",
   "execution_count": null,
   "metadata": {},
   "outputs": [],
   "source": [
    "weight_flipper_length = 25\n",
    "intercept_body_mass = 0\n",
    "\n",
    "# redefined the flipper length to start at 0 to plot the intercept value\n",
    "flipper_length_range = np.linspace(0, X.max(), num=300)\n",
    "predicted_body_mass = linear_model_flipper_mass(\n",
    "    flipper_length_range, weight_flipper_length, intercept_body_mass)"
   ]
  },
  {
   "cell_type": "code",
   "execution_count": null,
   "metadata": {},
   "outputs": [],
   "source": [
    "label = \"{0:.2f} (g / mm) * flipper length + {1:.2f} (g)\"\n",
    "ax = sns.scatterplot(data=data, x=feature_names, y=target_name)\n",
    "ax.plot(flipper_length_range, predicted_body_mass,\n",
    "        label=label.format(weight_flipper_length, intercept_body_mass),\n",
    "        linewidth=4)\n",
    "_ = ax.legend(loc='center left', bbox_to_anchor=(-0.25, 1.2), ncol=1)"
   ]
  },
  {
   "cell_type": "markdown",
   "metadata": {},
   "source": [
    "Otherwise, it will pass through the `intercept_body_mass` value:"
   ]
  },
  {
   "cell_type": "code",
   "execution_count": null,
   "metadata": {},
   "outputs": [],
   "source": [
    "weight_flipper_length = 45\n",
    "intercept_body_mass = -5000\n",
    "\n",
    "predicted_body_mass = linear_model_flipper_mass(\n",
    "    flipper_length_range, weight_flipper_length, intercept_body_mass)"
   ]
  },
  {
   "cell_type": "code",
   "execution_count": null,
   "metadata": {},
   "outputs": [],
   "source": [
    "label = \"{0:.2f} (g / mm) * flipper length + {1:.2f} (g)\"\n",
    "ax = sns.scatterplot(data=data, x=feature_names, y=target_name)\n",
    "ax.plot(flipper_length_range, predicted_body_mass,\n",
    "        label=label.format(weight_flipper_length, intercept_body_mass),\n",
    "        linewidth=4)\n",
    "_ = ax.legend(loc='center left', bbox_to_anchor=(-0.25, 1.2), ncol=1)"
   ]
  },
  {
   "cell_type": "markdown",
   "metadata": {},
   "source": [
    " In this notebook, we have seen the parametrization of a linear regression\n",
    " model and more precisely meaning of the terms weights and intercepts."
   ]
  }
 ],
 "metadata": {
  "jupytext": {
   "cell_metadata_filter": "-all",
   "main_language": "python",
   "notebook_metadata_filter": "-all"
  }
 },
 "nbformat": 4,
 "nbformat_minor": 4
}
