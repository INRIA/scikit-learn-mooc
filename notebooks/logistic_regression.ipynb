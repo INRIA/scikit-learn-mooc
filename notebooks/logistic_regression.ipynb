{
 "cells": [
  {
   "cell_type": "markdown",
   "id": "matched-prediction",
   "metadata": {},
   "source": [
    "# Linear model for classification\n",
    "In regression, we saw that the target to be predicted was a continuous\n",
    "variable. In classification, this target will be discrete (e.g. categorical).\n",
    "\n",
    "We will go back to our penguin dataset. However, this time we will try to\n",
    "predict the penguin species using the culmen information. We will also\n",
    "simplify our classification problem by selecting only 2 of the penguin\n",
    "species to solve a binary classification problem."
   ]
  },
  {
   "cell_type": "code",
   "execution_count": null,
   "id": "confirmed-traffic",
   "metadata": {},
   "outputs": [],
   "source": [
    "import pandas as pd\n",
    "\n",
    "penguins = pd.read_csv(\"../datasets/penguins_classification.csv\")\n",
    "\n",
    "# only keep the Adelie and Chinstrap classes\n",
    "penguins = penguins.set_index(\"Species\").loc[\n",
    "    [\"Adelie\", \"Chinstrap\"]].reset_index()\n",
    "culmen_columns = [\"Culmen Length (mm)\", \"Culmen Depth (mm)\"]\n",
    "target_column = \"Species\""
   ]
  },
  {
   "cell_type": "markdown",
   "id": "indoor-spirituality",
   "metadata": {},
   "source": [
    "We can quickly start by visualizing the feature distribution by class:"
   ]
  },
  {
   "cell_type": "code",
   "execution_count": null,
   "id": "hidden-runner",
   "metadata": {},
   "outputs": [],
   "source": [
    "import seaborn as sns\n",
    "\n",
    "_ = sns.pairplot(data=penguins, hue=\"Species\", height=3.3)"
   ]
  },
  {
   "cell_type": "markdown",
   "id": "three-machinery",
   "metadata": {},
   "source": [
    "We can observe that we have quite a simple problem. When the culmen\n",
    "length increases, the probability that the penguin is a Chinstrap is closer\n",
    "to 1. However, the culmen depth is not helpful for predicting the penguin\n",
    "species.\n",
    "\n",
    "For model fitting, we will separate the target from the data and\n",
    "we will create a training and a testing set."
   ]
  },
  {
   "cell_type": "code",
   "execution_count": null,
   "id": "round-bunch",
   "metadata": {},
   "outputs": [],
   "source": [
    "from sklearn.model_selection import train_test_split\n",
    "\n",
    "data, target = penguins[culmen_columns], penguins[target_column]\n",
    "data_train, data_test, target_train, target_test = train_test_split(\n",
    "    data, target, stratify=target, random_state=0,\n",
    ")\n",
    "range_features = {\n",
    "    feature_name: (data[feature_name].min() - 1, data[feature_name].max() + 1)\n",
    "    for feature_name in data\n",
    "}"
   ]
  },
  {
   "cell_type": "markdown",
   "id": "seeing-string",
   "metadata": {},
   "source": [
    "To visualize the separation found by our classifier, we will define an helper\n",
    "function `plot_decision_function`. In short, this function will plot the edge\n",
    "of the decision function, where the probability to be an Adelie or Chinstrap\n",
    "will be equal (p=0.5)."
   ]
  },
  {
   "cell_type": "code",
   "execution_count": null,
   "id": "cubic-individual",
   "metadata": {},
   "outputs": [],
   "source": [
    "import numpy as np\n",
    "import matplotlib.pyplot as plt\n",
    "\n",
    "\n",
    "def plot_decision_function(fitted_classifier, range_features, ax=None):\n",
    "    \"\"\"Plot the boundary of the decision function of a classifier.\"\"\"\n",
    "    from sklearn.preprocessing import LabelEncoder\n",
    "\n",
    "    feature_names = list(range_features.keys())\n",
    "    # create a grid to evaluate all possible samples\n",
    "    plot_step = 0.02\n",
    "    xx, yy = np.meshgrid(\n",
    "        np.arange(*range_features[feature_names[0]], plot_step),\n",
    "        np.arange(*range_features[feature_names[1]], plot_step),\n",
    "    )\n",
    "\n",
    "    # compute the associated prediction\n",
    "    Z = fitted_classifier.predict(np.c_[xx.ravel(), yy.ravel()])\n",
    "    Z = LabelEncoder().fit_transform(Z)\n",
    "    Z = Z.reshape(xx.shape)\n",
    "\n",
    "    # make the plot of the boundary and the data samples\n",
    "    if ax is None:\n",
    "        _, ax = plt.subplots()\n",
    "    ax.contourf(xx, yy, Z, alpha=0.4, cmap=\"RdBu\")\n",
    "\n",
    "    return ax"
   ]
  },
  {
   "cell_type": "markdown",
   "id": "celtic-container",
   "metadata": {},
   "source": [
    "The linear regression that we previously saw will predict a continuous\n",
    "output. When the target is a binary outcome, one can use the logistic\n",
    "function to model the probability. This model is known as logistic\n",
    "regression.\n",
    "\n",
    "Scikit-learn provides the class `LogisticRegression` which implements this\n",
    "algorithm."
   ]
  },
  {
   "cell_type": "code",
   "execution_count": null,
   "id": "stainless-peoples",
   "metadata": {},
   "outputs": [],
   "source": [
    "from sklearn.pipeline import make_pipeline\n",
    "from sklearn.preprocessing import StandardScaler\n",
    "from sklearn.linear_model import LogisticRegression\n",
    "\n",
    "logistic_regression = make_pipeline(\n",
    "    StandardScaler(), LogisticRegression(penalty=\"none\")\n",
    ")\n",
    "logistic_regression.fit(data_train, target_train)\n",
    "\n",
    "ax = plot_decision_function(logistic_regression, range_features)\n",
    "_ = sns.scatterplot(\n",
    "    x=data_test.iloc[:, 0], y=data_test.iloc[:, 1], hue=target_test,\n",
    "    palette=[\"tab:red\", \"tab:blue\"], ax=ax)"
   ]
  },
  {
   "cell_type": "markdown",
   "id": "oriental-values",
   "metadata": {},
   "source": [
    "Thus, we see that our decision function is represented by a line separating\n",
    "the 2 classes. We should also note that we did not impose any regularization\n",
    "by setting the parameter `penalty` to `'none'`.\n",
    "\n",
    "Since the line is oblique, it means that we used a combination of both\n",
    "features:"
   ]
  },
  {
   "cell_type": "code",
   "execution_count": null,
   "id": "blind-mediterranean",
   "metadata": {},
   "outputs": [],
   "source": [
    "weights = pd.Series(logistic_regression[-1].coef_.ravel(), index=data.columns)\n",
    "_ = weights.plot(kind=\"barh\")"
   ]
  },
  {
   "cell_type": "markdown",
   "id": "sudden-pearl",
   "metadata": {},
   "source": [
    "Indeed, both coefficients are non-null."
   ]
  }
 ],
 "metadata": {
  "jupytext": {
   "cell_metadata_filter": "-all",
   "main_language": "python",
   "notebook_metadata_filter": "-all"
  }
 },
 "nbformat": 4,
 "nbformat_minor": 5
}
