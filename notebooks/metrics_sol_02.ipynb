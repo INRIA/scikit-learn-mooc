{
 "cells": [
  {
   "cell_type": "markdown",
   "metadata": {},
   "source": [
    "# 📃 Solution for Exercise 02\n",
    "\n",
    "As for the exercise for the classification metrics, in this notebook we\n",
    "intend to use the regression metrics within a cross-validation framework\n",
    "to get familiar with the syntax.\n",
    "\n",
    "We will use the Ames house prices dataset."
   ]
  },
  {
   "cell_type": "code",
   "execution_count": null,
   "metadata": {},
   "outputs": [],
   "source": [
    "import pandas as pd\n",
    "import numpy as np\n",
    "\n",
    "data = pd.read_csv(\"../datasets/house_prices.csv\")\n",
    "X, y = data.drop(columns=\"SalePrice\"), data[\"SalePrice\"]\n",
    "X = X.select_dtypes(np.number)\n",
    "y /= 1000"
   ]
  },
  {
   "cell_type": "markdown",
   "metadata": {},
   "source": [
    "The first step will be to create a linear regression model."
   ]
  },
  {
   "cell_type": "code",
   "execution_count": null,
   "metadata": {},
   "outputs": [],
   "source": [
    "from sklearn.linear_model import LinearRegression\n",
    "\n",
    "model = LinearRegression()"
   ]
  },
  {
   "cell_type": "markdown",
   "metadata": {},
   "source": [
    "Then, use the `cross_val_score` to estimate the performance of the model.\n",
    "Use a `KFold` cross-validation with 10 folds. Make it explicit to use the\n",
    "$R^2$ score by assigning the paramater `scoring` even if it is the default\n",
    "score."
   ]
  },
  {
   "cell_type": "code",
   "execution_count": null,
   "metadata": {},
   "outputs": [],
   "source": [
    "from sklearn.model_selection import cross_val_score\n",
    "\n",
    "scores = cross_val_score(model, X, y, cv=10, scoring=\"r2\")\n",
    "print(f\"R2 score: {scores.mean():.3f} +/- {scores.std():.3f}\")"
   ]
  },
  {
   "cell_type": "markdown",
   "metadata": {},
   "source": [
    "Then, instead of using the $R^2$ score, use the mean absolute error. You need\n",
    "to check the documentation for the `scoring` parameter."
   ]
  },
  {
   "cell_type": "code",
   "execution_count": null,
   "metadata": {},
   "outputs": [],
   "source": [
    "scores = cross_val_score(model, X, y, cv=10, scoring=\"neg_mean_absolute_error\")\n",
    "errors = -scores\n",
    "print(f\"Mean absolute error: \"\n",
    "      f\"{errors.mean():.3f} k$ +/- {errors.std():.3f}\")"
   ]
  },
  {
   "cell_type": "markdown",
   "metadata": {},
   "source": [
    "The `scoring` parameter in scikit-learn expects score. It means that higher\n",
    "values means a better model. However, errors are the opposite: the smaller,\n",
    "the better. Therefore, the error should be multiply by -1. That's why, the\n",
    "string given the `scoring` starts with `neg_` when dealing with metrics which\n",
    "are errors.\n",
    "\n",
    "Finally, use the `cross_validate` function and compute multiple score/error\n",
    "at once by passing a list to the `scoring` parameter. You can compute the\n",
    "$R^2$ score and the mean absolute error."
   ]
  },
  {
   "cell_type": "code",
   "execution_count": null,
   "metadata": {},
   "outputs": [],
   "source": [
    "from sklearn.model_selection import cross_validate\n",
    "\n",
    "scoring = [\"r2\", \"neg_mean_absolute_error\"]\n",
    "cv_results = cross_validate(model, X, y, scoring=scoring)"
   ]
  },
  {
   "cell_type": "code",
   "execution_count": null,
   "metadata": {},
   "outputs": [],
   "source": [
    "import pandas as pd\n",
    "\n",
    "scores = {\"R2\": cv_results[\"test_r2\"],\n",
    "          \"MSE\": -cv_results[\"test_neg_mean_absolute_error\"]}\n",
    "scores = pd.DataFrame(scores)\n",
    "scores"
   ]
  }
 ],
 "metadata": {
  "jupytext": {
   "cell_metadata_filter": "-all",
   "main_language": "python",
   "notebook_metadata_filter": "-all"
  }
 },
 "nbformat": 4,
 "nbformat_minor": 4
}
