{
 "cells": [
  {
   "cell_type": "markdown",
   "id": "returning-injection",
   "metadata": {},
   "source": [
    "# Importance of decision tree hyperparameters on generalization\n",
    "\n",
    "In this notebook, we will illustrate the importance of some key\n",
    "hyperparameters on the decision tree; we will demonstrate their effects on\n",
    "the classification and regression problems we saw previously.\n",
    "\n",
    "First, we will load the classification and regression datasets."
   ]
  },
  {
   "cell_type": "code",
   "execution_count": null,
   "id": "decreased-north",
   "metadata": {},
   "outputs": [],
   "source": [
    "import pandas as pd\n",
    "\n",
    "data_clf_columns = [\"Culmen Length (mm)\", \"Culmen Depth (mm)\"]\n",
    "target_clf_column = \"Species\"\n",
    "data_clf = pd.read_csv(\"../datasets/penguins_classification.csv\")"
   ]
  },
  {
   "cell_type": "code",
   "execution_count": null,
   "id": "absent-slovakia",
   "metadata": {},
   "outputs": [],
   "source": [
    "data_reg_columns = [\"Flipper Length (mm)\"]\n",
    "target_reg_column = \"Body Mass (g)\"\n",
    "data_reg = pd.read_csv(\"../datasets/penguins_regression.csv\")"
   ]
  },
  {
   "cell_type": "markdown",
   "id": "exclusive-teddy",
   "metadata": {},
   "source": [
    "## Create helper functions\n",
    "\n",
    "We will create two functions that will:\n",
    "\n",
    "* fit a decision tree on some training data;\n",
    "* show the decision function of the model."
   ]
  },
  {
   "cell_type": "code",
   "execution_count": null,
   "id": "external-atmosphere",
   "metadata": {},
   "outputs": [],
   "source": [
    "import numpy as np\n",
    "import matplotlib.pyplot as plt\n",
    "import seaborn as sns\n",
    "\n",
    "\n",
    "def plot_classification(model, X, y, ax=None):\n",
    "    from sklearn.preprocessing import LabelEncoder\n",
    "    model.fit(X, y)\n",
    "\n",
    "    range_features = {\n",
    "        feature_name: (X[feature_name].min() - 1, X[feature_name].max() + 1)\n",
    "        for feature_name in X.columns\n",
    "    }\n",
    "    feature_names = list(range_features.keys())\n",
    "    # create a grid to evaluate all possible samples\n",
    "    plot_step = 0.02\n",
    "    xx, yy = np.meshgrid(\n",
    "        np.arange(*range_features[feature_names[0]], plot_step),\n",
    "        np.arange(*range_features[feature_names[1]], plot_step),\n",
    "    )\n",
    "\n",
    "    # compute the associated prediction\n",
    "    Z = model.predict(np.c_[xx.ravel(), yy.ravel()])\n",
    "    Z = LabelEncoder().fit_transform(Z)\n",
    "    Z = Z.reshape(xx.shape)\n",
    "\n",
    "    # make the plot of the boundary and the data samples\n",
    "    if ax is None:\n",
    "        _, ax = plt.subplots()\n",
    "    ax.contourf(xx, yy, Z, alpha=0.4, cmap=\"RdBu\")\n",
    "    if y.nunique() == 3:\n",
    "        palette = [\"tab:red\", \"tab:blue\", \"black\"]\n",
    "    else:\n",
    "        palette = [\"tab:red\", \"tab:blue\"]\n",
    "    sns.scatterplot(\n",
    "        x=data_clf_columns[0], y=data_clf_columns[1], hue=target_clf_column,\n",
    "        data=data_clf, ax=ax, palette=palette)\n",
    "\n",
    "    return ax"
   ]
  },
  {
   "cell_type": "code",
   "execution_count": null,
   "id": "liked-lesson",
   "metadata": {},
   "outputs": [],
   "source": [
    "def plot_regression(model, X, y, ax=None):\n",
    "    model.fit(X, y)\n",
    "\n",
    "    X_test = pd.DataFrame(\n",
    "        np.arange(X.iloc[:, 0].min(), X.iloc[:, 0].max()),\n",
    "        columns=X.columns,\n",
    "    )\n",
    "    y_pred = model.predict(X_test)\n",
    "\n",
    "    if ax is None:\n",
    "        _, ax = plt.subplots()\n",
    "    sns.scatterplot(x=X.iloc[:, 0], y=y, color=\"black\", alpha=0.5, ax=ax)\n",
    "    ax.plot(X_test, y_pred, linewidth=4)\n",
    "\n",
    "    return ax"
   ]
  },
  {
   "cell_type": "markdown",
   "id": "floral-peace",
   "metadata": {},
   "source": [
    "## Effect of the `max_depth` parameter\n",
    "\n",
    "The hyperparameter `max_depth` controls the overall complexity of a decision\n",
    "tree. This hyperparameter allows to get a trade-off between an under-fitted\n",
    "and over-fitted decision tree. Let's build a shallow tree and then a deeper\n",
    "tree, for both classification and regression, to understand the impact of the\n",
    "parameter."
   ]
  },
  {
   "cell_type": "code",
   "execution_count": null,
   "id": "thick-metadata",
   "metadata": {
    "lines_to_next_cell": 2
   },
   "outputs": [],
   "source": [
    "from sklearn.tree import DecisionTreeClassifier, DecisionTreeRegressor\n",
    "\n",
    "max_depth = 2\n",
    "tree_clf = DecisionTreeClassifier(max_depth=max_depth)\n",
    "tree_reg = DecisionTreeRegressor(max_depth=max_depth)\n",
    "\n",
    "fig, axs = plt.subplots(ncols=2, figsize=(12, 5))\n",
    "plot_classification(tree_clf, data_clf[data_clf_columns],\n",
    "                    data_clf[target_clf_column], ax=axs[0])\n",
    "plot_regression(tree_reg, data_reg[data_reg_columns],\n",
    "                data_reg[target_reg_column], ax=axs[1])\n",
    "fig.suptitle(f\"Shallow tree with a max-depth of {max_depth}\")\n",
    "plt.subplots_adjust(wspace=0.3)"
   ]
  },
  {
   "cell_type": "code",
   "execution_count": null,
   "id": "backed-studio",
   "metadata": {},
   "outputs": [],
   "source": [
    "max_depth = 30\n",
    "tree_clf = DecisionTreeClassifier(max_depth=max_depth)\n",
    "tree_reg = DecisionTreeRegressor(max_depth=max_depth)\n",
    "\n",
    "fig, axs = plt.subplots(ncols=2, figsize=(12, 5))\n",
    "plot_classification(tree_clf, data_clf[data_clf_columns],\n",
    "                    data_clf[target_clf_column], ax=axs[0])\n",
    "plot_regression(tree_reg, data_reg[data_reg_columns],\n",
    "                data_reg[target_reg_column], ax=axs[1])\n",
    "fig.suptitle(f\"Deep tree with a max-depth of {max_depth}\")\n",
    "plt.subplots_adjust(wspace=0.3)"
   ]
  },
  {
   "cell_type": "markdown",
   "id": "disabled-fence",
   "metadata": {},
   "source": [
    "For both classification and regression setting, we observe that\n",
    "increasing the depth will make the tree model more expressive. However, a\n",
    "tree that is too deep will overfit the training data, creating partitions\n",
    "which are only correct for \"outliers\" (noisy samples). The `max_depth` is one\n",
    "of the hyperparameters that one should optimize via cross-validation and\n",
    "grid-search."
   ]
  },
  {
   "cell_type": "code",
   "execution_count": null,
   "id": "pending-covering",
   "metadata": {},
   "outputs": [],
   "source": [
    "from sklearn.model_selection import GridSearchCV\n",
    "\n",
    "param_grid = {\"max_depth\": np.arange(2, 10, 1)}\n",
    "tree_clf = GridSearchCV(DecisionTreeClassifier(), param_grid=param_grid)\n",
    "tree_reg = GridSearchCV(DecisionTreeRegressor(), param_grid=param_grid)"
   ]
  },
  {
   "cell_type": "code",
   "execution_count": null,
   "id": "liberal-hindu",
   "metadata": {},
   "outputs": [],
   "source": [
    "fig, axs = plt.subplots(ncols=2, figsize=(12, 5))\n",
    "plot_classification(tree_clf, data_clf[data_clf_columns],\n",
    "                    data_clf[target_clf_column], ax=axs[0])\n",
    "plot_regression(tree_reg, data_reg[data_reg_columns],\n",
    "                data_reg[target_reg_column], ax=axs[1])\n",
    "axs[0].set_title(f\"Optimal depth found via CV: \"\n",
    "                 f\"{tree_clf.best_params_['max_depth']}\")\n",
    "axs[1].set_title(f\"Optimal depth found via CV: \"\n",
    "                 f\"{tree_reg.best_params_['max_depth']}\")\n",
    "plt.subplots_adjust(wspace=0.3)"
   ]
  },
  {
   "cell_type": "markdown",
   "id": "organized-therapist",
   "metadata": {},
   "source": [
    "With this example, we see that there is not a single value that is optimal\n",
    "for any dataset. Thus, this parameter is required to be optimized for each\n",
    "application.\n",
    "\n",
    "## Other hyperparameters in decision trees\n",
    "\n",
    "The `max_depth` hyperparameter controls the overall complexity of the tree.\n",
    "This parameter is adequate under the assumption that a tree is built is\n",
    "symmetric. However, there is not guarantee that a tree will be symmetric.\n",
    "Indeed, optimal statistical performance could be reached by growing some of\n",
    "the branches deeper than some others.\n",
    "\n",
    "We will built a dataset where we will illustrate this asymmetry. We will\n",
    "generate a dataset composed of 2 subsets: one subset where a clear separation\n",
    "should be found by the tree and another subset where samples from both\n",
    "classes will be mixed. It implies that a decision tree will need more splits\n",
    "to classify properly samples from the second subset than from the first\n",
    "subset."
   ]
  },
  {
   "cell_type": "code",
   "execution_count": null,
   "id": "ignored-tuition",
   "metadata": {},
   "outputs": [],
   "source": [
    "from sklearn.datasets import make_classification, make_blobs\n",
    "\n",
    "data_clf_columns = [\"Feature #0\", \"Feature #1\"]\n",
    "target_clf_column = \"Class\"\n",
    "\n",
    "# X_1, y_1 = make_classification(\n",
    "#     n_samples=300, n_features=2, n_classes=2, n_clusters_per_class=1,\n",
    "#     n_informative=2, n_redundant=0, class_sep=0.2, random_state=0)\n",
    "X_1, y_1 = make_blobs(\n",
    "    n_samples=300, centers=[[0, 0], [-1, -1]], random_state=0)\n",
    "X_2, y_2 = make_blobs(\n",
    "    n_samples=300, centers=[[3, 6], [7, 0]], random_state=0)\n",
    "\n",
    "X = np.concatenate([X_1, X_2], axis=0)\n",
    "y = np.concatenate([y_1, y_2])\n",
    "data_clf = np.concatenate([X, y[:, np.newaxis]], axis=1)\n",
    "data_clf = pd.DataFrame(\n",
    "    data_clf, columns=data_clf_columns + [target_clf_column])\n",
    "data_clf[target_clf_column] = data_clf[target_clf_column].astype(np.int32)"
   ]
  },
  {
   "cell_type": "code",
   "execution_count": null,
   "id": "minor-dragon",
   "metadata": {},
   "outputs": [],
   "source": [
    "_ = sns.scatterplot(\n",
    "    x=data_clf_columns[0], y=data_clf_columns[1], hue=target_clf_column,\n",
    "    data=data_clf, palette=[\"tab:red\", \"tab:blue\"])"
   ]
  },
  {
   "cell_type": "markdown",
   "id": "handed-martin",
   "metadata": {},
   "source": [
    "We will first train a shallow decision tree with `max_depth=2`. We would\n",
    "expect this depth to be enough to separate the blobs that are easy to\n",
    "separate."
   ]
  },
  {
   "cell_type": "code",
   "execution_count": null,
   "id": "endless-milwaukee",
   "metadata": {},
   "outputs": [],
   "source": [
    "_, ax = plt.subplots()\n",
    "tree_clf = DecisionTreeClassifier(max_depth=2)\n",
    "_ = plot_classification(tree_clf, data_clf[data_clf_columns],\n",
    "                        data_clf[target_clf_column], ax=ax)"
   ]
  },
  {
   "cell_type": "markdown",
   "id": "satisfactory-rotation",
   "metadata": {},
   "source": [
    "As expected, we see that the blue blob on the right and the red blob on the\n",
    "top are easily separated. However, more splits will be required to better\n",
    "\n",
    "Indeed, we see that red blob on the top and the blue blob on the right of\n",
    "the plot are perfectly separated. However, the tree is still making mistakes\n",
    "in the area where the blobs are mixed together. Let's check the tree\n",
    "representation."
   ]
  },
  {
   "cell_type": "code",
   "execution_count": null,
   "id": "sacred-accountability",
   "metadata": {},
   "outputs": [],
   "source": [
    "from sklearn.tree import plot_tree\n",
    "\n",
    "_, ax = plt.subplots(figsize=(10, 10))\n",
    "_ = plot_tree(tree_clf, ax=ax, feature_names=data_clf_columns)"
   ]
  },
  {
   "cell_type": "markdown",
   "id": "living-happiness",
   "metadata": {},
   "source": [
    "We see that the right branch achieves perfect classification. Now, we\n",
    "increase the depth to check how the tree will grow."
   ]
  },
  {
   "cell_type": "code",
   "execution_count": null,
   "id": "ancient-lesson",
   "metadata": {},
   "outputs": [],
   "source": [
    "_, ax = plt.subplots()\n",
    "tree_clf = DecisionTreeClassifier(max_depth=6)\n",
    "_ = plot_classification(tree_clf, data_clf[data_clf_columns],\n",
    "                        data_clf[target_clf_column], ax=ax)"
   ]
  },
  {
   "cell_type": "code",
   "execution_count": null,
   "id": "excess-extent",
   "metadata": {},
   "outputs": [],
   "source": [
    "_, ax = plt.subplots(figsize=(11, 7))\n",
    "_ = plot_tree(tree_clf, ax=ax, feature_names=data_clf_columns)"
   ]
  },
  {
   "cell_type": "markdown",
   "id": "excessive-certification",
   "metadata": {},
   "source": [
    "As expected, the left branch of the tree continue to grow while no further\n",
    "splits were done on the right branch. Fixing the `max_depth` parameter would\n",
    "cut the tree horizontally at a specific level, whether or not it would\n",
    "be more beneficial that a branch continue growing.\n",
    "\n",
    "The hyperparameters `min_samples_leaf`, `min_samples_split`,\n",
    "`max_leaf_nodes`, or `min_impurity_decrease` allows growing asymmetric trees\n",
    "and apply a constraint at the leaves or nodes level. We will check the effect\n",
    "of `min_samples_leaf`."
   ]
  },
  {
   "cell_type": "code",
   "execution_count": null,
   "id": "located-capture",
   "metadata": {},
   "outputs": [],
   "source": [
    "_, ax = plt.subplots()\n",
    "tree_clf = DecisionTreeClassifier(min_samples_leaf=60)\n",
    "_ = plot_classification(tree_clf, data_clf[data_clf_columns],\n",
    "                        data_clf[target_clf_column], ax=ax)"
   ]
  },
  {
   "cell_type": "code",
   "execution_count": null,
   "id": "blank-upper",
   "metadata": {},
   "outputs": [],
   "source": [
    "_, ax = plt.subplots(figsize=(10, 7))\n",
    "_ = plot_tree(tree_clf, ax=ax, feature_names=data_clf_columns)"
   ]
  },
  {
   "cell_type": "markdown",
   "id": "charitable-decline",
   "metadata": {},
   "source": [
    "This hyperparameter allows to have leaves with a minimum number of samples\n",
    "and no further splits will be search otherwise. Therefore, these\n",
    "hyperparameters could be an alternative to fix the `max_depth`\n",
    "hyperparameter."
   ]
  }
 ],
 "metadata": {
  "jupytext": {
   "cell_metadata_filter": "-all",
   "main_language": "python",
   "notebook_metadata_filter": "-all"
  }
 },
 "nbformat": 4,
 "nbformat_minor": 5
}
