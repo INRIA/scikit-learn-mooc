{
 "cells": [
  {
   "cell_type": "markdown",
   "metadata": {},
   "source": [
    "# Decision tree for regression\n",
    "\n",
    "In this notebook, we present how decision trees are working in regression\n",
    "problems. We show differences with the decision trees previously presented in\n",
    "a classification setting.\n",
    "\n",
    "First, we will load the regression dataset presented at the beginning of this\n",
    "chapter."
   ]
  },
  {
   "cell_type": "code",
   "execution_count": null,
   "metadata": {},
   "outputs": [],
   "source": [
    "import pandas as pd\n",
    "\n",
    "data = pd.read_csv(\"../datasets/penguins_regression.csv\")\n",
    "\n",
    "data_columns = [\"Flipper Length (mm)\"]\n",
    "target_column = \"Body Mass (g)\"\n",
    "\n",
    "X_train, y_train = data[data_columns], data[target_column]"
   ]
  },
  {
   "cell_type": "markdown",
   "metadata": {},
   "source": [
    "To illustrate how decision trees are predicting in a regression setting, we\n",
    "will create a synthetic dataset containing all possible flipper length from\n",
    "the minimum to the maximum of the original data."
   ]
  },
  {
   "cell_type": "code",
   "execution_count": null,
   "metadata": {},
   "outputs": [],
   "source": [
    "import numpy as np\n",
    "\n",
    "X_test = pd.DataFrame(np.arange(X_train[data_columns[0]].min(),\n",
    "                                X_train[data_columns[0]].max()),\n",
    "                      columns=data_columns)"
   ]
  },
  {
   "cell_type": "code",
   "execution_count": null,
   "metadata": {},
   "outputs": [],
   "source": [
    "import seaborn as sns\n",
    "sns.set_context(\"talk\")\n",
    "\n",
    "_ = sns.scatterplot(data=data, x=\"Flipper Length (mm)\", y=\"Body Mass (g)\")"
   ]
  },
  {
   "cell_type": "markdown",
   "metadata": {},
   "source": [
    "We will first illustrate the difference between a linear model and a decision\n",
    "tree."
   ]
  },
  {
   "cell_type": "code",
   "execution_count": null,
   "metadata": {},
   "outputs": [],
   "source": [
    "from sklearn.linear_model import LinearRegression\n",
    "\n",
    "linear_model = LinearRegression()\n",
    "linear_model.fit(X_train, y_train)\n",
    "y_pred = linear_model.predict(X_test)"
   ]
  },
  {
   "cell_type": "code",
   "execution_count": null,
   "metadata": {},
   "outputs": [],
   "source": [
    "import matplotlib.pyplot as plt\n",
    "\n",
    "ax = sns.scatterplot(data=data, x=\"Flipper Length (mm)\", y=\"Body Mass (g)\",\n",
    "                     color=\"black\", alpha=0.5)\n",
    "ax.plot(X_test, y_pred, linewidth=4, label=\"Linear regression\")\n",
    "_ = plt.legend()"
   ]
  },
  {
   "cell_type": "markdown",
   "metadata": {},
   "source": [
    "On the plot above, we see that a non-regularized `LinearRegression` is able\n",
    "to fit the data. A feature of this model is that all new predictions\n",
    "will be on the line."
   ]
  },
  {
   "cell_type": "code",
   "execution_count": null,
   "metadata": {},
   "outputs": [],
   "source": [
    "ax = sns.scatterplot(data=data, x=\"Flipper Length (mm)\", y=\"Body Mass (g)\",\n",
    "                     color=\"black\", alpha=0.5)\n",
    "ax.plot(X_test, y_pred, linewidth=4, label=\"Linear regression\")\n",
    "ax.plot(X_test[::3], y_pred[::3], label=\"Test predictions\",\n",
    "        color=\"tab:orange\", marker=\".\", markersize=15, linestyle=\"\")\n",
    "_ = plt.legend()"
   ]
  },
  {
   "cell_type": "markdown",
   "metadata": {},
   "source": [
    "Contrary to linear models, decision trees are non-parametric models, so they\n",
    "do not make assumptions about the way data are distributed. This will affect\n",
    "the prediction scheme. Repeating the above experiment will highlight the\n",
    "differences."
   ]
  },
  {
   "cell_type": "code",
   "execution_count": null,
   "metadata": {},
   "outputs": [],
   "source": [
    "from sklearn.tree import DecisionTreeRegressor\n",
    "\n",
    "tree = DecisionTreeRegressor(max_depth=1)\n",
    "tree.fit(X_train, y_train)\n",
    "y_pred = tree.predict(X_test)"
   ]
  },
  {
   "cell_type": "code",
   "execution_count": null,
   "metadata": {},
   "outputs": [],
   "source": [
    "ax = sns.scatterplot(data=data, x=\"Flipper Length (mm)\", y=\"Body Mass (g)\",\n",
    "                     color=\"black\", alpha=0.5)\n",
    "ax.plot(X_test, y_pred, linewidth=4, label=\"Decision tree\")\n",
    "_ = plt.legend()"
   ]
  },
  {
   "cell_type": "markdown",
   "metadata": {},
   "source": [
    "We see that the decision tree model does not have a priori distribution for\n",
    "the data and we do not end-up with a straight line to regress flipper length\n",
    "and body mass.\n",
    "\n",
    "Instead, we observe that the predictions of the tree are piecewise constant.\n",
    "Indeed, our feature space was split into two partitions. We can check the\n",
    "tree structure to see what was the threshold found during the training."
   ]
  },
  {
   "cell_type": "code",
   "execution_count": null,
   "metadata": {},
   "outputs": [],
   "source": [
    "from sklearn.tree import plot_tree\n",
    "\n",
    "_, ax = plt.subplots(figsize=(8, 6))\n",
    "_ = plot_tree(tree, feature_names=data_columns, ax=ax)"
   ]
  },
  {
   "cell_type": "markdown",
   "metadata": {},
   "source": [
    "The threshold for our feature (flipper length) is 202.5 mm. The predicted\n",
    "values on each side of the split are two constants: 3683.50 g and 5023.62 g.\n",
    "These values corresponds to the mean values of the training samples in each\n",
    "partition.\n",
    "\n",
    "In classification, we saw that increasing the depth of the tree allowed to\n",
    "get more complex decision boundary. We can check the effect of increasing the\n",
    "depth for decision tree in a regression setting."
   ]
  },
  {
   "cell_type": "code",
   "execution_count": null,
   "metadata": {},
   "outputs": [],
   "source": [
    "tree = DecisionTreeRegressor(max_depth=3)\n",
    "tree.fit(X_train, y_train)\n",
    "y_pred = tree.predict(X_test)"
   ]
  },
  {
   "cell_type": "code",
   "execution_count": null,
   "metadata": {},
   "outputs": [],
   "source": [
    "ax = sns.scatterplot(data=data, x=\"Flipper Length (mm)\", y=\"Body Mass (g)\",\n",
    "                     color=\"black\", alpha=0.5)\n",
    "ax.plot(X_test, y_pred, linewidth=4, label=\"Decision tree\")\n",
    "_ = plt.legend()"
   ]
  },
  {
   "cell_type": "markdown",
   "metadata": {},
   "source": [
    "Increasing the depth of the tree will increase the number of partition and\n",
    "thus the number of constant values that the tree is capable of predicting.\n",
    "\n",
    "In this notebook, we highlighted the between decision tree in classification\n",
    "and in regression."
   ]
  }
 ],
 "metadata": {
  "jupytext": {
   "cell_metadata_filter": "-all",
   "main_language": "python",
   "notebook_metadata_filter": "-all"
  }
 },
 "nbformat": 4,
 "nbformat_minor": 4
}
