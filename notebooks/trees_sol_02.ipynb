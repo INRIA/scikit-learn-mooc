{
 "cells": [
  {
   "cell_type": "markdown",
   "metadata": {},
   "source": [
    "# 📃 Solution for Exercise 02\n",
    "\n",
    "The aim of this exercise is to find out whether or not a model is able to\n",
    "extrapolate.\n",
    "\n",
    "By extrapolation, we refer to values predicted by a model outside of the\n",
    "range of feature values seen during the training.\n",
    "\n",
    "We will first load the regression data."
   ]
  },
  {
   "cell_type": "code",
   "execution_count": null,
   "metadata": {},
   "outputs": [],
   "source": [
    "import pandas as pd\n",
    "\n",
    "data = pd.read_csv(\"../datasets/penguins_regression.csv\")\n",
    "\n",
    "data_columns = [\"Flipper Length (mm)\"]\n",
    "target_column = \"Body Mass (g)\"\n",
    "\n",
    "X_train, y_train = data[data_columns], data[target_column]"
   ]
  },
  {
   "cell_type": "markdown",
   "metadata": {},
   "source": [
    "First, create two models, a linear regression model and a decision tree\n",
    "regression model, and fit them on the training data. Limit the depth at\n",
    "3 levels for the decision tree."
   ]
  },
  {
   "cell_type": "code",
   "execution_count": null,
   "metadata": {},
   "outputs": [],
   "source": [
    "from sklearn.linear_model import LinearRegression\n",
    "from sklearn.tree import DecisionTreeRegressor\n",
    "\n",
    "linear_regression = LinearRegression()\n",
    "tree = DecisionTreeRegressor(max_depth=3)\n",
    "\n",
    "linear_regression.fit(X_train, y_train)\n",
    "tree.fit(X_train, y_train)"
   ]
  },
  {
   "cell_type": "markdown",
   "metadata": {},
   "source": [
    "Create a testing dataset, ranging from the minimum to the maximum of the\n",
    "flipper length of the training dataset. Get the predictions of each model\n",
    "using this test dataset."
   ]
  },
  {
   "cell_type": "code",
   "execution_count": null,
   "metadata": {},
   "outputs": [],
   "source": [
    "import numpy as np\n",
    "\n",
    "X_test = pd.DataFrame(np.arange(X_train[data_columns[0]].min(),\n",
    "                                X_train[data_columns[0]].max()),\n",
    "                      columns=data_columns)"
   ]
  },
  {
   "cell_type": "code",
   "execution_count": null,
   "metadata": {},
   "outputs": [],
   "source": [
    "y_pred_linear_regression = linear_regression.predict(X_test)\n",
    "y_pred_tree = tree.predict(X_test)"
   ]
  },
  {
   "cell_type": "markdown",
   "metadata": {},
   "source": [
    "Create a scatter plot containing the training samples and superimpose the\n",
    "predictions of both model on the top."
   ]
  },
  {
   "cell_type": "code",
   "execution_count": null,
   "metadata": {},
   "outputs": [],
   "source": [
    "import matplotlib.pyplot as plt\n",
    "import seaborn as sns\n",
    "sns.set_context(\"talk\")\n",
    "\n",
    "ax = sns.scatterplot(data=data, x=\"Flipper Length (mm)\", y=\"Body Mass (g)\",\n",
    "                     color=\"black\", alpha=0.5)\n",
    "ax.plot(X_test, y_pred_linear_regression, linewidth=4,\n",
    "        label=\"Linear regression\")\n",
    "ax.plot(X_test, y_pred_tree, linewidth=4, label=\"Decision tree regression\")\n",
    "_ = plt.legend()"
   ]
  },
  {
   "cell_type": "markdown",
   "metadata": {},
   "source": [
    "The predictions that we got were within the range of feature values seen\n",
    "during training. In some sense, we observe the capabilities of our model to\n",
    "interpolate.\n",
    "\n",
    "Now, we will check the extrapolation capabilities of each model. Create a\n",
    "dataset containing the value of your previous dataset. Besides add values\n",
    "below and above the minimum and the maximum of the flipper length seen\n",
    "during training."
   ]
  },
  {
   "cell_type": "code",
   "execution_count": null,
   "metadata": {},
   "outputs": [],
   "source": [
    "offset = 30\n",
    "X_test = pd.DataFrame(np.arange(X_train[data_columns[0]].min() - offset,\n",
    "                                X_train[data_columns[0]].max() + offset),\n",
    "                      columns=data_columns)"
   ]
  },
  {
   "cell_type": "markdown",
   "metadata": {},
   "source": [
    "Finally, make predictions with both models on this new testing set. Repeat\n",
    "the plotting of the previous exercise."
   ]
  },
  {
   "cell_type": "code",
   "execution_count": null,
   "metadata": {},
   "outputs": [],
   "source": [
    "y_pred_linear_regression = linear_regression.predict(X_test)\n",
    "y_pred_tree = tree.predict(X_test)"
   ]
  },
  {
   "cell_type": "code",
   "execution_count": null,
   "metadata": {},
   "outputs": [],
   "source": [
    "import matplotlib.pyplot as plt\n",
    "import seaborn as sns\n",
    "\n",
    "ax = sns.scatterplot(data=data, x=\"Flipper Length (mm)\", y=\"Body Mass (g)\",\n",
    "                     color=\"black\", alpha=0.5)\n",
    "ax.plot(X_test, y_pred_linear_regression, linewidth=4,\n",
    "        label=\"Linear regression\")\n",
    "ax.plot(X_test, y_pred_tree, linewidth=4, label=\"Decision tree regression\")\n",
    "_ = plt.legend()"
   ]
  },
  {
   "cell_type": "markdown",
   "metadata": {},
   "source": [
    "The linear model will extrapolate using the fitted model for flipper lengths\n",
    "< 175 mm and > 235 mm. In fact, we are using the model parametrization to\n",
    "make this predictions.\n",
    "\n",
    "As mentioned, decision trees are non-parametric models and we observe that\n",
    "they cannot extrapolate. For flipper lengths below the minimum, the mass of\n",
    "the penguin in the training data with the shortest flipper length will always\n",
    "be predicted. Similarly, for flipper lengths above the maximum, the mass of\n",
    "the penguin in the training data with the longest flipper will always be\n",
    "predicted."
   ]
  }
 ],
 "metadata": {
  "jupytext": {
   "cell_metadata_filter": "-all",
   "main_language": "python",
   "notebook_metadata_filter": "-all"
  }
 },
 "nbformat": 4,
 "nbformat_minor": 4
}
