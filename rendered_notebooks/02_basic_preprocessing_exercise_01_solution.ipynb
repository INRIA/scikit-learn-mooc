{
 "cells": [
  {
   "cell_type": "markdown",
   "metadata": {},
   "source": [
    "# Solution for Exercise 01\n",
    "\n",
    "The goal of is to compare the performance of our classifier to some baseline\n",
    "classifier that would ignore the input data and instead make constant\n",
    "predictions:"
   ]
  },
  {
   "cell_type": "code",
   "execution_count": 1,
   "metadata": {},
   "outputs": [],
   "source": [
    "import pandas as pd\n",
    "\n",
    "df = pd.read_csv(\n",
    "    \"https://www.openml.org/data/get_csv/1595261/adult-census.csv\")"
   ]
  },
  {
   "cell_type": "code",
   "execution_count": 2,
   "metadata": {},
   "outputs": [],
   "source": [
    "target_name = \"class\"\n",
    "target = df[target_name].to_numpy()\n",
    "data = df.drop(columns=[target_name, \"fnlwgt\"])"
   ]
  },
  {
   "cell_type": "code",
   "execution_count": 3,
   "metadata": {},
   "outputs": [],
   "source": [
    "from sklearn.compose import make_column_selector as selector\n",
    "\n",
    "numerical_columns_selector = selector(dtype_include=[\"int\", \"float\"])\n",
    "numerical_columns = numerical_columns_selector(data)\n",
    "data_numeric = data[numerical_columns]"
   ]
  },
  {
   "cell_type": "code",
   "execution_count": 4,
   "metadata": {},
   "outputs": [],
   "source": [
    "from sklearn.model_selection import train_test_split\n",
    "\n",
    "data_numeric_train, data_numeric_test, target_train, target_test = \\\n",
    "    train_test_split(data_numeric, target, random_state=0)"
   ]
  },
  {
   "cell_type": "code",
   "execution_count": 5,
   "metadata": {},
   "outputs": [
    {
     "name": "stdout",
     "output_type": "stream",
     "text": [
      "0.241\n"
     ]
    }
   ],
   "source": [
    "from sklearn.dummy import DummyClassifier\n",
    "\n",
    "high_revenue_clf = DummyClassifier(strategy=\"constant\",\n",
    "                                   constant=\" >50K\")\n",
    "high_revenue_clf.fit(data_numeric_train, target_train)\n",
    "score = high_revenue_clf.score(data_numeric_test, target_test)\n",
    "print(f\"{score:.3f}\")"
   ]
  },
  {
   "cell_type": "code",
   "execution_count": 6,
   "metadata": {
    "lines_to_next_cell": 2
   },
   "outputs": [
    {
     "name": "stdout",
     "output_type": "stream",
     "text": [
      "0.759\n"
     ]
    }
   ],
   "source": [
    "low_revenue_clf = DummyClassifier(strategy=\"constant\",\n",
    "                                  constant=\" <=50K\")\n",
    "low_revenue_clf.fit(data_numeric_train, target_train)\n",
    "score = low_revenue_clf.score(data_numeric_test, target_test)\n",
    "print(f\"{score:.3f}\")"
   ]
  },
  {
   "cell_type": "code",
   "execution_count": 7,
   "metadata": {},
   "outputs": [
    {
     "name": "stdout",
     "output_type": "stream",
     "text": [
      "0.759\n"
     ]
    }
   ],
   "source": [
    "most_freq_revenue_clf = DummyClassifier(strategy=\"most_frequent\")\n",
    "most_freq_revenue_clf.fit(data_numeric_train, target_train)\n",
    "score = most_freq_revenue_clf.score(data_numeric_test, target_test)\n",
    "print(f\"{score:.3f}\")"
   ]
  },
  {
   "cell_type": "markdown",
   "metadata": {},
   "source": [
    "So 81% accuracy is significantly better than 76% which is the score of a\n",
    "baseline model that would always predict the most frequent class which is the\n",
    "low revenue class: `\" <=50K\"`.\n",
    "\n",
    "In this dataset, we can see that the target classes are imbalanced: almost\n",
    "3/4 of the records are people with a revenue below 50K:"
   ]
  },
  {
   "cell_type": "code",
   "execution_count": 8,
   "metadata": {},
   "outputs": [
    {
     "data": {
      "text/plain": [
       " <=50K    37155\n",
       " >50K     11687\n",
       "Name: class, dtype: int64"
      ]
     },
     "execution_count": 8,
     "metadata": {},
     "output_type": "execute_result"
    }
   ],
   "source": [
    "df[\"class\"].value_counts()"
   ]
  },
  {
   "cell_type": "code",
   "execution_count": 9,
   "metadata": {},
   "outputs": [
    {
     "data": {
      "text/plain": [
       "0.7607182343065395"
      ]
     },
     "execution_count": 9,
     "metadata": {},
     "output_type": "execute_result"
    }
   ],
   "source": [
    "(target == \" <=50K\").mean()"
   ]
  }
 ],
 "metadata": {
  "kernelspec": {
   "display_name": "Python 3",
   "language": "python",
   "name": "python3"
  },
  "language_info": {
   "codemirror_mode": {
    "name": "ipython",
    "version": 3
   },
   "file_extension": ".py",
   "mimetype": "text/x-python",
   "name": "python",
   "nbconvert_exporter": "python",
   "pygments_lexer": "ipython3",
   "version": "3.7.4"
  }
 },
 "nbformat": 4,
 "nbformat_minor": 4
}
