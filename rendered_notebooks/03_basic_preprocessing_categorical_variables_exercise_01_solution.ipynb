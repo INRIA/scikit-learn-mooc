{
 "cells": [
  {
   "cell_type": "markdown",
   "metadata": {},
   "source": [
    "# Solution for Exercise 02\n",
    "\n",
    "The goal of this exercise is to evalutate the impact of using an arbitrary\n",
    "integer encoding for categorical variables along with a linear\n",
    "classification model such as Logistic Regression.\n",
    "\n",
    "To do so, let's try to use `OrdinalEncoder` to preprocess the categorical\n",
    "variables. This preprocessor is assembled in a pipeline with\n",
    "`LogisticRegression`. The performance of the pipeline can be evaluated as\n",
    "usual by cross-validation and then compared to the score obtained when using\n",
    "`OneHotEncoding` or to some other baseline score.\n",
    "\n",
    "Because `OrdinalEncoder` can raise errors if it sees an unknown category at\n",
    "prediction time, we need to pre-compute the list of all possible categories\n",
    "ahead of time:\n",
    "\n",
    "```python\n",
    "categories = [data[column].unique()\n",
    "              for column in data[categorical_columns]]\n",
    "OrdinalEncoder(categories=categories)\n",
    "```"
   ]
  },
  {
   "cell_type": "code",
   "execution_count": 1,
   "metadata": {},
   "outputs": [],
   "source": [
    "import pandas as pd\n",
    "\n",
    "df = pd.read_csv(\n",
    "    \"https://www.openml.org/data/get_csv/1595261/adult-census.csv\")\n",
    "\n",
    "# Or use the local copy:\n",
    "# df = pd.read_csv('../datasets/adult-census.csv')"
   ]
  },
  {
   "cell_type": "code",
   "execution_count": 2,
   "metadata": {},
   "outputs": [],
   "source": [
    "target_name = \"class\"\n",
    "target = df[target_name].to_numpy()\n",
    "data = df.drop(columns=[target_name, \"fnlwgt\"])"
   ]
  },
  {
   "cell_type": "code",
   "execution_count": 3,
   "metadata": {},
   "outputs": [],
   "source": [
    "from sklearn.compose import make_column_selector as selector\n",
    "\n",
    "categorical_columns_selector = selector(dtype_exclude=[\"int\", \"float\"])\n",
    "categorical_columns = categorical_columns_selector(data)\n",
    "data_categorical = data[categorical_columns]"
   ]
  },
  {
   "cell_type": "code",
   "execution_count": 4,
   "metadata": {},
   "outputs": [
    {
     "data": {
      "text/plain": [
       "[array([' Private', ' Local-gov', ' ?', ' Self-emp-not-inc',\n",
       "        ' Federal-gov', ' State-gov', ' Self-emp-inc', ' Without-pay',\n",
       "        ' Never-worked'], dtype=object),\n",
       " array([' 11th', ' HS-grad', ' Assoc-acdm', ' Some-college', ' 10th',\n",
       "        ' Prof-school', ' 7th-8th', ' Bachelors', ' Masters', ' Doctorate',\n",
       "        ' 5th-6th', ' Assoc-voc', ' 9th', ' 12th', ' 1st-4th',\n",
       "        ' Preschool'], dtype=object),\n",
       " array([' Never-married', ' Married-civ-spouse', ' Widowed', ' Divorced',\n",
       "        ' Separated', ' Married-spouse-absent', ' Married-AF-spouse'],\n",
       "       dtype=object),\n",
       " array([' Machine-op-inspct', ' Farming-fishing', ' Protective-serv', ' ?',\n",
       "        ' Other-service', ' Prof-specialty', ' Craft-repair',\n",
       "        ' Adm-clerical', ' Exec-managerial', ' Tech-support', ' Sales',\n",
       "        ' Priv-house-serv', ' Transport-moving', ' Handlers-cleaners',\n",
       "        ' Armed-Forces'], dtype=object),\n",
       " array([' Own-child', ' Husband', ' Not-in-family', ' Unmarried', ' Wife',\n",
       "        ' Other-relative'], dtype=object),\n",
       " array([' Black', ' White', ' Asian-Pac-Islander', ' Other',\n",
       "        ' Amer-Indian-Eskimo'], dtype=object),\n",
       " array([' Male', ' Female'], dtype=object),\n",
       " array([' United-States', ' ?', ' Peru', ' Guatemala', ' Mexico',\n",
       "        ' Dominican-Republic', ' Ireland', ' Germany', ' Philippines',\n",
       "        ' Thailand', ' Haiti', ' El-Salvador', ' Puerto-Rico', ' Vietnam',\n",
       "        ' South', ' Columbia', ' Japan', ' India', ' Cambodia', ' Poland',\n",
       "        ' Laos', ' England', ' Cuba', ' Taiwan', ' Italy', ' Canada',\n",
       "        ' Portugal', ' China', ' Nicaragua', ' Honduras', ' Iran',\n",
       "        ' Scotland', ' Jamaica', ' Ecuador', ' Yugoslavia', ' Hungary',\n",
       "        ' Hong', ' Greece', ' Trinadad&Tobago',\n",
       "        ' Outlying-US(Guam-USVI-etc)', ' France', ' Holand-Netherlands'],\n",
       "       dtype=object)]"
      ]
     },
     "execution_count": 4,
     "metadata": {},
     "output_type": "execute_result"
    }
   ],
   "source": [
    "categories = [\n",
    "    data[column].unique() for column in data[categorical_columns]]\n",
    "\n",
    "categories"
   ]
  },
  {
   "cell_type": "code",
   "execution_count": 5,
   "metadata": {},
   "outputs": [
    {
     "name": "stdout",
     "output_type": "stream",
     "text": [
      "The different scores obtained are: \n",
      "[0.75207288 0.75545092 0.75665438 0.75665438 0.7528665 ]\n"
     ]
    }
   ],
   "source": [
    "from sklearn.model_selection import cross_val_score\n",
    "from sklearn.pipeline import make_pipeline\n",
    "from sklearn.preprocessing import OrdinalEncoder\n",
    "from sklearn.linear_model import LogisticRegression\n",
    "\n",
    "model = make_pipeline(\n",
    "    OrdinalEncoder(categories=categories),\n",
    "    LogisticRegression(solver='lbfgs', max_iter=1000))\n",
    "scores = cross_val_score(model, data_categorical, target)\n",
    "print(f\"The different scores obtained are: \\n{scores}\")"
   ]
  },
  {
   "cell_type": "code",
   "execution_count": 6,
   "metadata": {},
   "outputs": [
    {
     "name": "stdout",
     "output_type": "stream",
     "text": [
      "The accuracy is: 0.755 +- 0.002\n"
     ]
    }
   ],
   "source": [
    "print(f\"The accuracy is: {scores.mean():.3f} +- {scores.std():.3f}\")"
   ]
  },
  {
   "cell_type": "markdown",
   "metadata": {},
   "source": [
    "Using an arbitrary mapping from string labels to integers as done here causes the linear model to make bad assumptions on the relative ordering of  categories.\n",
    "\n",
    "This prevent the model to learning anything predictive enough and the cross-validated score is even lower that the baseline we obtained by ignoring the input data and just always predict the most frequent class:"
   ]
  },
  {
   "cell_type": "code",
   "execution_count": 7,
   "metadata": {},
   "outputs": [
    {
     "name": "stdout",
     "output_type": "stream",
     "text": [
      "The different scores obtained are: \n",
      "[0.76067151 0.76067151 0.76074939 0.76074939 0.76074939]\n",
      "The accuracy is: 0.761 +- 0.000\n"
     ]
    }
   ],
   "source": [
    "from sklearn.dummy import DummyClassifier\n",
    "\n",
    "scores = cross_val_score(DummyClassifier(strategy=\"most_frequent\"),\n",
    "                         data_categorical, target)\n",
    "print(f\"The different scores obtained are: \\n{scores}\")\n",
    "print(f\"The accuracy is: {scores.mean():.3f} +- {scores.std():.3f}\")"
   ]
  },
  {
   "cell_type": "markdown",
   "metadata": {},
   "source": [
    "By comparison, a categorical encoding that does not assume any ordering in the\n",
    "categories can lead to a significantly higher score:"
   ]
  },
  {
   "cell_type": "code",
   "execution_count": 8,
   "metadata": {},
   "outputs": [
    {
     "name": "stdout",
     "output_type": "stream",
     "text": [
      "The different scores obtained are: \n",
      "[0.83222438 0.83560242 0.82872645 0.83312858 0.83466421]\n",
      "The accuracy is: 0.833 +- 0.002\n"
     ]
    }
   ],
   "source": [
    "from sklearn.preprocessing import OneHotEncoder\n",
    "\n",
    "model = make_pipeline(\n",
    "    OneHotEncoder(handle_unknown=\"ignore\"),\n",
    "    LogisticRegression(solver='lbfgs', max_iter=1000))\n",
    "scores = cross_val_score(model, data_categorical, target)\n",
    "print(f\"The different scores obtained are: \\n{scores}\")\n",
    "print(f\"The accuracy is: {scores.mean():.3f} +- {scores.std():.3f}\")"
   ]
  }
 ],
 "metadata": {
  "kernelspec": {
   "display_name": "Python 3",
   "language": "python",
   "name": "python3"
  },
  "language_info": {
   "codemirror_mode": {
    "name": "ipython",
    "version": 3
   },
   "file_extension": ".py",
   "mimetype": "text/x-python",
   "name": "python",
   "nbconvert_exporter": "python",
   "pygments_lexer": "ipython3",
   "version": "3.7.4"
  }
 },
 "nbformat": 4,
 "nbformat_minor": 4
}
