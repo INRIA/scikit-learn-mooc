{
 "cells": [
  {
   "cell_type": "code",
   "execution_count": 1,
   "id": "7ab9b84a",
   "metadata": {
    "_cell_guid": "b1076dfc-b9ad-4769-8c92-a6c4dae69d19",
    "_uuid": "8f2839f25d086af736a60e9eeb907d3b93b6e0e5",
    "execution": {
     "iopub.execute_input": "2022-03-27T08:31:16.989801Z",
     "iopub.status.busy": "2022-03-27T08:31:16.989017Z",
     "iopub.status.idle": "2022-03-27T08:31:16.999744Z",
     "shell.execute_reply": "2022-03-27T08:31:17.000313Z",
     "shell.execute_reply.started": "2022-03-27T08:27:11.859615Z"
    },
    "papermill": {
     "duration": 0.039298,
     "end_time": "2022-03-27T08:31:17.000605",
     "exception": false,
     "start_time": "2022-03-27T08:31:16.961307",
     "status": "completed"
    },
    "tags": []
   },
   "outputs": [
    {
     "name": "stdout",
     "output_type": "stream",
     "text": [
      "/kaggle/input/adultcensus/adult-census.csv\n",
      "/kaggle/input/adultcensus/adult-census-numeric-test.csv\n"
     ]
    }
   ],
   "source": [
    "# This Python 3 environment comes with many helpful analytics libraries installed\n",
    "# It is defined by the kaggle/python Docker image: https://github.com/kaggle/docker-python\n",
    "# For example, here's several helpful packages to load\n",
    "\n",
    "import numpy as np # linear algebra\n",
    "import pandas as pd # data processing, CSV file I/O (e.g. pd.read_csv)\n",
    "\n",
    "# Input data files are available in the read-only \"../input/\" directory\n",
    "# For example, running this (by clicking run or pressing Shift+Enter) will list all files under the input directory\n",
    "\n",
    "import os\n",
    "for dirname, _, filenames in os.walk('/kaggle/input'):\n",
    "    for filename in filenames:\n",
    "        print(os.path.join(dirname, filename))\n",
    "\n",
    "# You can write up to 20GB to the current directory (/kaggle/working/) that gets preserved as output when you create a version using \"Save & Run All\" \n",
    "# You can also write temporary files to /kaggle/temp/, but they won't be saved outside of the current session"
   ]
  },
  {
   "cell_type": "code",
   "execution_count": 2,
   "id": "fa733136",
   "metadata": {
    "execution": {
     "iopub.execute_input": "2022-03-27T08:31:17.041663Z",
     "iopub.status.busy": "2022-03-27T08:31:17.041054Z",
     "iopub.status.idle": "2022-03-27T08:31:17.184270Z",
     "shell.execute_reply": "2022-03-27T08:31:17.184711Z",
     "shell.execute_reply.started": "2022-03-27T08:27:11.880111Z"
    },
    "papermill": {
     "duration": 0.164892,
     "end_time": "2022-03-27T08:31:17.184866",
     "exception": false,
     "start_time": "2022-03-27T08:31:17.019974",
     "status": "completed"
    },
    "tags": []
   },
   "outputs": [
    {
     "data": {
      "text/html": [
       "<div>\n",
       "<style scoped>\n",
       "    .dataframe tbody tr th:only-of-type {\n",
       "        vertical-align: middle;\n",
       "    }\n",
       "\n",
       "    .dataframe tbody tr th {\n",
       "        vertical-align: top;\n",
       "    }\n",
       "\n",
       "    .dataframe thead th {\n",
       "        text-align: right;\n",
       "    }\n",
       "</style>\n",
       "<table border=\"1\" class=\"dataframe\">\n",
       "  <thead>\n",
       "    <tr style=\"text-align: right;\">\n",
       "      <th></th>\n",
       "      <th>age</th>\n",
       "      <th>workclass</th>\n",
       "      <th>education</th>\n",
       "      <th>education-num</th>\n",
       "      <th>marital-status</th>\n",
       "      <th>occupation</th>\n",
       "      <th>relationship</th>\n",
       "      <th>race</th>\n",
       "      <th>sex</th>\n",
       "      <th>capital-gain</th>\n",
       "      <th>capital-loss</th>\n",
       "      <th>hours-per-week</th>\n",
       "      <th>native-country</th>\n",
       "      <th>class</th>\n",
       "    </tr>\n",
       "  </thead>\n",
       "  <tbody>\n",
       "    <tr>\n",
       "      <th>0</th>\n",
       "      <td>25</td>\n",
       "      <td>Private</td>\n",
       "      <td>11th</td>\n",
       "      <td>7</td>\n",
       "      <td>Never-married</td>\n",
       "      <td>Machine-op-inspct</td>\n",
       "      <td>Own-child</td>\n",
       "      <td>Black</td>\n",
       "      <td>Male</td>\n",
       "      <td>0</td>\n",
       "      <td>0</td>\n",
       "      <td>40</td>\n",
       "      <td>United-States</td>\n",
       "      <td>&lt;=50K</td>\n",
       "    </tr>\n",
       "    <tr>\n",
       "      <th>1</th>\n",
       "      <td>38</td>\n",
       "      <td>Private</td>\n",
       "      <td>HS-grad</td>\n",
       "      <td>9</td>\n",
       "      <td>Married-civ-spouse</td>\n",
       "      <td>Farming-fishing</td>\n",
       "      <td>Husband</td>\n",
       "      <td>White</td>\n",
       "      <td>Male</td>\n",
       "      <td>0</td>\n",
       "      <td>0</td>\n",
       "      <td>50</td>\n",
       "      <td>United-States</td>\n",
       "      <td>&lt;=50K</td>\n",
       "    </tr>\n",
       "    <tr>\n",
       "      <th>2</th>\n",
       "      <td>28</td>\n",
       "      <td>Local-gov</td>\n",
       "      <td>Assoc-acdm</td>\n",
       "      <td>12</td>\n",
       "      <td>Married-civ-spouse</td>\n",
       "      <td>Protective-serv</td>\n",
       "      <td>Husband</td>\n",
       "      <td>White</td>\n",
       "      <td>Male</td>\n",
       "      <td>0</td>\n",
       "      <td>0</td>\n",
       "      <td>40</td>\n",
       "      <td>United-States</td>\n",
       "      <td>&gt;50K</td>\n",
       "    </tr>\n",
       "    <tr>\n",
       "      <th>3</th>\n",
       "      <td>44</td>\n",
       "      <td>Private</td>\n",
       "      <td>Some-college</td>\n",
       "      <td>10</td>\n",
       "      <td>Married-civ-spouse</td>\n",
       "      <td>Machine-op-inspct</td>\n",
       "      <td>Husband</td>\n",
       "      <td>Black</td>\n",
       "      <td>Male</td>\n",
       "      <td>7688</td>\n",
       "      <td>0</td>\n",
       "      <td>40</td>\n",
       "      <td>United-States</td>\n",
       "      <td>&gt;50K</td>\n",
       "    </tr>\n",
       "    <tr>\n",
       "      <th>4</th>\n",
       "      <td>18</td>\n",
       "      <td>?</td>\n",
       "      <td>Some-college</td>\n",
       "      <td>10</td>\n",
       "      <td>Never-married</td>\n",
       "      <td>?</td>\n",
       "      <td>Own-child</td>\n",
       "      <td>White</td>\n",
       "      <td>Female</td>\n",
       "      <td>0</td>\n",
       "      <td>0</td>\n",
       "      <td>30</td>\n",
       "      <td>United-States</td>\n",
       "      <td>&lt;=50K</td>\n",
       "    </tr>\n",
       "  </tbody>\n",
       "</table>\n",
       "</div>"
      ],
      "text/plain": [
       "   age   workclass      education  education-num       marital-status  \\\n",
       "0   25     Private           11th              7        Never-married   \n",
       "1   38     Private        HS-grad              9   Married-civ-spouse   \n",
       "2   28   Local-gov     Assoc-acdm             12   Married-civ-spouse   \n",
       "3   44     Private   Some-college             10   Married-civ-spouse   \n",
       "4   18           ?   Some-college             10        Never-married   \n",
       "\n",
       "           occupation relationship    race      sex  capital-gain  \\\n",
       "0   Machine-op-inspct    Own-child   Black     Male             0   \n",
       "1     Farming-fishing      Husband   White     Male             0   \n",
       "2     Protective-serv      Husband   White     Male             0   \n",
       "3   Machine-op-inspct      Husband   Black     Male          7688   \n",
       "4                   ?    Own-child   White   Female             0   \n",
       "\n",
       "   capital-loss  hours-per-week  native-country   class  \n",
       "0             0              40   United-States   <=50K  \n",
       "1             0              50   United-States   <=50K  \n",
       "2             0              40   United-States    >50K  \n",
       "3             0              40   United-States    >50K  \n",
       "4             0              30   United-States   <=50K  "
      ]
     },
     "execution_count": 2,
     "metadata": {},
     "output_type": "execute_result"
    }
   ],
   "source": [
    "import pandas as pd\n",
    "\n",
    "adult_census = pd.read_csv(\"../input/adultcensus/adult-census.csv\")\n",
    "adult_census.head()"
   ]
  },
  {
   "cell_type": "code",
   "execution_count": 3,
   "id": "c8ced350",
   "metadata": {
    "execution": {
     "iopub.execute_input": "2022-03-27T08:31:17.242840Z",
     "iopub.status.busy": "2022-03-27T08:31:17.242145Z",
     "iopub.status.idle": "2022-03-27T08:31:17.244962Z",
     "shell.execute_reply": "2022-03-27T08:31:17.245379Z",
     "shell.execute_reply.started": "2022-03-27T08:27:12.031275Z"
    },
    "papermill": {
     "duration": 0.04326,
     "end_time": "2022-03-27T08:31:17.245523",
     "exception": false,
     "start_time": "2022-03-27T08:31:17.202263",
     "status": "completed"
    },
    "tags": []
   },
   "outputs": [
    {
     "data": {
      "text/html": [
       "<div>\n",
       "<style scoped>\n",
       "    .dataframe tbody tr th:only-of-type {\n",
       "        vertical-align: middle;\n",
       "    }\n",
       "\n",
       "    .dataframe tbody tr th {\n",
       "        vertical-align: top;\n",
       "    }\n",
       "\n",
       "    .dataframe thead th {\n",
       "        text-align: right;\n",
       "    }\n",
       "</style>\n",
       "<table border=\"1\" class=\"dataframe\">\n",
       "  <thead>\n",
       "    <tr style=\"text-align: right;\">\n",
       "      <th></th>\n",
       "      <th>age</th>\n",
       "      <th>workclass</th>\n",
       "      <th>education</th>\n",
       "      <th>marital-status</th>\n",
       "      <th>occupation</th>\n",
       "      <th>relationship</th>\n",
       "      <th>race</th>\n",
       "      <th>sex</th>\n",
       "      <th>capital-gain</th>\n",
       "      <th>capital-loss</th>\n",
       "      <th>hours-per-week</th>\n",
       "      <th>native-country</th>\n",
       "      <th>class</th>\n",
       "    </tr>\n",
       "  </thead>\n",
       "  <tbody>\n",
       "    <tr>\n",
       "      <th>0</th>\n",
       "      <td>25</td>\n",
       "      <td>Private</td>\n",
       "      <td>11th</td>\n",
       "      <td>Never-married</td>\n",
       "      <td>Machine-op-inspct</td>\n",
       "      <td>Own-child</td>\n",
       "      <td>Black</td>\n",
       "      <td>Male</td>\n",
       "      <td>0</td>\n",
       "      <td>0</td>\n",
       "      <td>40</td>\n",
       "      <td>United-States</td>\n",
       "      <td>&lt;=50K</td>\n",
       "    </tr>\n",
       "    <tr>\n",
       "      <th>1</th>\n",
       "      <td>38</td>\n",
       "      <td>Private</td>\n",
       "      <td>HS-grad</td>\n",
       "      <td>Married-civ-spouse</td>\n",
       "      <td>Farming-fishing</td>\n",
       "      <td>Husband</td>\n",
       "      <td>White</td>\n",
       "      <td>Male</td>\n",
       "      <td>0</td>\n",
       "      <td>0</td>\n",
       "      <td>50</td>\n",
       "      <td>United-States</td>\n",
       "      <td>&lt;=50K</td>\n",
       "    </tr>\n",
       "    <tr>\n",
       "      <th>2</th>\n",
       "      <td>28</td>\n",
       "      <td>Local-gov</td>\n",
       "      <td>Assoc-acdm</td>\n",
       "      <td>Married-civ-spouse</td>\n",
       "      <td>Protective-serv</td>\n",
       "      <td>Husband</td>\n",
       "      <td>White</td>\n",
       "      <td>Male</td>\n",
       "      <td>0</td>\n",
       "      <td>0</td>\n",
       "      <td>40</td>\n",
       "      <td>United-States</td>\n",
       "      <td>&gt;50K</td>\n",
       "    </tr>\n",
       "    <tr>\n",
       "      <th>3</th>\n",
       "      <td>44</td>\n",
       "      <td>Private</td>\n",
       "      <td>Some-college</td>\n",
       "      <td>Married-civ-spouse</td>\n",
       "      <td>Machine-op-inspct</td>\n",
       "      <td>Husband</td>\n",
       "      <td>Black</td>\n",
       "      <td>Male</td>\n",
       "      <td>7688</td>\n",
       "      <td>0</td>\n",
       "      <td>40</td>\n",
       "      <td>United-States</td>\n",
       "      <td>&gt;50K</td>\n",
       "    </tr>\n",
       "    <tr>\n",
       "      <th>4</th>\n",
       "      <td>18</td>\n",
       "      <td>?</td>\n",
       "      <td>Some-college</td>\n",
       "      <td>Never-married</td>\n",
       "      <td>?</td>\n",
       "      <td>Own-child</td>\n",
       "      <td>White</td>\n",
       "      <td>Female</td>\n",
       "      <td>0</td>\n",
       "      <td>0</td>\n",
       "      <td>30</td>\n",
       "      <td>United-States</td>\n",
       "      <td>&lt;=50K</td>\n",
       "    </tr>\n",
       "  </tbody>\n",
       "</table>\n",
       "</div>"
      ],
      "text/plain": [
       "   age   workclass      education       marital-status          occupation  \\\n",
       "0   25     Private           11th        Never-married   Machine-op-inspct   \n",
       "1   38     Private        HS-grad   Married-civ-spouse     Farming-fishing   \n",
       "2   28   Local-gov     Assoc-acdm   Married-civ-spouse     Protective-serv   \n",
       "3   44     Private   Some-college   Married-civ-spouse   Machine-op-inspct   \n",
       "4   18           ?   Some-college        Never-married                   ?   \n",
       "\n",
       "  relationship    race      sex  capital-gain  capital-loss  hours-per-week  \\\n",
       "0    Own-child   Black     Male             0             0              40   \n",
       "1      Husband   White     Male             0             0              50   \n",
       "2      Husband   White     Male             0             0              40   \n",
       "3      Husband   Black     Male          7688             0              40   \n",
       "4    Own-child   White   Female             0             0              30   \n",
       "\n",
       "   native-country   class  \n",
       "0   United-States   <=50K  \n",
       "1   United-States   <=50K  \n",
       "2   United-States    >50K  \n",
       "3   United-States    >50K  \n",
       "4   United-States   <=50K  "
      ]
     },
     "execution_count": 3,
     "metadata": {},
     "output_type": "execute_result"
    }
   ],
   "source": [
    "adult_census = adult_census.drop(columns = \"education-num\")\n",
    "adult_census.head()"
   ]
  },
  {
   "cell_type": "code",
   "execution_count": 4,
   "id": "45b3dd25",
   "metadata": {
    "execution": {
     "iopub.execute_input": "2022-03-27T08:31:17.283879Z",
     "iopub.status.busy": "2022-03-27T08:31:17.283076Z",
     "iopub.status.idle": "2022-03-27T08:31:17.301697Z",
     "shell.execute_reply": "2022-03-27T08:31:17.302136Z",
     "shell.execute_reply.started": "2022-03-27T08:27:12.057073Z"
    },
    "papermill": {
     "duration": 0.039365,
     "end_time": "2022-03-27T08:31:17.302275",
     "exception": false,
     "start_time": "2022-03-27T08:31:17.262910",
     "status": "completed"
    },
    "tags": []
   },
   "outputs": [
    {
     "data": {
      "text/html": [
       "<div>\n",
       "<style scoped>\n",
       "    .dataframe tbody tr th:only-of-type {\n",
       "        vertical-align: middle;\n",
       "    }\n",
       "\n",
       "    .dataframe tbody tr th {\n",
       "        vertical-align: top;\n",
       "    }\n",
       "\n",
       "    .dataframe thead th {\n",
       "        text-align: right;\n",
       "    }\n",
       "</style>\n",
       "<table border=\"1\" class=\"dataframe\">\n",
       "  <thead>\n",
       "    <tr style=\"text-align: right;\">\n",
       "      <th></th>\n",
       "      <th>age</th>\n",
       "      <th>workclass</th>\n",
       "      <th>education</th>\n",
       "      <th>marital-status</th>\n",
       "      <th>occupation</th>\n",
       "      <th>relationship</th>\n",
       "      <th>race</th>\n",
       "      <th>sex</th>\n",
       "      <th>capital-gain</th>\n",
       "      <th>capital-loss</th>\n",
       "      <th>hours-per-week</th>\n",
       "      <th>native-country</th>\n",
       "    </tr>\n",
       "  </thead>\n",
       "  <tbody>\n",
       "    <tr>\n",
       "      <th>0</th>\n",
       "      <td>25</td>\n",
       "      <td>Private</td>\n",
       "      <td>11th</td>\n",
       "      <td>Never-married</td>\n",
       "      <td>Machine-op-inspct</td>\n",
       "      <td>Own-child</td>\n",
       "      <td>Black</td>\n",
       "      <td>Male</td>\n",
       "      <td>0</td>\n",
       "      <td>0</td>\n",
       "      <td>40</td>\n",
       "      <td>United-States</td>\n",
       "    </tr>\n",
       "    <tr>\n",
       "      <th>1</th>\n",
       "      <td>38</td>\n",
       "      <td>Private</td>\n",
       "      <td>HS-grad</td>\n",
       "      <td>Married-civ-spouse</td>\n",
       "      <td>Farming-fishing</td>\n",
       "      <td>Husband</td>\n",
       "      <td>White</td>\n",
       "      <td>Male</td>\n",
       "      <td>0</td>\n",
       "      <td>0</td>\n",
       "      <td>50</td>\n",
       "      <td>United-States</td>\n",
       "    </tr>\n",
       "    <tr>\n",
       "      <th>2</th>\n",
       "      <td>28</td>\n",
       "      <td>Local-gov</td>\n",
       "      <td>Assoc-acdm</td>\n",
       "      <td>Married-civ-spouse</td>\n",
       "      <td>Protective-serv</td>\n",
       "      <td>Husband</td>\n",
       "      <td>White</td>\n",
       "      <td>Male</td>\n",
       "      <td>0</td>\n",
       "      <td>0</td>\n",
       "      <td>40</td>\n",
       "      <td>United-States</td>\n",
       "    </tr>\n",
       "    <tr>\n",
       "      <th>3</th>\n",
       "      <td>44</td>\n",
       "      <td>Private</td>\n",
       "      <td>Some-college</td>\n",
       "      <td>Married-civ-spouse</td>\n",
       "      <td>Machine-op-inspct</td>\n",
       "      <td>Husband</td>\n",
       "      <td>Black</td>\n",
       "      <td>Male</td>\n",
       "      <td>7688</td>\n",
       "      <td>0</td>\n",
       "      <td>40</td>\n",
       "      <td>United-States</td>\n",
       "    </tr>\n",
       "    <tr>\n",
       "      <th>4</th>\n",
       "      <td>18</td>\n",
       "      <td>?</td>\n",
       "      <td>Some-college</td>\n",
       "      <td>Never-married</td>\n",
       "      <td>?</td>\n",
       "      <td>Own-child</td>\n",
       "      <td>White</td>\n",
       "      <td>Female</td>\n",
       "      <td>0</td>\n",
       "      <td>0</td>\n",
       "      <td>30</td>\n",
       "      <td>United-States</td>\n",
       "    </tr>\n",
       "  </tbody>\n",
       "</table>\n",
       "</div>"
      ],
      "text/plain": [
       "   age   workclass      education       marital-status          occupation  \\\n",
       "0   25     Private           11th        Never-married   Machine-op-inspct   \n",
       "1   38     Private        HS-grad   Married-civ-spouse     Farming-fishing   \n",
       "2   28   Local-gov     Assoc-acdm   Married-civ-spouse     Protective-serv   \n",
       "3   44     Private   Some-college   Married-civ-spouse   Machine-op-inspct   \n",
       "4   18           ?   Some-college        Never-married                   ?   \n",
       "\n",
       "  relationship    race      sex  capital-gain  capital-loss  hours-per-week  \\\n",
       "0    Own-child   Black     Male             0             0              40   \n",
       "1      Husband   White     Male             0             0              50   \n",
       "2      Husband   White     Male             0             0              40   \n",
       "3      Husband   Black     Male          7688             0              40   \n",
       "4    Own-child   White   Female             0             0              30   \n",
       "\n",
       "   native-country  \n",
       "0   United-States  \n",
       "1   United-States  \n",
       "2   United-States  \n",
       "3   United-States  \n",
       "4   United-States  "
      ]
     },
     "execution_count": 4,
     "metadata": {},
     "output_type": "execute_result"
    }
   ],
   "source": [
    "X, y = adult_census.drop(columns=\"class\"), adult_census[\"class\"]\n",
    "X.head()"
   ]
  },
  {
   "cell_type": "markdown",
   "id": "970ddff0",
   "metadata": {
    "execution": {
     "iopub.execute_input": "2022-03-27T07:25:16.838073Z",
     "iopub.status.busy": "2022-03-27T07:25:16.837798Z",
     "iopub.status.idle": "2022-03-27T07:25:16.845589Z",
     "shell.execute_reply": "2022-03-27T07:25:16.844677Z",
     "shell.execute_reply.started": "2022-03-27T07:25:16.838043Z"
    },
    "papermill": {
     "duration": 0.018037,
     "end_time": "2022-03-27T08:31:17.338226",
     "exception": false,
     "start_time": "2022-03-27T08:31:17.320189",
     "status": "completed"
    },
    "tags": []
   },
   "source": [
    "X - data / features\n",
    "\n",
    "y - target column"
   ]
  },
  {
   "cell_type": "code",
   "execution_count": 5,
   "id": "c5e833dc",
   "metadata": {
    "execution": {
     "iopub.execute_input": "2022-03-27T08:31:17.382067Z",
     "iopub.status.busy": "2022-03-27T08:31:17.381187Z",
     "iopub.status.idle": "2022-03-27T08:31:17.386645Z",
     "shell.execute_reply": "2022-03-27T08:31:17.386197Z",
     "shell.execute_reply.started": "2022-03-27T08:27:12.081155Z"
    },
    "papermill": {
     "duration": 0.030761,
     "end_time": "2022-03-27T08:31:17.386760",
     "exception": false,
     "start_time": "2022-03-27T08:31:17.355999",
     "status": "completed"
    },
    "tags": []
   },
   "outputs": [
    {
     "data": {
      "text/plain": [
       "0         <=50K\n",
       "1         <=50K\n",
       "2          >50K\n",
       "3          >50K\n",
       "4         <=50K\n",
       "          ...  \n",
       "48837     <=50K\n",
       "48838      >50K\n",
       "48839     <=50K\n",
       "48840     <=50K\n",
       "48841      >50K\n",
       "Name: class, Length: 48842, dtype: object"
      ]
     },
     "execution_count": 5,
     "metadata": {},
     "output_type": "execute_result"
    }
   ],
   "source": [
    "y"
   ]
  },
  {
   "cell_type": "code",
   "execution_count": 6,
   "id": "e38400e5",
   "metadata": {
    "execution": {
     "iopub.execute_input": "2022-03-27T08:31:17.430874Z",
     "iopub.status.busy": "2022-03-27T08:31:17.430250Z",
     "iopub.status.idle": "2022-03-27T08:31:17.432946Z",
     "shell.execute_reply": "2022-03-27T08:31:17.433343Z",
     "shell.execute_reply.started": "2022-03-27T08:27:12.091787Z"
    },
    "papermill": {
     "duration": 0.026964,
     "end_time": "2022-03-27T08:31:17.433483",
     "exception": false,
     "start_time": "2022-03-27T08:31:17.406519",
     "status": "completed"
    },
    "tags": []
   },
   "outputs": [
    {
     "data": {
      "text/plain": [
       "age                int64\n",
       "workclass         object\n",
       "education         object\n",
       "marital-status    object\n",
       "occupation        object\n",
       "relationship      object\n",
       "race              object\n",
       "sex               object\n",
       "capital-gain       int64\n",
       "capital-loss       int64\n",
       "hours-per-week     int64\n",
       "native-country    object\n",
       "dtype: object"
      ]
     },
     "execution_count": 6,
     "metadata": {},
     "output_type": "execute_result"
    }
   ],
   "source": [
    "X.dtypes"
   ]
  },
  {
   "cell_type": "code",
   "execution_count": 7,
   "id": "243d7b71",
   "metadata": {
    "execution": {
     "iopub.execute_input": "2022-03-27T08:31:17.476962Z",
     "iopub.status.busy": "2022-03-27T08:31:17.476301Z",
     "iopub.status.idle": "2022-03-27T08:31:17.478916Z",
     "shell.execute_reply": "2022-03-27T08:31:17.479300Z",
     "shell.execute_reply.started": "2022-03-27T08:27:12.103696Z"
    },
    "papermill": {
     "duration": 0.027265,
     "end_time": "2022-03-27T08:31:17.479435",
     "exception": false,
     "start_time": "2022-03-27T08:31:17.452170",
     "status": "completed"
    },
    "tags": []
   },
   "outputs": [
    {
     "data": {
      "text/plain": [
       "array([dtype('int64'), dtype('O')], dtype=object)"
      ]
     },
     "execution_count": 7,
     "metadata": {},
     "output_type": "execute_result"
    }
   ],
   "source": [
    "# Let us check the number of data types\n",
    "X.dtypes.unique()"
   ]
  },
  {
   "cell_type": "code",
   "execution_count": 8,
   "id": "cda983b7",
   "metadata": {
    "execution": {
     "iopub.execute_input": "2022-03-27T08:31:17.527004Z",
     "iopub.status.busy": "2022-03-27T08:31:17.526192Z",
     "iopub.status.idle": "2022-03-27T08:31:17.529063Z",
     "shell.execute_reply": "2022-03-27T08:31:17.529517Z",
     "shell.execute_reply.started": "2022-03-27T08:27:12.113496Z"
    },
    "papermill": {
     "duration": 0.031469,
     "end_time": "2022-03-27T08:31:17.529650",
     "exception": false,
     "start_time": "2022-03-27T08:31:17.498181",
     "status": "completed"
    },
    "tags": []
   },
   "outputs": [
    {
     "data": {
      "text/html": [
       "<div>\n",
       "<style scoped>\n",
       "    .dataframe tbody tr th:only-of-type {\n",
       "        vertical-align: middle;\n",
       "    }\n",
       "\n",
       "    .dataframe tbody tr th {\n",
       "        vertical-align: top;\n",
       "    }\n",
       "\n",
       "    .dataframe thead th {\n",
       "        text-align: right;\n",
       "    }\n",
       "</style>\n",
       "<table border=\"1\" class=\"dataframe\">\n",
       "  <thead>\n",
       "    <tr style=\"text-align: right;\">\n",
       "      <th></th>\n",
       "      <th>age</th>\n",
       "      <th>capital-gain</th>\n",
       "      <th>capital-loss</th>\n",
       "      <th>hours-per-week</th>\n",
       "    </tr>\n",
       "  </thead>\n",
       "  <tbody>\n",
       "    <tr>\n",
       "      <th>0</th>\n",
       "      <td>25</td>\n",
       "      <td>0</td>\n",
       "      <td>0</td>\n",
       "      <td>40</td>\n",
       "    </tr>\n",
       "    <tr>\n",
       "      <th>1</th>\n",
       "      <td>38</td>\n",
       "      <td>0</td>\n",
       "      <td>0</td>\n",
       "      <td>50</td>\n",
       "    </tr>\n",
       "    <tr>\n",
       "      <th>2</th>\n",
       "      <td>28</td>\n",
       "      <td>0</td>\n",
       "      <td>0</td>\n",
       "      <td>40</td>\n",
       "    </tr>\n",
       "    <tr>\n",
       "      <th>3</th>\n",
       "      <td>44</td>\n",
       "      <td>7688</td>\n",
       "      <td>0</td>\n",
       "      <td>40</td>\n",
       "    </tr>\n",
       "    <tr>\n",
       "      <th>4</th>\n",
       "      <td>18</td>\n",
       "      <td>0</td>\n",
       "      <td>0</td>\n",
       "      <td>30</td>\n",
       "    </tr>\n",
       "  </tbody>\n",
       "</table>\n",
       "</div>"
      ],
      "text/plain": [
       "   age  capital-gain  capital-loss  hours-per-week\n",
       "0   25             0             0              40\n",
       "1   38             0             0              50\n",
       "2   28             0             0              40\n",
       "3   44          7688             0              40\n",
       "4   18             0             0              30"
      ]
     },
     "execution_count": 8,
     "metadata": {},
     "output_type": "execute_result"
    }
   ],
   "source": [
    "num_cols = [\"age\", \"capital-gain\", \"capital-loss\", \"hours-per-week\"]\n",
    "X[num_cols].head()"
   ]
  },
  {
   "cell_type": "code",
   "execution_count": 9,
   "id": "2903be6f",
   "metadata": {
    "execution": {
     "iopub.execute_input": "2022-03-27T08:31:17.574675Z",
     "iopub.status.busy": "2022-03-27T08:31:17.573934Z",
     "iopub.status.idle": "2022-03-27T08:31:17.575934Z",
     "shell.execute_reply": "2022-03-27T08:31:17.576300Z",
     "shell.execute_reply.started": "2022-03-27T08:27:12.126676Z"
    },
    "papermill": {
     "duration": 0.027411,
     "end_time": "2022-03-27T08:31:17.576460",
     "exception": false,
     "start_time": "2022-03-27T08:31:17.549049",
     "status": "completed"
    },
    "tags": []
   },
   "outputs": [],
   "source": [
    "numeric_data = X[num_cols]"
   ]
  },
  {
   "cell_type": "markdown",
   "id": "7bcf9220",
   "metadata": {
    "papermill": {
     "duration": 0.019282,
     "end_time": "2022-03-27T08:31:17.616480",
     "exception": false,
     "start_time": "2022-03-27T08:31:17.597198",
     "status": "completed"
    },
    "tags": []
   },
   "source": [
    "## Train-Test-Split"
   ]
  },
  {
   "cell_type": "code",
   "execution_count": 10,
   "id": "61217dcf",
   "metadata": {
    "execution": {
     "iopub.execute_input": "2022-03-27T08:31:17.660330Z",
     "iopub.status.busy": "2022-03-27T08:31:17.659773Z",
     "iopub.status.idle": "2022-03-27T08:31:18.712045Z",
     "shell.execute_reply": "2022-03-27T08:31:18.712608Z",
     "shell.execute_reply.started": "2022-03-27T08:27:12.135461Z"
    },
    "papermill": {
     "duration": 1.076955,
     "end_time": "2022-03-27T08:31:18.712822",
     "exception": false,
     "start_time": "2022-03-27T08:31:17.635867",
     "status": "completed"
    },
    "tags": []
   },
   "outputs": [],
   "source": [
    "from sklearn.model_selection import train_test_split\n",
    "\n",
    "X_train, X_test, y_train, y_test = train_test_split(numeric_data, y, random_state = 42, \n",
    "                                                    test_size = 0.30\n",
    "                                                   )"
   ]
  },
  {
   "cell_type": "code",
   "execution_count": 11,
   "id": "0f295a52",
   "metadata": {
    "execution": {
     "iopub.execute_input": "2022-03-27T08:31:18.785815Z",
     "iopub.status.busy": "2022-03-27T08:31:18.784272Z",
     "iopub.status.idle": "2022-03-27T08:31:18.788559Z",
     "shell.execute_reply": "2022-03-27T08:31:18.784954Z",
     "shell.execute_reply.started": "2022-03-27T08:27:12.563480Z"
    },
    "papermill": {
     "duration": 0.044009,
     "end_time": "2022-03-27T08:31:18.788805",
     "exception": false,
     "start_time": "2022-03-27T08:31:18.744796",
     "status": "completed"
    },
    "tags": []
   },
   "outputs": [
    {
     "name": "stdout",
     "output_type": "stream",
     "text": [
      "Number of samples in testing: 14653 => 30.0% of the original set\n"
     ]
    }
   ],
   "source": [
    "print(f\"Number of samples in testing: {X_test.shape[0]} => \"\n",
    "      f\"{X_test.shape[0] / numeric_data.shape[0] * 100:.1f}% of the\"\n",
    "      f\" original set\")"
   ]
  },
  {
   "cell_type": "code",
   "execution_count": 12,
   "id": "3d6176ba",
   "metadata": {
    "execution": {
     "iopub.execute_input": "2022-03-27T08:31:18.866532Z",
     "iopub.status.busy": "2022-03-27T08:31:18.865687Z",
     "iopub.status.idle": "2022-03-27T08:31:18.869051Z",
     "shell.execute_reply": "2022-03-27T08:31:18.867227Z",
     "shell.execute_reply.started": "2022-03-27T08:27:12.570655Z"
    },
    "papermill": {
     "duration": 0.044488,
     "end_time": "2022-03-27T08:31:18.869191",
     "exception": false,
     "start_time": "2022-03-27T08:31:18.824703",
     "status": "completed"
    },
    "tags": []
   },
   "outputs": [
    {
     "name": "stdout",
     "output_type": "stream",
     "text": [
      "Number of samples in testing: 34189 => 70.0% of the original set\n"
     ]
    }
   ],
   "source": [
    "print(f\"Number of samples in testing: {X_train.shape[0]} => \"\n",
    "      f\"{X_train.shape[0] / numeric_data.shape[0] * 100:.1f}% of the\"\n",
    "      f\" original set\")"
   ]
  },
  {
   "cell_type": "code",
   "execution_count": 13,
   "id": "cb00f68f",
   "metadata": {
    "execution": {
     "iopub.execute_input": "2022-03-27T08:31:18.930374Z",
     "iopub.status.busy": "2022-03-27T08:31:18.928790Z",
     "iopub.status.idle": "2022-03-27T08:31:18.930964Z",
     "shell.execute_reply": "2022-03-27T08:31:18.931403Z",
     "shell.execute_reply.started": "2022-03-27T08:27:12.579136Z"
    },
    "papermill": {
     "duration": 0.027014,
     "end_time": "2022-03-27T08:31:18.931534",
     "exception": false,
     "start_time": "2022-03-27T08:31:18.904520",
     "status": "completed"
    },
    "tags": []
   },
   "outputs": [],
   "source": [
    "# to display nice model diagram\n",
    "from sklearn import set_config\n",
    "set_config(display='diagram')"
   ]
  },
  {
   "cell_type": "code",
   "execution_count": 14,
   "id": "0e4846ba",
   "metadata": {
    "execution": {
     "iopub.execute_input": "2022-03-27T08:31:18.975538Z",
     "iopub.status.busy": "2022-03-27T08:31:18.974969Z",
     "iopub.status.idle": "2022-03-27T08:31:19.043237Z",
     "shell.execute_reply": "2022-03-27T08:31:19.042827Z",
     "shell.execute_reply.started": "2022-03-27T08:27:12.590332Z"
    },
    "papermill": {
     "duration": 0.091529,
     "end_time": "2022-03-27T08:31:19.043349",
     "exception": false,
     "start_time": "2022-03-27T08:31:18.951820",
     "status": "completed"
    },
    "tags": []
   },
   "outputs": [],
   "source": [
    "from sklearn.linear_model import LogisticRegression\n",
    "model = LogisticRegression()"
   ]
  },
  {
   "cell_type": "code",
   "execution_count": 15,
   "id": "3e67391c",
   "metadata": {
    "execution": {
     "iopub.execute_input": "2022-03-27T08:31:19.088967Z",
     "iopub.status.busy": "2022-03-27T08:31:19.088132Z",
     "iopub.status.idle": "2022-03-27T08:31:19.372823Z",
     "shell.execute_reply": "2022-03-27T08:31:19.373918Z",
     "shell.execute_reply.started": "2022-03-27T08:27:12.612943Z"
    },
    "papermill": {
     "duration": 0.310588,
     "end_time": "2022-03-27T08:31:19.374160",
     "exception": false,
     "start_time": "2022-03-27T08:31:19.063572",
     "status": "completed"
    },
    "tags": []
   },
   "outputs": [
    {
     "data": {
      "text/html": [
       "<style>#sk-98f97d5e-8dbd-4c08-a34a-cdd0acd18a9b {color: black;background-color: white;}#sk-98f97d5e-8dbd-4c08-a34a-cdd0acd18a9b pre{padding: 0;}#sk-98f97d5e-8dbd-4c08-a34a-cdd0acd18a9b div.sk-toggleable {background-color: white;}#sk-98f97d5e-8dbd-4c08-a34a-cdd0acd18a9b label.sk-toggleable__label {cursor: pointer;display: block;width: 100%;margin-bottom: 0;padding: 0.3em;box-sizing: border-box;text-align: center;}#sk-98f97d5e-8dbd-4c08-a34a-cdd0acd18a9b div.sk-toggleable__content {max-height: 0;max-width: 0;overflow: hidden;text-align: left;background-color: #f0f8ff;}#sk-98f97d5e-8dbd-4c08-a34a-cdd0acd18a9b div.sk-toggleable__content pre {margin: 0.2em;color: black;border-radius: 0.25em;background-color: #f0f8ff;}#sk-98f97d5e-8dbd-4c08-a34a-cdd0acd18a9b input.sk-toggleable__control:checked~div.sk-toggleable__content {max-height: 200px;max-width: 100%;overflow: auto;}#sk-98f97d5e-8dbd-4c08-a34a-cdd0acd18a9b div.sk-estimator input.sk-toggleable__control:checked~label.sk-toggleable__label {background-color: #d4ebff;}#sk-98f97d5e-8dbd-4c08-a34a-cdd0acd18a9b div.sk-label input.sk-toggleable__control:checked~label.sk-toggleable__label {background-color: #d4ebff;}#sk-98f97d5e-8dbd-4c08-a34a-cdd0acd18a9b input.sk-hidden--visually {border: 0;clip: rect(1px 1px 1px 1px);clip: rect(1px, 1px, 1px, 1px);height: 1px;margin: -1px;overflow: hidden;padding: 0;position: absolute;width: 1px;}#sk-98f97d5e-8dbd-4c08-a34a-cdd0acd18a9b div.sk-estimator {font-family: monospace;background-color: #f0f8ff;border: 1px dotted black;border-radius: 0.25em;box-sizing: border-box;margin-bottom: 0.5em;}#sk-98f97d5e-8dbd-4c08-a34a-cdd0acd18a9b div.sk-estimator:hover {background-color: #d4ebff;}#sk-98f97d5e-8dbd-4c08-a34a-cdd0acd18a9b div.sk-parallel-item::after {content: \"\";width: 100%;border-bottom: 1px solid gray;flex-grow: 1;}#sk-98f97d5e-8dbd-4c08-a34a-cdd0acd18a9b div.sk-label:hover label.sk-toggleable__label {background-color: #d4ebff;}#sk-98f97d5e-8dbd-4c08-a34a-cdd0acd18a9b div.sk-serial::before {content: \"\";position: absolute;border-left: 1px solid gray;box-sizing: border-box;top: 2em;bottom: 0;left: 50%;}#sk-98f97d5e-8dbd-4c08-a34a-cdd0acd18a9b div.sk-serial {display: flex;flex-direction: column;align-items: center;background-color: white;padding-right: 0.2em;padding-left: 0.2em;}#sk-98f97d5e-8dbd-4c08-a34a-cdd0acd18a9b div.sk-item {z-index: 1;}#sk-98f97d5e-8dbd-4c08-a34a-cdd0acd18a9b div.sk-parallel {display: flex;align-items: stretch;justify-content: center;background-color: white;}#sk-98f97d5e-8dbd-4c08-a34a-cdd0acd18a9b div.sk-parallel::before {content: \"\";position: absolute;border-left: 1px solid gray;box-sizing: border-box;top: 2em;bottom: 0;left: 50%;}#sk-98f97d5e-8dbd-4c08-a34a-cdd0acd18a9b div.sk-parallel-item {display: flex;flex-direction: column;position: relative;background-color: white;}#sk-98f97d5e-8dbd-4c08-a34a-cdd0acd18a9b div.sk-parallel-item:first-child::after {align-self: flex-end;width: 50%;}#sk-98f97d5e-8dbd-4c08-a34a-cdd0acd18a9b div.sk-parallel-item:last-child::after {align-self: flex-start;width: 50%;}#sk-98f97d5e-8dbd-4c08-a34a-cdd0acd18a9b div.sk-parallel-item:only-child::after {width: 0;}#sk-98f97d5e-8dbd-4c08-a34a-cdd0acd18a9b div.sk-dashed-wrapped {border: 1px dashed gray;margin: 0 0.4em 0.5em 0.4em;box-sizing: border-box;padding-bottom: 0.4em;background-color: white;position: relative;}#sk-98f97d5e-8dbd-4c08-a34a-cdd0acd18a9b div.sk-label label {font-family: monospace;font-weight: bold;background-color: white;display: inline-block;line-height: 1.2em;}#sk-98f97d5e-8dbd-4c08-a34a-cdd0acd18a9b div.sk-label-container {position: relative;z-index: 2;text-align: center;}#sk-98f97d5e-8dbd-4c08-a34a-cdd0acd18a9b div.sk-container {display: inline-block;position: relative;}</style><div id=\"sk-98f97d5e-8dbd-4c08-a34a-cdd0acd18a9b\" class\"sk-top-container\"><div class=\"sk-container\"><div class=\"sk-item\"><div class=\"sk-estimator sk-toggleable\"><input class=\"sk-toggleable__control sk-hidden--visually\" id=\"d50c75c4-7b06-49da-813b-92cf27e1f7a8\" type=\"checkbox\" checked><label class=\"sk-toggleable__label\" for=\"d50c75c4-7b06-49da-813b-92cf27e1f7a8\">LogisticRegression</label><div class=\"sk-toggleable__content\"><pre>LogisticRegression()</pre></div></div></div></div></div>"
      ],
      "text/plain": [
       "LogisticRegression()"
      ]
     },
     "execution_count": 15,
     "metadata": {},
     "output_type": "execute_result"
    }
   ],
   "source": [
    "model.fit(X_train, y_train)"
   ]
  },
  {
   "cell_type": "code",
   "execution_count": 16,
   "id": "c5e8b20b",
   "metadata": {
    "execution": {
     "iopub.execute_input": "2022-03-27T08:31:19.465356Z",
     "iopub.status.busy": "2022-03-27T08:31:19.464516Z",
     "iopub.status.idle": "2022-03-27T08:31:19.557943Z",
     "shell.execute_reply": "2022-03-27T08:31:19.559249Z",
     "shell.execute_reply.started": "2022-03-27T08:27:12.913234Z"
    },
    "papermill": {
     "duration": 0.143456,
     "end_time": "2022-03-27T08:31:19.559521",
     "exception": false,
     "start_time": "2022-03-27T08:31:19.416065",
     "status": "completed"
    },
    "tags": []
   },
   "outputs": [
    {
     "name": "stdout",
     "output_type": "stream",
     "text": [
      "Accuracy of logistic regression: 0.808\n"
     ]
    }
   ],
   "source": [
    "accuracy = model.score(X_test, y_test)\n",
    "print(f\"Accuracy of logistic regression: {accuracy:.3f}\")"
   ]
  },
  {
   "cell_type": "markdown",
   "id": "aed626cc",
   "metadata": {
    "papermill": {
     "duration": 0.021371,
     "end_time": "2022-03-27T08:31:19.621618",
     "exception": false,
     "start_time": "2022-03-27T08:31:19.600247",
     "status": "completed"
    },
    "tags": []
   },
   "source": [
    "Ｔｈｅ　logistic regression　ｍｏｄｅｌ　ｐｒｅｄｉｃｔｓ　ｔｈｅ　ｒｉｇｈｔ　ｉｎｃｏｍｅ　８／１０　ｔｉｍｅｓ"
   ]
  },
  {
   "cell_type": "code",
   "execution_count": null,
   "id": "e15ea4b2",
   "metadata": {
    "papermill": {
     "duration": 0.020803,
     "end_time": "2022-03-27T08:31:19.663355",
     "exception": false,
     "start_time": "2022-03-27T08:31:19.642552",
     "status": "completed"
    },
    "tags": []
   },
   "outputs": [],
   "source": []
  }
 ],
 "metadata": {
  "kernelspec": {
   "display_name": "Python 3",
   "language": "python",
   "name": "python3"
  },
  "language_info": {
   "codemirror_mode": {
    "name": "ipython",
    "version": 3
   },
   "file_extension": ".py",
   "mimetype": "text/x-python",
   "name": "python",
   "nbconvert_exporter": "python",
   "pygments_lexer": "ipython3",
   "version": "3.7.12"
  },
  "papermill": {
   "default_parameters": {},
   "duration": 11.461961,
   "end_time": "2022-03-27T08:31:20.193067",
   "environment_variables": {},
   "exception": null,
   "input_path": "__notebook__.ipynb",
   "output_path": "__notebook__.ipynb",
   "parameters": {},
   "start_time": "2022-03-27T08:31:08.731106",
   "version": "2.3.3"
  }
 },
 "nbformat": 4,
 "nbformat_minor": 5
}
